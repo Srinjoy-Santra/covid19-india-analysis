{
 "cells": [
  {
   "cell_type": "markdown",
   "metadata": {
    "colab_type": "text",
    "id": "abc4vbtiHtKx"
   },
   "source": [
    "# Importing libraries"
   ]
  },
  {
   "cell_type": "code",
   "execution_count": 1,
   "metadata": {
    "colab": {},
    "colab_type": "code",
    "id": "B6kKILR36dxT"
   },
   "outputs": [],
   "source": [
    "import requests \n",
    "from bs4 import BeautifulSoup \n",
    "import os \n",
    "import numpy as np \n",
    "import matplotlib.pyplot as plt \n",
    "import pandas as pd\n",
    "import gmaps\n",
    "import ipywidgets as widgets\n",
    "key=\"YOUR API KEY\"\n",
    "gmaps.configure(api_key=key)"
   ]
  },
  {
   "cell_type": "markdown",
   "metadata": {
    "colab_type": "text",
    "id": "Hy9XpQiTH2qn"
   },
   "source": [
    "# Importing live dataset"
   ]
  },
  {
   "cell_type": "code",
   "execution_count": 2,
   "metadata": {
    "colab": {},
    "colab_type": "code",
    "id": "q4hOxgsNiiq3"
   },
   "outputs": [],
   "source": [
    "def check(stat):\n",
    "    if all(len(x) == 0 for x in stat):\n",
    "        return 0\n",
    "    return 1\n",
    "def get_response(URL):\n",
    "    response = requests.get(URL).content \n",
    "    soup = BeautifulSoup(response, 'html.parser')\n",
    "    all_rows = soup.find_all('tr') \n",
    "    return all_rows\n",
    "def get_data(all_rows,length,omit,data_type):\n",
    "    extract_contents = lambda row: [x.text.replace('\\n', '') for x in row]\n",
    "    stats = []\n",
    "    flag=0\n",
    "    for row in all_rows: \n",
    "        stat = extract_contents(row.find_all('td'))\n",
    "        if stat: \n",
    "            if len(stat[:-omit]) ==length and check(stat[1:]): \n",
    "                if flag==0:\n",
    "                    header=stat[:-omit]\n",
    "                    flag=1\n",
    "                    continue\n",
    "                stats.append(stat[:-omit])\n",
    "    data=pd.DataFrame(stats)\n",
    "    if data_type=='Travel History':\n",
    "        header[0]='Serial No.'\n",
    "    data.columns=header\n",
    "    return data\n",
    "\n"
   ]
  },
  {
   "cell_type": "code",
   "execution_count": 94,
   "metadata": {
    "colab": {},
    "colab_type": "code",
    "id": "qUPsjKmGk44N"
   },
   "outputs": [],
   "source": [
    "URL=\"https://docs.google.com/spreadsheets/d/e/2PACX-1vSc_2y5N0I67wDU38DjDh35IZSIS30rQf7_NYZhtYYGU1jJYT6_kDx4YpF-qw0LSlGsBYP8pqM_a1Pd/pubhtml\"\n",
    "#contents=get_response(URL)\n",
    "data=get_data(contents,19,7,'Raw_Data')\n",
    "data_death_and_recovered=get_data(contents,15,7,'Death and Recovered')\n",
    "data_travel_history=get_data(contents,11,1,\"Travel History\")\n",
    "data_total_tested=get_data(contents,13,1,'StateWise_Tested_Numbers_Data')"
   ]
  },
  {
   "cell_type": "markdown",
   "metadata": {
    "colab_type": "text",
    "id": "srpVzXUpoGcc"
   },
   "source": [
    "#Organising Live dataset and converting to respective data *types*"
   ]
  },
  {
   "cell_type": "code",
   "execution_count": 95,
   "metadata": {
    "colab": {},
    "colab_type": "code",
    "id": "DfNAYbeUoA45"
   },
   "outputs": [],
   "source": [
    "data=data[:-1]\n",
    "data=data.replace(\"EVACUEES\",\"Evacuees\")\n",
    "data['Date Announced'] = pd.to_datetime(data['Date Announced'], format=\"%d/%m/%Y\")\n",
    "for i in range(len(data)):\n",
    "    if(len(data.loc[i]['Age Bracket'].split(\"-\"))>1):\n",
    "        data.at[i,'Age Bracket']=data.loc[i]['Age Bracket'].split(\"-\")[1]\n",
    "data['Age Bracket']=pd.to_numeric(data['Age Bracket'])"
   ]
  },
  {
   "cell_type": "code",
   "execution_count": 124,
   "metadata": {},
   "outputs": [],
   "source": [
    "data.replace('', np.nan,inplace=True)"
   ]
  },
  {
   "cell_type": "code",
   "execution_count": 96,
   "metadata": {},
   "outputs": [],
   "source": [
    "data_total_tested['Num Isolation Beds']=[row['Num Isolation Beds'].replace(\",\",\"\") for index,row in data_total_tested.iterrows()]\n",
    "data_total_tested['Total Tested']=pd.to_numeric(data_total_tested['Total Tested'])\n",
    "data_total_tested = data_total_tested[data_total_tested['Total Tested'].notna()]\n",
    "data_total_tested['Positive']=pd.to_numeric(data_total_tested['Positive'])\n",
    "data_total_tested['Negative']=pd.to_numeric(data_total_tested['Negative'])\n",
    "data_total_tested['Unconfirmed']=pd.to_numeric(data_total_tested['Unconfirmed'])\n",
    "data_total_tested['Total People In Quarantine']=pd.to_numeric(data_total_tested['Total People In Quarantine'])\n",
    "data_total_tested['Num Isolation_Beds']=pd.to_numeric(data_total_tested['Num Isolation Beds'])\n",
    "data_total_tested['Num ICU_Beds']=pd.to_numeric(data_total_tested['Num ICU Beds'])\n",
    "data_total_tested['Num Ventilators']=pd.to_numeric(data_total_tested['Num Ventilators'])"
   ]
  },
  {
   "cell_type": "markdown",
   "metadata": {
    "colab_type": "text",
    "id": "-XnDTNyEJ4yj"
   },
   "source": [
    "# Detected cases\n",
    "\n",
    "\n",
    "1. State\n",
    "2. Gender\n",
    "3. Nationality\n",
    "\n",
    "\n"
   ]
  },
  {
   "cell_type": "code",
   "execution_count": 31,
   "metadata": {
    "colab": {
     "base_uri": "https://localhost:8080/",
     "height": 554
    },
    "colab_type": "code",
    "id": "HAVQdlSZ6dx9",
    "outputId": "e98f9142-e9d7-4f5c-f7cf-eda4e3892c37"
   },
   "outputs": [
    {
     "data": {
      "text/plain": [
       "Detected State\n",
       "Maharashtra                    1364\n",
       "Tamil Nadu                      834\n",
       "Delhi                           720\n",
       "Rajasthan                       489\n",
       "Telangana                       471\n",
       "Madhya Pradesh                  411\n",
       "Uttar Pradesh                   410\n",
       "Andhra Pradesh                  365\n",
       "Kerala                          356\n",
       "Gujarat                         308\n",
       "Karnataka                       197\n",
       "Jammu and Kashmir               184\n",
       "Haryana                         175\n",
       "Punjab                          130\n",
       "West Bengal                     116\n",
       "Bihar                            60\n",
       "Odisha                           48\n",
       "Uttarakhand                      35\n",
       "Assam                            29\n",
       "Himachal Pradesh                 28\n",
       "Chhattisgarh                     18\n",
       "Chandigarh                       18\n",
       "Ladakh                           15\n",
       "Jharkhand                        14\n",
       "Andaman and Nicobar Islands      11\n",
       "Goa                               7\n",
       "Puducherry                        5\n",
       "Manipur                           2\n",
       "Dadra and Nagar Haveli            1\n",
       "Mizoram                           1\n",
       "Arunachal Pradesh                 1\n",
       "Tripura                           1\n",
       "dtype: int64"
      ]
     },
     "execution_count": 31,
     "metadata": {},
     "output_type": "execute_result"
    }
   ],
   "source": [
    "detected_cases = data.groupby(\"Detected State\").size()\n",
    "detected_cases.sort_values(ascending=False)"
   ]
  },
  {
   "cell_type": "code",
   "execution_count": 32,
   "metadata": {
    "colab": {
     "base_uri": "https://localhost:8080/",
     "height": 101
    },
    "colab_type": "code",
    "id": "hzV71KJNK0ly",
    "outputId": "2613246a-e865-4155-b6ca-2401f3dedb42"
   },
   "outputs": [
    {
     "data": {
      "text/plain": [
       "Gender\n",
       "     5143\n",
       "F     456\n",
       "M    1225\n",
       "dtype: int64"
      ]
     },
     "execution_count": 32,
     "metadata": {},
     "output_type": "execute_result"
    }
   ],
   "source": [
    "data.groupby(\"Gender\").size()"
   ]
  },
  {
   "cell_type": "code",
   "execution_count": 33,
   "metadata": {
    "colab": {
     "base_uri": "https://localhost:8080/",
     "height": 235
    },
    "colab_type": "code",
    "id": "663J-o1dLOJe",
    "outputId": "51fc5835-a925-405e-ce39-bf44c3edba3c"
   },
   "outputs": [
    {
     "data": {
      "text/plain": [
       "Nationality\n",
       "                            5643\n",
       "India                       1122\n",
       "Italy                         18\n",
       "Indonesia                     15\n",
       "Indian                         9\n",
       "United Kingdom                 7\n",
       "Thailand                       2\n",
       "Phillipines                    2\n",
       "United States of America       1\n",
       "Tibet                          1\n",
       "Myanmar                        1\n",
       "Malaysia                       1\n",
       "Indai                          1\n",
       "Canada                         1\n",
       "dtype: int64"
      ]
     },
     "execution_count": 33,
     "metadata": {},
     "output_type": "execute_result"
    }
   ],
   "source": [
    "detected_nationality = data.groupby(\"Nationality\").size()\n",
    "detected_nationality.sort_values(ascending=False)"
   ]
  },
  {
   "cell_type": "markdown",
   "metadata": {
    "colab_type": "text",
    "id": "aqfwC7pALdOL"
   },
   "source": [
    "# Plots"
   ]
  },
  {
   "cell_type": "code",
   "execution_count": 34,
   "metadata": {
    "colab": {
     "base_uri": "https://localhost:8080/",
     "height": 282
    },
    "colab_type": "code",
    "id": "uzg7-4Hy6dza",
    "outputId": "71b1992e-3689-40aa-ac76-5d277fb699d2"
   },
   "outputs": [
    {
     "data": {
      "text/plain": [
       "[<matplotlib.lines.Line2D at 0x1e0823889b0>]"
      ]
     },
     "execution_count": 34,
     "metadata": {},
     "output_type": "execute_result"
    },
    {
     "data": {
      "image/png": "[encoded data removed]",
      "text/plain": [
       "<Figure size 432x288 with 1 Axes>"
      ]
     },
     "metadata": {
      "needs_background": "light"
     },
     "output_type": "display_data"
    }
   ],
   "source": [
    "x=np.array(data.groupby(\"Date Announced\").size())\n",
    "plt.plot(x, marker='o')"
   ]
  },
  {
   "cell_type": "markdown",
   "metadata": {
    "colab_type": "text",
    "id": "Q_Pfp2kGMQGU"
   },
   "source": [
    "## Analysis of data"
   ]
  },
  {
   "cell_type": "code",
   "execution_count": 122,
   "metadata": {
    "colab": {
     "base_uri": "https://localhost:8080/",
     "height": 336
    },
    "colab_type": "code",
    "collapsed": true,
    "id": "k2mT33wS7jhP",
    "outputId": "9e4e2311-4489-4cf1-b32b-36e2d4edfa56"
   },
   "outputs": [
    {
     "data": {
      "text/plain": [
       "Age Bracket\n",
       "      107\n",
       "1       1\n",
       "25      1\n",
       "30      1\n",
       "36      1\n",
       "38      1\n",
       "40      1\n",
       "41      2\n",
       "42      2\n",
       "44      2\n",
       "45      4\n",
       "46      2\n",
       "47      3\n",
       "48      2\n",
       "49      2\n",
       "50      4\n",
       "51      2\n",
       "52      8\n",
       "53      2\n",
       "54      4\n",
       "55      7\n",
       "56      2\n",
       "57      2\n",
       "58      2\n",
       "59      2\n",
       "60      4\n",
       "61      2\n",
       "62      4\n",
       "63      1\n",
       "64      3\n",
       "65     10\n",
       "66      1\n",
       "67      8\n",
       "68      2\n",
       "69      2\n",
       "70      3\n",
       "71      1\n",
       "72      4\n",
       "73      1\n",
       "75      4\n",
       "77      1\n",
       "78      2\n",
       "80      5\n",
       "85      3\n",
       "86      1\n",
       "dtype: int64"
      ]
     },
     "execution_count": 122,
     "metadata": {},
     "output_type": "execute_result"
    }
   ],
   "source": [
    "detected_nationality = data_death_and_recovered.groupby([\"Age Bracket\",\"Patient Status\"]).size()\n",
    "detected_nationality[:,\"Deceased\"]"
   ]
  },
  {
   "cell_type": "markdown",
   "metadata": {},
   "source": [
    "Population Pyramid for infections"
   ]
  },
  {
   "cell_type": "code",
   "execution_count": 141,
   "metadata": {},
   "outputs": [],
   "source": [
    "df_age = data[['Gender', 'Age Bracket']].copy()\n",
    "df_age.dropna(how='any', subset=['Gender', 'Age Bracket'],inplace=True)"
   ]
  },
  {
   "cell_type": "code",
   "execution_count": 142,
   "metadata": {},
   "outputs": [],
   "source": [
    "df_age['age'] = df_age.apply(lambda x : pd.to_numeric((x['Age Bracket'])),axis=1)"
   ]
  },
  {
   "cell_type": "code",
   "execution_count": 143,
   "metadata": {
    "collapsed": true
   },
   "outputs": [
    {
     "name": "stdout",
     "output_type": "stream",
     "text": [
      "     Gender  Age Bracket   age     age_group\n",
      "2         M         45.0  45.0  (40.0, 50.0]\n",
      "3         M         24.0  24.0  (20.0, 30.0]\n",
      "4         M         69.0  69.0  (60.0, 70.0]\n",
      "19        F         70.0  70.0  (60.0, 70.0]\n",
      "22        F         45.0  45.0  (40.0, 50.0]\n",
      "24        M         16.0  16.0  (10.0, 20.0]\n",
      "27        M         27.0  27.0  (20.0, 30.0]\n",
      "28        M         59.0  59.0  (50.0, 60.0]\n",
      "30        M         65.0  65.0  (60.0, 70.0]\n",
      "31        M         75.0  75.0  (70.0, 80.0]\n",
      "32        M         45.0  45.0  (40.0, 50.0]\n",
      "33        M         24.0  24.0  (20.0, 30.0]\n",
      "34        M         54.0  54.0  (50.0, 60.0]\n",
      "35        F         53.0  53.0  (50.0, 60.0]\n",
      "36        M         65.0  65.0  (60.0, 70.0]\n",
      "37        F         61.0  61.0  (60.0, 70.0]\n",
      "38        F         25.0  25.0  (20.0, 30.0]\n",
      "39        F         63.0  63.0  (60.0, 70.0]\n",
      "41        M          3.0   3.0   (0.0, 10.0]\n",
      "45        M         48.0  48.0  (40.0, 50.0]\n",
      "49        M         40.0  40.0  (30.0, 40.0]\n",
      "51        F         13.0  13.0  (10.0, 20.0]\n",
      "54        M         96.0  96.0           NaN\n",
      "55        F         89.0  89.0  (80.0, 90.0]\n",
      "58        F          3.0   3.0   (0.0, 10.0]\n",
      "61        M         85.0  85.0  (80.0, 90.0]\n",
      "62        M         46.0  46.0  (40.0, 50.0]\n",
      "64        M         70.0  70.0  (60.0, 70.0]\n",
      "65        F         68.0  68.0  (60.0, 70.0]\n",
      "69        M         27.0  27.0  (20.0, 30.0]\n",
      "...     ...          ...   ...           ...\n",
      "6206      M         50.0  50.0  (40.0, 50.0]\n",
      "6207      M         55.0  55.0  (50.0, 60.0]\n",
      "6208      M         68.0  68.0  (60.0, 70.0]\n",
      "6209      M         32.0  32.0  (30.0, 40.0]\n",
      "6210      M          4.0   4.0   (0.0, 10.0]\n",
      "6211      M         13.0  13.0  (10.0, 20.0]\n",
      "6212      F          9.0   9.0   (0.0, 10.0]\n",
      "6213      M         19.0  19.0  (10.0, 20.0]\n",
      "6214      M         27.0  27.0  (20.0, 30.0]\n",
      "6215      F         48.0  48.0  (40.0, 50.0]\n",
      "6216      F         42.0  42.0  (40.0, 50.0]\n",
      "6217      F         74.0  74.0  (70.0, 80.0]\n",
      "6218      M         63.0  63.0  (60.0, 70.0]\n",
      "6277      M         13.0  13.0  (10.0, 20.0]\n",
      "6278      F         75.0  75.0  (70.0, 80.0]\n",
      "6279      F         21.0  21.0  (20.0, 30.0]\n",
      "6280      F         35.0  35.0  (30.0, 40.0]\n",
      "6281      M         19.0  19.0  (10.0, 20.0]\n",
      "6282      M         14.0  14.0  (10.0, 20.0]\n",
      "6283      F          8.0   8.0   (0.0, 10.0]\n",
      "6284      M         46.0  46.0  (40.0, 50.0]\n",
      "6685      F         19.0  19.0  (10.0, 20.0]\n",
      "6686      F         22.0  22.0  (20.0, 30.0]\n",
      "6687      F         25.0  25.0  (20.0, 30.0]\n",
      "6688      F         19.0  19.0  (10.0, 20.0]\n",
      "6689      F         11.0  11.0  (10.0, 20.0]\n",
      "6690      M         19.0  19.0  (10.0, 20.0]\n",
      "6691      M         60.0  60.0  (50.0, 60.0]\n",
      "6768      F         10.0  10.0   (0.0, 10.0]\n",
      "6769      M         28.0  28.0  (20.0, 30.0]\n",
      "\n",
      "[1015 rows x 4 columns]\n"
     ]
    }
   ],
   "source": [
    "# Putting data into age groups\n",
    "bins = [x for x in range(0,100,10)]\n",
    "df_age['age_group'] = pd.cut(df_age['age'], bins=bins)\n",
    "print(df_age)"
   ]
  },
  {
   "cell_type": "code",
   "execution_count": 144,
   "metadata": {
    "collapsed": true
   },
   "outputs": [
    {
     "data": {
      "text/html": [
       "<div>\n",
       "<style scoped>\n",
       "    .dataframe tbody tr th:only-of-type {\n",
       "        vertical-align: middle;\n",
       "    }\n",
       "\n",
       "    .dataframe tbody tr th {\n",
       "        vertical-align: top;\n",
       "    }\n",
       "\n",
       "    .dataframe thead th {\n",
       "        text-align: right;\n",
       "    }\n",
       "</style>\n",
       "<table border=\"1\" class=\"dataframe\">\n",
       "  <thead>\n",
       "    <tr style=\"text-align: right;\">\n",
       "      <th></th>\n",
       "      <th>age_group</th>\n",
       "      <th>Gender</th>\n",
       "      <th>count</th>\n",
       "    </tr>\n",
       "  </thead>\n",
       "  <tbody>\n",
       "    <tr>\n",
       "      <th>0</th>\n",
       "      <td>(0, 10]</td>\n",
       "      <td>F</td>\n",
       "      <td>-14</td>\n",
       "    </tr>\n",
       "    <tr>\n",
       "      <th>1</th>\n",
       "      <td>(0, 10]</td>\n",
       "      <td>M</td>\n",
       "      <td>15</td>\n",
       "    </tr>\n",
       "    <tr>\n",
       "      <th>2</th>\n",
       "      <td>(10, 20]</td>\n",
       "      <td>F</td>\n",
       "      <td>-25</td>\n",
       "    </tr>\n",
       "    <tr>\n",
       "      <th>3</th>\n",
       "      <td>(10, 20]</td>\n",
       "      <td>M</td>\n",
       "      <td>54</td>\n",
       "    </tr>\n",
       "    <tr>\n",
       "      <th>4</th>\n",
       "      <td>(20, 30]</td>\n",
       "      <td>F</td>\n",
       "      <td>-60</td>\n",
       "    </tr>\n",
       "    <tr>\n",
       "      <th>5</th>\n",
       "      <td>(20, 30]</td>\n",
       "      <td>M</td>\n",
       "      <td>148</td>\n",
       "    </tr>\n",
       "    <tr>\n",
       "      <th>6</th>\n",
       "      <td>(30, 40]</td>\n",
       "      <td>F</td>\n",
       "      <td>-39</td>\n",
       "    </tr>\n",
       "    <tr>\n",
       "      <th>7</th>\n",
       "      <td>(30, 40]</td>\n",
       "      <td>M</td>\n",
       "      <td>205</td>\n",
       "    </tr>\n",
       "    <tr>\n",
       "      <th>8</th>\n",
       "      <td>(40, 50]</td>\n",
       "      <td>F</td>\n",
       "      <td>-38</td>\n",
       "    </tr>\n",
       "    <tr>\n",
       "      <th>9</th>\n",
       "      <td>(40, 50]</td>\n",
       "      <td>M</td>\n",
       "      <td>126</td>\n",
       "    </tr>\n",
       "    <tr>\n",
       "      <th>10</th>\n",
       "      <td>(50, 60]</td>\n",
       "      <td>F</td>\n",
       "      <td>-41</td>\n",
       "    </tr>\n",
       "    <tr>\n",
       "      <th>11</th>\n",
       "      <td>(50, 60]</td>\n",
       "      <td>M</td>\n",
       "      <td>100</td>\n",
       "    </tr>\n",
       "    <tr>\n",
       "      <th>12</th>\n",
       "      <td>(60, 70]</td>\n",
       "      <td>F</td>\n",
       "      <td>-41</td>\n",
       "    </tr>\n",
       "    <tr>\n",
       "      <th>13</th>\n",
       "      <td>(60, 70]</td>\n",
       "      <td>M</td>\n",
       "      <td>69</td>\n",
       "    </tr>\n",
       "    <tr>\n",
       "      <th>14</th>\n",
       "      <td>(70, 80]</td>\n",
       "      <td>F</td>\n",
       "      <td>-14</td>\n",
       "    </tr>\n",
       "    <tr>\n",
       "      <th>15</th>\n",
       "      <td>(70, 80]</td>\n",
       "      <td>M</td>\n",
       "      <td>17</td>\n",
       "    </tr>\n",
       "    <tr>\n",
       "      <th>16</th>\n",
       "      <td>(80, 90]</td>\n",
       "      <td>F</td>\n",
       "      <td>-3</td>\n",
       "    </tr>\n",
       "    <tr>\n",
       "      <th>17</th>\n",
       "      <td>(80, 90]</td>\n",
       "      <td>M</td>\n",
       "      <td>4</td>\n",
       "    </tr>\n",
       "  </tbody>\n",
       "</table>\n",
       "</div>"
      ],
      "text/plain": [
       "   age_group Gender  count\n",
       "0    (0, 10]      F    -14\n",
       "1    (0, 10]      M     15\n",
       "2   (10, 20]      F    -25\n",
       "3   (10, 20]      M     54\n",
       "4   (20, 30]      F    -60\n",
       "5   (20, 30]      M    148\n",
       "6   (30, 40]      F    -39\n",
       "7   (30, 40]      M    205\n",
       "8   (40, 50]      F    -38\n",
       "9   (40, 50]      M    126\n",
       "10  (50, 60]      F    -41\n",
       "11  (50, 60]      M    100\n",
       "12  (60, 70]      F    -41\n",
       "13  (60, 70]      M     69\n",
       "14  (70, 80]      F    -14\n",
       "15  (70, 80]      M     17\n",
       "16  (80, 90]      F     -3\n",
       "17  (80, 90]      M      4"
      ]
     },
     "execution_count": 144,
     "metadata": {},
     "output_type": "execute_result"
    }
   ],
   "source": [
    "# Convert groupby to dataframe\n",
    "ndf = pd.DataFrame({'count' : df_age.groupby(['age_group', 'Gender']).size()}).reset_index()\n",
    "# convert count values of females to negative\n",
    "ndf.loc[ndf.Gender == 'F', 'count']=-ndf.loc[ndf.Gender == 'F', 'count']\n",
    "ndf"
   ]
  },
  {
   "cell_type": "code",
   "execution_count": 145,
   "metadata": {},
   "outputs": [
    {
     "data": {
      "image/png": "[encoded data removed]",
      "text/plain": [
       "<Figure size 1040x800 with 1 Axes>"
      ]
     },
     "metadata": {
      "needs_background": "light"
     },
     "output_type": "display_data"
    }
   ],
   "source": [
    "import seaborn as sns\n",
    "\n",
    "# Draw Plot\n",
    "plt.figure(figsize=(13,10), dpi= 80)\n",
    "group_col = 'Gender'\n",
    "order_of_bars = ndf['age_group'].unique()[::-1]\n",
    "colors = [plt.cm.Spectral(i/float(len(ndf[group_col].unique())-1)) for i in range(len(ndf[group_col].unique()))]\n",
    "\n",
    "#print(colors, ndf[group_col].unique())\n",
    "for c, group in zip(colors, ndf[group_col].unique()):\n",
    "    sns.barplot(x='count', y='age_group', data=ndf.loc[ndf[group_col]==group, :], order=order_of_bars, color=c, label=group)\n",
    "\n",
    "# Decorations    \n",
    "plt.xlabel(\"$Count$\")\n",
    "plt.ylabel(\"Age Group\")\n",
    "plt.yticks(fontsize=12)\n",
    "plt.title(\"Population Pyramid\", fontsize=22)\n",
    "plt.legend()\n",
    "plt.show()"
   ]
  },
  {
   "cell_type": "markdown",
   "metadata": {},
   "source": [
    "average age of corona infected patients"
   ]
  },
  {
   "cell_type": "code",
   "execution_count": 146,
   "metadata": {
    "colab": {
     "base_uri": "https://localhost:8080/",
     "height": 34
    },
    "colab_type": "code",
    "id": "OP9GRU31-D9N",
    "outputId": "a0857fc9-6ca5-416c-83b3-41bd8fe2971a"
   },
   "outputs": [
    {
     "data": {
      "text/plain": [
       "40.54930875576037"
      ]
     },
     "execution_count": 146,
     "metadata": {},
     "output_type": "execute_result"
    }
   ],
   "source": [
    "age=data['Age Bracket']\n",
    "age=age.dropna()\n",
    "sum(age)/len(age)\n",
    "\n"
   ]
  },
  {
   "cell_type": "code",
   "execution_count": 37,
   "metadata": {
    "colab": {
     "base_uri": "https://localhost:8080/",
     "height": 34
    },
    "colab_type": "code",
    "id": "xFIvStdbEy0h",
    "outputId": "d7373d3d-04c3-4ed8-b7dc-a3f4f4131e46"
   },
   "outputs": [
    {
     "data": {
      "text/plain": [
       "0.24242424242424243"
      ]
     },
     "execution_count": 37,
     "metadata": {},
     "output_type": "execute_result"
    }
   ],
   "source": [
    "gender_status = data.groupby([\"Gender\",\"Current Status\"]).size()\n",
    "gender_status['F',\"Deceased\"]/(gender_status['F',\"Deceased\"]+gender_status['F',\"Recovered\"])"
   ]
  },
  {
   "cell_type": "code",
   "execution_count": 38,
   "metadata": {
    "colab": {
     "base_uri": "https://localhost:8080/",
     "height": 101
    },
    "colab_type": "code",
    "id": "F5MMXAooFQxt",
    "outputId": "290f2d4f-a8d0-402c-955e-421c2398efaa"
   },
   "outputs": [
    {
     "data": {
      "text/plain": [
       "Gender\n",
       "     0.041667\n",
       "F    0.242424\n",
       "M    0.276923\n",
       "dtype: float64"
      ]
     },
     "execution_count": 38,
     "metadata": {},
     "output_type": "execute_result"
    }
   ],
   "source": [
    "gender_status[:,\"Deceased\"]/(gender_status[:,\"Deceased\"]+gender_status[:,\"Recovered\"])"
   ]
  },
  {
   "cell_type": "markdown",
   "metadata": {
    "colab_type": "text",
    "id": "GEjWIPBd_TJz"
   },
   "source": [
    "Percentage of positive cases"
   ]
  },
  {
   "cell_type": "code",
   "execution_count": 107,
   "metadata": {
    "colab": {
     "base_uri": "https://localhost:8080/",
     "height": 639
    },
    "colab_type": "code",
    "id": "G5mWVJjx2M_g",
    "outputId": "3ad9d801-83cd-4279-bdfe-e804d4f1900b"
   },
   "outputs": [],
   "source": [
    "percentage=pd.DataFrame(0,columns=['Total Tested','Positive','Negative','Percentage'],index=[keys for keys in data_total_tested.groupby('State').size().keys()])\n",
    "for index,rows in data_total_tested.iterrows():\n",
    "        percentage.loc[rows['State']]['Total Tested']=rows['Total Tested']\n",
    "        percentage.loc[rows['State']]['Positive']=rows['Positive']\n",
    "        percentage.loc[rows['State']]['Negative']=rows['Negative']\n",
    "percentage['Percentage']=percentage['Positive']/percentage['Total Tested']\n",
    "percentage.sort_values(by='Total Tested',ascending=False)"
   ]
  },
  {
   "cell_type": "markdown",
   "metadata": {
    "colab_type": "text",
    "id": "1Z6QwW1JK8kq"
   },
   "source": [
    "# Save in a list, all the cluster of patient\n",
    "\n"
   ]
  },
  {
   "cell_type": "code",
   "execution_count": 111,
   "metadata": {
    "colab": {},
    "colab_type": "code",
    "id": "9_f0TecQQCKE"
   },
   "outputs": [],
   "source": [
    "cluster=[]\n",
    "for index, rows in data.iterrows(): \n",
    "    if(len(rows['Contracted from which Patient (Suspected)'])>0):\n",
    "        contracted_from=rows['Contracted from which Patient (Suspected)'].split(',')\n",
    "        contracted_from.append(\"P\"+rows['Patient Number'])\n",
    "        cluster.append(contracted_from)\n",
    "    else:\n",
    "        cluster.append([\"P\"+rows['Patient Number']])"
   ]
  },
  {
   "cell_type": "markdown",
   "metadata": {
    "colab_type": "text",
    "id": "kk_PtjewLboR"
   },
   "source": [
    "Removing sublists from the entire list"
   ]
  },
  {
   "cell_type": "code",
   "execution_count": 112,
   "metadata": {
    "colab": {},
    "colab_type": "code",
    "id": "SwHRAUlCPxZS"
   },
   "outputs": [],
   "source": [
    "def removeSublist(lst): \n",
    "    curr_res = [] \n",
    "    result = [] \n",
    "    for ele in sorted(map(set, lst), key = len, reverse = True): \n",
    "        if not any(ele <= req for req in curr_res): \n",
    "            curr_res.append(ele) \n",
    "            result.append(list(ele)) \n",
    "          \n",
    "    return result \n",
    "      \n",
    "# Driver code \n",
    "cluster=removeSublist(cluster)"
   ]
  },
  {
   "cell_type": "markdown",
   "metadata": {
    "colab_type": "text",
    "id": "VYTYkq9ILkwE"
   },
   "source": [
    "Finding all connected components and creating Graph"
   ]
  },
  {
   "cell_type": "code",
   "execution_count": 113,
   "metadata": {
    "colab": {},
    "colab_type": "code",
    "id": "gMe7jF1FXi6p"
   },
   "outputs": [],
   "source": [
    "import networkx as nx \n",
    "G=nx.Graph()\n",
    "for l in cluster:\n",
    "    nx.add_path(G, l)\n",
    "connected_components=list(nx.connected_components(G))"
   ]
  },
  {
   "cell_type": "markdown",
   "metadata": {
    "colab_type": "text",
    "id": "v_s9bUEbLs5R"
   },
   "source": [
    "Removing all connected components having no. of nodes less than"
   ]
  },
  {
   "cell_type": "code",
   "execution_count": 114,
   "metadata": {
    "colab": {
     "base_uri": "https://localhost:8080/",
     "height": 272
    },
    "colab_type": "code",
    "id": "aAv6sD1R9BZ_",
    "outputId": "2909bb1c-846b-4a42-f82b-0fc0cde5442a"
   },
   "outputs": [
    {
     "name": "stdout",
     "output_type": "stream",
     "text": [
      "{'P37', 'P38', ' P37', 'P39', 'P50', 'P35', 'P49', 'P58', ' P36', 'P36', 'P59', 'P555', 'P57', ' P38', 'P56'}\n",
      "15\n",
      "{'P1178', 'P1186', 'P1188', 'P1180', 'P1182', 'P1187', 'P1176', 'P301', 'P1177', 'P1079', 'P1174', 'P1175', 'P1078', 'P1077', 'P750', 'P653', 'P1183', 'P1184', 'P1076', 'P1181', 'P751', ' P302', 'P749', 'P502', 'P1179', 'P1185', 'P748'}\n",
      "27\n",
      "{'P17', 'P6', 'P14', 'P19', 'P8', 'P9', 'P12', 'P7', 'P20', 'P13', 'P28', 'P16', 'P11', 'P10', 'P21', 'P18', 'P15'}\n",
      "17\n",
      "{'P533', 'P359', 'P306', 'P182', 'P639', 'P305', 'P535', 'P309', 'P304', 'P311', 'P388', 'P361', 'P802', 'P358', 'P488', 'P360', 'P801', 'P534', 'P307', 'P308', 'P687', 'P800'}\n",
      "22\n",
      "{'P761', 'P676', 'P981', 'P677', 'P979', 'P1048', 'P980', 'P762', 'E1', 'P675', 'P763', 'P933'}\n",
      "12\n",
      "{'P769', 'P764', 'P766', 'P770', 'P771', 'P775', 'P767', 'P768', 'P765', 'P772', 'P774', 'P773'}\n",
      "12\n",
      "{'P3243', 'P1716', 'P1951', 'P1015', 'P4365', 'P1213', 'P2483', 'P689', 'P6210', 'P1421', 'P6211', 'P4370', 'P1214', 'P1014', 'P2482', 'P1422', 'P1950', 'P1717', 'P2484', 'P1718', 'P6209', 'P1017', 'P1212', 'P1215', 'P1013', 'P1016'}\n",
      "26\n",
      "{'P3099', 'P3102', 'P2868', 'P3072', 'P3100', 'P3101', 'P3074', 'P3075', 'P2869', 'P3073', 'P3103', 'P3076'}\n",
      "12\n"
     ]
    }
   ],
   "source": [
    "threshold_lower=10\n",
    "threshold_upper=50\n",
    "remove=nx.Graph()\n",
    "for c in nx.connected_components(G):\n",
    "    if(len(c)<threshold_lower or len(c)>threshold_upper):\n",
    "        remove.add_nodes_from(c)\n",
    "    else:\n",
    "        print(c)\n",
    "        print(len(c))\n",
    "G.remove_nodes_from(remove)"
   ]
  },
  {
   "cell_type": "markdown",
   "metadata": {
    "colab_type": "text",
    "id": "R1V0jb5vMDR7"
   },
   "source": [
    "# Plotting Clusters"
   ]
  },
  {
   "cell_type": "code",
   "execution_count": 115,
   "metadata": {
    "colab": {
     "base_uri": "https://localhost:8080/",
     "height": 1000
    },
    "colab_type": "code",
    "id": "pKTG6MhKYKe1",
    "outputId": "dd8e3b63-0175-404c-bfdc-b04558d3ea4e"
   },
   "outputs": [
    {
     "name": "stderr",
     "output_type": "stream",
     "text": [
      "C:\\Users\\user\\.conda\\envs\\tcs\\lib\\site-packages\\networkx\\drawing\\nx_pylab.py:611: MatplotlibDeprecationWarning: isinstance(..., numbers.Number)\n",
      "  if cb.is_numlike(alpha):\n"
     ]
    },
    {
     "data": {
      "image/png": "[encoded data removed]",
      "text/plain": [
       "<Figure size 1440x1440 with 1 Axes>"
      ]
     },
     "metadata": {},
     "output_type": "display_data"
    }
   ],
   "source": [
    "pos = nx.spring_layout(G, scale=1)\n",
    "plt.figure(3,figsize=(20,20)) \n",
    "nx.draw(G, pos, node_color='lightblue', node_size=50, with_labels=True)"
   ]
  },
  {
   "cell_type": "markdown",
   "metadata": {
    "colab_type": "text",
    "id": "39BI8vwrMIn5"
   },
   "source": [
    "# Super Spreaders\n",
    "\n",
    "\n"
   ]
  },
  {
   "cell_type": "code",
   "execution_count": 116,
   "metadata": {
    "colab": {
     "base_uri": "https://localhost:8080/",
     "height": 968
    },
    "colab_type": "code",
    "collapsed": true,
    "id": "yeO1gXX5AcDI",
    "outputId": "d9ecea90-af37-4a66-a936-748d163fcfb7"
   },
   "outputs": [
    {
     "data": {
      "text/html": [
       "<div>\n",
       "<style scoped>\n",
       "    .dataframe tbody tr th:only-of-type {\n",
       "        vertical-align: middle;\n",
       "    }\n",
       "\n",
       "    .dataframe tbody tr th {\n",
       "        vertical-align: top;\n",
       "    }\n",
       "\n",
       "    .dataframe thead th {\n",
       "        text-align: right;\n",
       "    }\n",
       "</style>\n",
       "<table border=\"1\" class=\"dataframe\">\n",
       "  <thead>\n",
       "    <tr style=\"text-align: right;\">\n",
       "      <th></th>\n",
       "      <th>spreading_factor</th>\n",
       "      <th>Patient Number</th>\n",
       "      <th>State Patient Number</th>\n",
       "      <th>Date Announced</th>\n",
       "      <th>Age Bracket</th>\n",
       "      <th>Gender</th>\n",
       "      <th>Detected City</th>\n",
       "      <th>Detected District</th>\n",
       "      <th>Detected State</th>\n",
       "      <th>State code</th>\n",
       "      <th>Current Status</th>\n",
       "      <th>Notes</th>\n",
       "      <th>Contracted from which Patient (Suspected)</th>\n",
       "      <th>Nationality</th>\n",
       "      <th>Type of transmission</th>\n",
       "      <th>Status Change Date</th>\n",
       "      <th>Source_1</th>\n",
       "      <th>Source_2</th>\n",
       "      <th>Source_3</th>\n",
       "      <th>Backup Notes</th>\n",
       "    </tr>\n",
       "  </thead>\n",
       "  <tbody>\n",
       "    <tr>\n",
       "      <th>6</th>\n",
       "      <td>20</td>\n",
       "      <td>182</td>\n",
       "      <td>PJ-P2</td>\n",
       "      <td>2020-03-19</td>\n",
       "      <td>70.0</td>\n",
       "      <td>M</td>\n",
       "      <td>Banga</td>\n",
       "      <td>Shahid Bhagat Singh Nagar</td>\n",
       "      <td>Punjab</td>\n",
       "      <td>PB</td>\n",
       "      <td>Deceased</td>\n",
       "      <td>Travelled from Germany via Italy</td>\n",
       "      <td></td>\n",
       "      <td>India</td>\n",
       "      <td>Imported</td>\n",
       "      <td>19/03/2020</td>\n",
       "      <td>https://www.indiatoday.in/india/story/coronavi...</td>\n",
       "      <td>https://www.latestly.com/india/news/baldev-sin...</td>\n",
       "      <td>https://punjabupdate.com/media-bulletin-21-03-...</td>\n",
       "      <td>Arrived from Germany via Italy</td>\n",
       "    </tr>\n",
       "    <tr>\n",
       "      <th>5</th>\n",
       "      <td>16</td>\n",
       "      <td>6</td>\n",
       "      <td></td>\n",
       "      <td>2020-03-03</td>\n",
       "      <td>69.0</td>\n",
       "      <td>M</td>\n",
       "      <td>Jaipur</td>\n",
       "      <td>Italians*</td>\n",
       "      <td>Rajasthan</td>\n",
       "      <td>RJ</td>\n",
       "      <td>Recovered</td>\n",
       "      <td>Travelled from Italy</td>\n",
       "      <td></td>\n",
       "      <td>Italy</td>\n",
       "      <td>Imported</td>\n",
       "      <td>03/03/2020</td>\n",
       "      <td>https://indianexpress.com/article/india/corona...</td>\n",
       "      <td>https://economictimes.indiatimes.com/news/poli...</td>\n",
       "      <td>https://twitter.com/PTI_News/status/1240878975...</td>\n",
       "      <td>Italian tourist</td>\n",
       "    </tr>\n",
       "    <tr>\n",
       "      <th>8</th>\n",
       "      <td>16</td>\n",
       "      <td>689</td>\n",
       "      <td>KA-P52</td>\n",
       "      <td>2020-03-26</td>\n",
       "      <td>35.0</td>\n",
       "      <td>M</td>\n",
       "      <td></td>\n",
       "      <td>Mysuru</td>\n",
       "      <td>Karnataka</td>\n",
       "      <td>KA</td>\n",
       "      <td>Hospitalized</td>\n",
       "      <td>Had been in contact with healthcare profession...</td>\n",
       "      <td></td>\n",
       "      <td>India</td>\n",
       "      <td>TBD</td>\n",
       "      <td>26/03/2020</td>\n",
       "      <td>https://twitter.com/DHFWKA/status/124310447054...</td>\n",
       "      <td></td>\n",
       "      <td></td>\n",
       "      <td></td>\n",
       "    </tr>\n",
       "    <tr>\n",
       "      <th>3</th>\n",
       "      <td>15</td>\n",
       "      <td>301</td>\n",
       "      <td>TN-P5</td>\n",
       "      <td>2020-03-21</td>\n",
       "      <td>69.0</td>\n",
       "      <td>M</td>\n",
       "      <td>Perundurai</td>\n",
       "      <td>Erode</td>\n",
       "      <td>Tamil Nadu</td>\n",
       "      <td>TN</td>\n",
       "      <td>Hospitalized</td>\n",
       "      <td>Travelled from Phuket to New Delhi to Erode ra...</td>\n",
       "      <td></td>\n",
       "      <td>Thailand</td>\n",
       "      <td>Imported</td>\n",
       "      <td>21/03/2020</td>\n",
       "      <td>https://twitter.com/Vijayabaskarofl/status/124...</td>\n",
       "      <td></td>\n",
       "      <td></td>\n",
       "      <td>Details awaited</td>\n",
       "    </tr>\n",
       "    <tr>\n",
       "      <th>7</th>\n",
       "      <td>11</td>\n",
       "      <td>764</td>\n",
       "      <td></td>\n",
       "      <td>2020-03-27</td>\n",
       "      <td>NaN</td>\n",
       "      <td></td>\n",
       "      <td></td>\n",
       "      <td>Sangli</td>\n",
       "      <td>Maharashtra</td>\n",
       "      <td>MH</td>\n",
       "      <td>Hospitalized</td>\n",
       "      <td>Related to a previous patient from Sangli - Ta...</td>\n",
       "      <td></td>\n",
       "      <td>India</td>\n",
       "      <td>Local</td>\n",
       "      <td>27/03/2020</td>\n",
       "      <td>https://twitter.com/ANI/status/124347964054443...</td>\n",
       "      <td></td>\n",
       "      <td></td>\n",
       "      <td></td>\n",
       "    </tr>\n",
       "    <tr>\n",
       "      <th>12</th>\n",
       "      <td>11</td>\n",
       "      <td>2868</td>\n",
       "      <td></td>\n",
       "      <td>2020-04-03</td>\n",
       "      <td>NaN</td>\n",
       "      <td>M</td>\n",
       "      <td></td>\n",
       "      <td>Morena</td>\n",
       "      <td>Madhya Pradesh</td>\n",
       "      <td>MP</td>\n",
       "      <td>Hospitalized</td>\n",
       "      <td>Travelled from Dubai; hosted feast for 1500 pe...</td>\n",
       "      <td></td>\n",
       "      <td></td>\n",
       "      <td>Imported</td>\n",
       "      <td>03/04/2020</td>\n",
       "      <td>https://twitter.com/PTI_News/status/1246054117...</td>\n",
       "      <td>https://www.ndtv.com/india-news/coronavirus-ma...</td>\n",
       "      <td></td>\n",
       "      <td></td>\n",
       "    </tr>\n",
       "    <tr>\n",
       "      <th>4</th>\n",
       "      <td>8</td>\n",
       "      <td>502</td>\n",
       "      <td>TN-P12</td>\n",
       "      <td>2020-03-23</td>\n",
       "      <td>54.0</td>\n",
       "      <td>M</td>\n",
       "      <td>Madurai</td>\n",
       "      <td>Madurai</td>\n",
       "      <td>Tamil Nadu</td>\n",
       "      <td>TN</td>\n",
       "      <td>Deceased</td>\n",
       "      <td>Annanagar at Rajaji Hosp. No mention of travel...</td>\n",
       "      <td>P301, P302</td>\n",
       "      <td>India</td>\n",
       "      <td>Local</td>\n",
       "      <td>25/03/2020</td>\n",
       "      <td>https://twitter.com/Vijayabaskarofl/status/124...</td>\n",
       "      <td>https://www.oneindia.com/india/coronavirus-ind...</td>\n",
       "      <td></td>\n",
       "      <td></td>\n",
       "    </tr>\n",
       "    <tr>\n",
       "      <th>0</th>\n",
       "      <td>5</td>\n",
       "      <td>35</td>\n",
       "      <td>KL-PT-P1</td>\n",
       "      <td>2020-03-08</td>\n",
       "      <td>24.0</td>\n",
       "      <td>M</td>\n",
       "      <td>Ranni</td>\n",
       "      <td>Pathanamthitta</td>\n",
       "      <td>Kerala</td>\n",
       "      <td>KL</td>\n",
       "      <td>Recovered</td>\n",
       "      <td>Travelled from Italy on 29/02/2020 through Doha</td>\n",
       "      <td></td>\n",
       "      <td>India</td>\n",
       "      <td>Imported</td>\n",
       "      <td>27/03/2020</td>\n",
       "      <td>https://indianexpress.com/article/india/corona...</td>\n",
       "      <td>https://www.google.com/url?sa=t&amp;rct=j&amp;q=&amp;esrc=...</td>\n",
       "      <td>http://dhs.kerala.gov.in/wp-content/uploads/20...</td>\n",
       "      <td>Travel from Italy on 29/02/2020 through Doha</td>\n",
       "    </tr>\n",
       "    <tr>\n",
       "      <th>2</th>\n",
       "      <td>5</td>\n",
       "      <td>36</td>\n",
       "      <td>KL-PT-P1</td>\n",
       "      <td>2020-03-08</td>\n",
       "      <td>54.0</td>\n",
       "      <td>M</td>\n",
       "      <td>Ranni</td>\n",
       "      <td>Pathanamthitta</td>\n",
       "      <td>Kerala</td>\n",
       "      <td>KL</td>\n",
       "      <td>Recovered</td>\n",
       "      <td>Travelled from Italy on 29/02/2020 through Doha</td>\n",
       "      <td>P35</td>\n",
       "      <td>India</td>\n",
       "      <td>Imported</td>\n",
       "      <td>29/03/2020</td>\n",
       "      <td>https://www.indiatoday.in/india/story/coronavi...</td>\n",
       "      <td>https://www.google.com/url?sa=t&amp;rct=j&amp;q=&amp;esrc=...</td>\n",
       "      <td>http://dhs.kerala.gov.in/wp-content/uploads/20...</td>\n",
       "      <td>Travel from Italy on 29/02/2020 through Doha</td>\n",
       "    </tr>\n",
       "    <tr>\n",
       "      <th>9</th>\n",
       "      <td>4</td>\n",
       "      <td>1076</td>\n",
       "      <td>TN-P43</td>\n",
       "      <td>2020-03-29</td>\n",
       "      <td>29.0</td>\n",
       "      <td>F</td>\n",
       "      <td></td>\n",
       "      <td>Coimbatore</td>\n",
       "      <td>Tamil Nadu</td>\n",
       "      <td>TN</td>\n",
       "      <td>Recovered</td>\n",
       "      <td>Contact of TN-P26</td>\n",
       "      <td>P653</td>\n",
       "      <td>India</td>\n",
       "      <td>Local</td>\n",
       "      <td>06/04/2020</td>\n",
       "      <td>https://twitter.com/Vijayabaskarofl/status/124...</td>\n",
       "      <td>https://www.thenewsminute.com/article/10-month...</td>\n",
       "      <td></td>\n",
       "      <td></td>\n",
       "    </tr>\n",
       "    <tr>\n",
       "      <th>1</th>\n",
       "      <td>3</td>\n",
       "      <td>56</td>\n",
       "      <td>KL-PT-P5</td>\n",
       "      <td>2020-03-10</td>\n",
       "      <td>96.0</td>\n",
       "      <td>M</td>\n",
       "      <td>Ranni</td>\n",
       "      <td>Pathanamthitta</td>\n",
       "      <td>Kerala</td>\n",
       "      <td>KL</td>\n",
       "      <td>Recovered</td>\n",
       "      <td>Father of P36</td>\n",
       "      <td>P36, P37, P38</td>\n",
       "      <td>India</td>\n",
       "      <td>Local</td>\n",
       "      <td>31/03/2020</td>\n",
       "      <td>https://english.mathrubhumi.com/news/kerala/co...</td>\n",
       "      <td>https://timesofindia.indiatimes.com/videos/cit...</td>\n",
       "      <td>https://english.manoramaonline.com/news/kerala...</td>\n",
       "      <td>Father of P36</td>\n",
       "    </tr>\n",
       "    <tr>\n",
       "      <th>10</th>\n",
       "      <td>3</td>\n",
       "      <td>1215</td>\n",
       "      <td>KA-P88</td>\n",
       "      <td>2020-03-30</td>\n",
       "      <td>24.0</td>\n",
       "      <td>M</td>\n",
       "      <td></td>\n",
       "      <td>Mysuru</td>\n",
       "      <td>Karnataka</td>\n",
       "      <td>KA</td>\n",
       "      <td>Hospitalized</td>\n",
       "      <td>Resident of Nanjangud - Working with P52</td>\n",
       "      <td>P689</td>\n",
       "      <td>India</td>\n",
       "      <td>Local</td>\n",
       "      <td>30/03/2020</td>\n",
       "      <td>https://twitter.com/ANI/status/124460492526013...</td>\n",
       "      <td></td>\n",
       "      <td></td>\n",
       "      <td></td>\n",
       "    </tr>\n",
       "    <tr>\n",
       "      <th>11</th>\n",
       "      <td>3</td>\n",
       "      <td>1717</td>\n",
       "      <td>KA-P104</td>\n",
       "      <td>2020-04-01</td>\n",
       "      <td>27.0</td>\n",
       "      <td>M</td>\n",
       "      <td>Nanjangud</td>\n",
       "      <td>Mysuru</td>\n",
       "      <td>Karnataka</td>\n",
       "      <td>KA</td>\n",
       "      <td>Hospitalized</td>\n",
       "      <td>Pharma company employee</td>\n",
       "      <td>P689</td>\n",
       "      <td>India</td>\n",
       "      <td>Local</td>\n",
       "      <td>01/04/2020</td>\n",
       "      <td>https://twitter.com/sriramulubjp/status/124526...</td>\n",
       "      <td></td>\n",
       "      <td></td>\n",
       "      <td></td>\n",
       "    </tr>\n",
       "  </tbody>\n",
       "</table>\n",
       "</div>"
      ],
      "text/plain": [
       "    spreading_factor Patient Number State Patient Number Date Announced  \\\n",
       "6                 20            182                PJ-P2     2020-03-19   \n",
       "5                 16              6                          2020-03-03   \n",
       "8                 16            689               KA-P52     2020-03-26   \n",
       "3                 15            301                TN-P5     2020-03-21   \n",
       "7                 11            764                          2020-03-27   \n",
       "12                11           2868                          2020-04-03   \n",
       "4                  8            502               TN-P12     2020-03-23   \n",
       "0                  5             35             KL-PT-P1     2020-03-08   \n",
       "2                  5             36             KL-PT-P1     2020-03-08   \n",
       "9                  4           1076               TN-P43     2020-03-29   \n",
       "1                  3             56             KL-PT-P5     2020-03-10   \n",
       "10                 3           1215               KA-P88     2020-03-30   \n",
       "11                 3           1717              KA-P104     2020-04-01   \n",
       "\n",
       "    Age Bracket Gender Detected City          Detected District  \\\n",
       "6          70.0      M         Banga  Shahid Bhagat Singh Nagar   \n",
       "5          69.0      M        Jaipur                  Italians*   \n",
       "8          35.0      M                                   Mysuru   \n",
       "3          69.0      M    Perundurai                      Erode   \n",
       "7           NaN                                          Sangli   \n",
       "12          NaN      M                                   Morena   \n",
       "4          54.0      M       Madurai                    Madurai   \n",
       "0          24.0      M         Ranni             Pathanamthitta   \n",
       "2          54.0      M         Ranni             Pathanamthitta   \n",
       "9          29.0      F                               Coimbatore   \n",
       "1          96.0      M         Ranni             Pathanamthitta   \n",
       "10         24.0      M                                   Mysuru   \n",
       "11         27.0      M     Nanjangud                     Mysuru   \n",
       "\n",
       "    Detected State State code Current Status  \\\n",
       "6           Punjab         PB       Deceased   \n",
       "5        Rajasthan         RJ      Recovered   \n",
       "8        Karnataka         KA   Hospitalized   \n",
       "3       Tamil Nadu         TN   Hospitalized   \n",
       "7      Maharashtra         MH   Hospitalized   \n",
       "12  Madhya Pradesh         MP   Hospitalized   \n",
       "4       Tamil Nadu         TN       Deceased   \n",
       "0           Kerala         KL      Recovered   \n",
       "2           Kerala         KL      Recovered   \n",
       "9       Tamil Nadu         TN      Recovered   \n",
       "1           Kerala         KL      Recovered   \n",
       "10       Karnataka         KA   Hospitalized   \n",
       "11       Karnataka         KA   Hospitalized   \n",
       "\n",
       "                                                Notes  \\\n",
       "6                    Travelled from Germany via Italy   \n",
       "5                                Travelled from Italy   \n",
       "8   Had been in contact with healthcare profession...   \n",
       "3   Travelled from Phuket to New Delhi to Erode ra...   \n",
       "7   Related to a previous patient from Sangli - Ta...   \n",
       "12  Travelled from Dubai; hosted feast for 1500 pe...   \n",
       "4   Annanagar at Rajaji Hosp. No mention of travel...   \n",
       "0     Travelled from Italy on 29/02/2020 through Doha   \n",
       "2     Travelled from Italy on 29/02/2020 through Doha   \n",
       "9                                   Contact of TN-P26   \n",
       "1                                       Father of P36   \n",
       "10           Resident of Nanjangud - Working with P52   \n",
       "11                            Pharma company employee   \n",
       "\n",
       "   Contracted from which Patient (Suspected) Nationality Type of transmission  \\\n",
       "6                                                  India             Imported   \n",
       "5                                                  Italy             Imported   \n",
       "8                                                  India                  TBD   \n",
       "3                                               Thailand             Imported   \n",
       "7                                                  India                Local   \n",
       "12                                                                   Imported   \n",
       "4                                 P301, P302       India                Local   \n",
       "0                                                  India             Imported   \n",
       "2                                        P35       India             Imported   \n",
       "9                                       P653       India                Local   \n",
       "1                              P36, P37, P38       India                Local   \n",
       "10                                      P689       India                Local   \n",
       "11                                      P689       India                Local   \n",
       "\n",
       "   Status Change Date                                           Source_1  \\\n",
       "6          19/03/2020  https://www.indiatoday.in/india/story/coronavi...   \n",
       "5          03/03/2020  https://indianexpress.com/article/india/corona...   \n",
       "8          26/03/2020  https://twitter.com/DHFWKA/status/124310447054...   \n",
       "3          21/03/2020  https://twitter.com/Vijayabaskarofl/status/124...   \n",
       "7          27/03/2020  https://twitter.com/ANI/status/124347964054443...   \n",
       "12         03/04/2020  https://twitter.com/PTI_News/status/1246054117...   \n",
       "4          25/03/2020  https://twitter.com/Vijayabaskarofl/status/124...   \n",
       "0          27/03/2020  https://indianexpress.com/article/india/corona...   \n",
       "2          29/03/2020  https://www.indiatoday.in/india/story/coronavi...   \n",
       "9          06/04/2020  https://twitter.com/Vijayabaskarofl/status/124...   \n",
       "1          31/03/2020  https://english.mathrubhumi.com/news/kerala/co...   \n",
       "10         30/03/2020  https://twitter.com/ANI/status/124460492526013...   \n",
       "11         01/04/2020  https://twitter.com/sriramulubjp/status/124526...   \n",
       "\n",
       "                                             Source_2  \\\n",
       "6   https://www.latestly.com/india/news/baldev-sin...   \n",
       "5   https://economictimes.indiatimes.com/news/poli...   \n",
       "8                                                       \n",
       "3                                                       \n",
       "7                                                       \n",
       "12  https://www.ndtv.com/india-news/coronavirus-ma...   \n",
       "4   https://www.oneindia.com/india/coronavirus-ind...   \n",
       "0   https://www.google.com/url?sa=t&rct=j&q=&esrc=...   \n",
       "2   https://www.google.com/url?sa=t&rct=j&q=&esrc=...   \n",
       "9   https://www.thenewsminute.com/article/10-month...   \n",
       "1   https://timesofindia.indiatimes.com/videos/cit...   \n",
       "10                                                      \n",
       "11                                                      \n",
       "\n",
       "                                             Source_3  \\\n",
       "6   https://punjabupdate.com/media-bulletin-21-03-...   \n",
       "5   https://twitter.com/PTI_News/status/1240878975...   \n",
       "8                                                       \n",
       "3                                                       \n",
       "7                                                       \n",
       "12                                                      \n",
       "4                                                       \n",
       "0   http://dhs.kerala.gov.in/wp-content/uploads/20...   \n",
       "2   http://dhs.kerala.gov.in/wp-content/uploads/20...   \n",
       "9                                                       \n",
       "1   https://english.manoramaonline.com/news/kerala...   \n",
       "10                                                      \n",
       "11                                                      \n",
       "\n",
       "                                    Backup Notes  \n",
       "6                 Arrived from Germany via Italy  \n",
       "5                                Italian tourist  \n",
       "8                                                 \n",
       "3                                Details awaited  \n",
       "7                                                 \n",
       "12                                                \n",
       "4                                                 \n",
       "0   Travel from Italy on 29/02/2020 through Doha  \n",
       "2   Travel from Italy on 29/02/2020 through Doha  \n",
       "9                                                 \n",
       "1                                  Father of P36  \n",
       "10                                                \n",
       "11                                                "
      ]
     },
     "execution_count": 116,
     "metadata": {},
     "output_type": "execute_result"
    }
   ],
   "source": [
    "super_spreaders=[]\n",
    "header=['spreading_factor']\n",
    "header.extend(data.columns.values)\n",
    "for node in G.nodes:\n",
    "    if G.degree(node)>2 and node.startswith('P'):\n",
    "        l=[G.degree(node)]\n",
    "        l.extend(data[data['Patient Number']==str(node)[1:]].values[0])\n",
    "        super_spreaders.append(l)\n",
    "super_spreaders=pd.DataFrame(super_spreaders,columns=header)\n",
    "super_spreaders.sort_values(by='spreading_factor',ascending=False)\n"
   ]
  },
  {
   "cell_type": "markdown",
   "metadata": {
    "colab_type": "text",
    "id": "hE4ZM8QqBrW4"
   },
   "source": [
    "## Calculating Spreading factor"
   ]
  },
  {
   "cell_type": "code",
   "execution_count": 117,
   "metadata": {
    "colab": {
     "base_uri": "https://localhost:8080/",
     "height": 34
    },
    "colab_type": "code",
    "id": "nF-MbYSL7-cY",
    "outputId": "7e1a3704-b1a6-4d05-b944-7de1b8937478"
   },
   "outputs": [
    {
     "name": "stdout",
     "output_type": "stream",
     "text": [
      "1.93006993006993\n"
     ]
    }
   ],
   "source": [
    "spreading_factor=0\n",
    "for node in G.nodes:\n",
    "    spreading_factor=spreading_factor+G.degree(node)\n",
    "spreading_factor=spreading_factor/len(G)\n",
    "print(spreading_factor)\n"
   ]
  },
  {
   "cell_type": "markdown",
   "metadata": {
    "colab_type": "text",
    "id": "4OkkP-btM9JT"
   },
   "source": [
    "# Working with maps"
   ]
  },
  {
   "cell_type": "markdown",
   "metadata": {
    "colab_type": "text",
    "id": "EBVL0vtdNDBV"
   },
   "source": [
    "Fetching latitude and longitude of the locations visited by infected patients"
   ]
  },
  {
   "cell_type": "code",
   "execution_count": 274,
   "metadata": {
    "colab": {},
    "colab_type": "code",
    "id": "GrHzHgRmNCSF"
   },
   "outputs": [],
   "source": [
    "latlong=[]\n",
    "for index,rows in data_travel_history.iterrows():\n",
    "    if(len(rows['lat_long'].split(\",\"))>1):\n",
    "        latlong.append([float(rows['lat_long'].split(\",\")[0]),float(rows['lat_long'].split(\",\")[1])])\n",
    "latlong=pd.DataFrame(latlong,columns=['Latitude','Longitude'])"
   ]
  },
  {
   "cell_type": "markdown",
   "metadata": {
    "colab_type": "text",
    "id": "5-JFFLxNNNcs"
   },
   "source": [
    "Removing coordinates outside India"
   ]
  },
  {
   "cell_type": "code",
   "execution_count": 275,
   "metadata": {
    "colab": {},
    "colab_type": "code",
    "id": "-zHZ6cFNM8Uq"
   },
   "outputs": [],
   "source": [
    "latlong.drop(latlong[latlong['Longitude'] < 75].index, inplace = True)\n",
    "latlong.index = range(len(latlong))"
   ]
  },
  {
   "cell_type": "markdown",
   "metadata": {
    "colab_type": "text",
    "id": "zRGOyGXJNQtl"
   },
   "source": [
    "Clustering the data points to find covid critical areas"
   ]
  },
  {
   "cell_type": "code",
   "execution_count": 276,
   "metadata": {
    "colab": {
     "base_uri": "https://localhost:8080/",
     "height": 34
    },
    "colab_type": "code",
    "id": "a3a2Hts5-oJL",
    "outputId": "99338827-edfc-44f0-bcd5-553c35fa657e"
   },
   "outputs": [
    {
     "data": {
      "text/plain": [
       "5"
      ]
     },
     "execution_count": 276,
     "metadata": {},
     "output_type": "execute_result"
    }
   ],
   "source": [
    "from sklearn.cluster import DBSCAN\n",
    "kms_per_radian = 6371.0088\n",
    "epsilon = 50 / kms_per_radian\n",
    "db = DBSCAN(eps=epsilon, min_samples=5, algorithm='ball_tree', \\\n",
    "            metric='haversine').fit(np.radians(latlong).values.tolist())\n",
    "\n",
    "cluster_labels = db.labels_\n",
    "cluster_labels=cluster_labels+1 #Because Cluster_labels starts from -1\n",
    "max(cluster_labels)"
   ]
  },
  {
   "cell_type": "markdown",
   "metadata": {
    "colab_type": "text",
    "id": "G8BRip5VNY0j"
   },
   "source": [
    "Applying KMeans Clustering"
   ]
  },
  {
   "cell_type": "code",
   "execution_count": 277,
   "metadata": {
    "colab": {
     "base_uri": "https://localhost:8080/",
     "height": 298
    },
    "colab_type": "code",
    "id": "ayLEYE9tNX_d",
    "outputId": "3242cb35-9cbd-4feb-bf4d-a21667874eb9"
   },
   "outputs": [
    {
     "name": "stderr",
     "output_type": "stream",
     "text": [
      "C:\\Users\\user\\.conda\\envs\\tcs\\lib\\site-packages\\scipy\\cluster\\vq.py:580: UserWarning: One of the clusters is empty. Re-run kmeans with a different initialization.\n",
      "  warnings.warn(\"One of the clusters is empty. \"\n"
     ]
    },
    {
     "data": {
      "image/png": "[encoded data removed]",
      "text/plain": [
       "<Figure size 432x288 with 1 Axes>"
      ]
     },
     "metadata": {
      "needs_background": "light"
     },
     "output_type": "display_data"
    }
   ],
   "source": [
    "from scipy.cluster.vq import kmeans2, whiten\n",
    "x, cluster_labels = kmeans2(np.radians(latlong).values.tolist(),max(cluster_labels), iter = 50)\n",
    "plt.scatter(latlong['Latitude'], latlong['Longitude'], c=cluster_labels);\n",
    "plt.show()"
   ]
  },
  {
   "cell_type": "markdown",
   "metadata": {
    "colab_type": "text",
    "id": "v6ZzetPgNf5C"
   },
   "source": [
    "Generating bounding box (Convex Hull)"
   ]
  },
  {
   "cell_type": "code",
   "execution_count": 278,
   "metadata": {
    "colab": {
     "base_uri": "https://localhost:8080/",
     "height": 265
    },
    "colab_type": "code",
    "id": "gZj0ROa_Nbyt",
    "outputId": "50a2ec3c-1c40-45aa-ea7c-9968d0bf80b0"
   },
   "outputs": [
    {
     "data": {
      "image/png": "[encoded data removed]",
      "text/plain": [
       "<Figure size 432x288 with 1 Axes>"
      ]
     },
     "metadata": {
      "needs_background": "light"
     },
     "output_type": "display_data"
    }
   ],
   "source": [
    "import matplotlib.pyplot as plt\n",
    "import numpy as np; np.random.seed(1)\n",
    "from scipy.spatial import ConvexHull\n",
    "def encircle(x,y, ax=None, **kw):\n",
    "    if not ax: ax=plt.gca()\n",
    "    p = np.c_[x,y]\n",
    "    hull = ConvexHull(p)\n",
    "    poly = plt.Polygon(p[hull.vertices,:], **kw)\n",
    "    ax.add_patch(poly)\n",
    "    return poly\n",
    "\n",
    "\n",
    "xcor=[]\n",
    "ycor=[]\n",
    "for i in range(max(cluster_labels)+1):\n",
    "    xcor.append([])\n",
    "    ycor.append([])\n",
    "for i in range(max(cluster_labels)+1):\n",
    "    for j in range(len(latlong)):\n",
    "        if cluster_labels[j]==i:\n",
    "            xcor[i].append(latlong.loc[j].values[0])\n",
    "            ycor[i].append(latlong.loc[j].values[1])\n",
    "            \n",
    "for i in range(max(cluster_labels)+1):\n",
    "    plt.scatter(xcor[i], ycor[i])\n",
    "\n",
    "for i in range(max(cluster_labels)+1):\n",
    "    if(len(xcor[i])>0):\n",
    "        encircle(xcor[i], ycor[i], ec=\"green\", fc=\"none\")\n",
    "plt.show()"
   ]
  },
  {
   "cell_type": "code",
   "execution_count": 279,
   "metadata": {
    "colab": {},
    "colab_type": "code",
    "id": "-9sdE9lMNj1m"
   },
   "outputs": [],
   "source": [
    "import gmaps\n",
    "def encircle(x,y):\n",
    "    p = np.c_[x,y]\n",
    "    hull = ConvexHull(p)\n",
    "    poly = p[hull.vertices,:]\n",
    "    return poly\n",
    "poly=[]\n",
    "for i in range(max(cluster_labels)+1):\n",
    "    if(len(xcor[i])>0):\n",
    "        poly.append(encircle(xcor[i], ycor[i]).tolist())\n",
    "drawing=[]\n",
    "for i in range(len(poly)):\n",
    "    drawing.append(gmaps.drawing_layer(features=[\n",
    "         gmaps.Polygon(\n",
    "             poly[i],\n",
    "             fill_opacity=0,\n",
    "             stroke_color='#000000',\n",
    "             stroke_opacity=1\n",
    "         )\n",
    "    ]))"
   ]
  },
  {
   "cell_type": "markdown",
   "metadata": {
    "colab_type": "text",
    "id": "7iGXhD3pN29Q"
   },
   "source": [
    "Generating layers for map"
   ]
  },
  {
   "cell_type": "code",
   "execution_count": 280,
   "metadata": {
    "colab": {},
    "colab_type": "code",
    "id": "pV9gf7O6NyBK"
   },
   "outputs": [],
   "source": [
    "symbol_layers=[]\n",
    "\n",
    "colors=['red','green',\"blue\",\"yellow\",\"gray\",\"black\",'black','aqua', 'lime',\"white\"]\n",
    "for i in range(max((cluster_labels))+1):\n",
    "    cluster_locations=[]\n",
    "    for j in range(len(cluster_labels)):\n",
    "        if(cluster_labels[j]==i):\n",
    "            cluster_locations.append(latlong.loc[j].values)\n",
    "    symbol_layers.append(gmaps.symbol_layer(\n",
    "            cluster_locations, fill_color=colors[i],scale=3,stroke_opacity=0))"
   ]
  },
  {
   "cell_type": "markdown",
   "metadata": {
    "colab_type": "text",
    "id": "NyoJm3SNN-Bp"
   },
   "source": [
    "Plotting on map\n"
   ]
  },
  {
   "cell_type": "code",
   "execution_count": 284,
   "metadata": {
    "colab": {},
    "colab_type": "code",
    "id": "PSXEzZdENpQb"
   },
   "outputs": [
    {
     "data": {
      "application/vnd.jupyter.widget-view+json": {
       "model_id": "ce02e21c0ade42009e2bef2134afb67d",
       "version_major": 2,
       "version_minor": 0
      },
      "text/plain": [
       "Figure(layout=FigureLayout(height='420px'))"
      ]
     },
     "metadata": {},
     "output_type": "display_data"
    }
   ],
   "source": [
    "fig = gmaps.figure()\n",
    "#fig.add_layer(gmaps.heatmap_layer(latlong, weights=np.ones(len(latlong), dtype = int) ))\n",
    "for i in range(len(symbol_layers)):\n",
    "    fig.add_layer(symbol_layers[i])\n",
    "\n",
    "fig\n"
   ]
  },
  {
   "cell_type": "markdown",
   "metadata": {
    "colab_type": "text",
    "id": "nTqNOEA4OCIz"
   },
   "source": [
    "Plotting Heatmap"
   ]
  },
  {
   "cell_type": "code",
   "execution_count": 285,
   "metadata": {
    "colab": {
     "base_uri": "https://localhost:8080/",
     "height": 17,
     "referenced_widgets": [
      "7d54aa7dfe864c4397aa1cf0c23b08b5"
     ]
    },
    "colab_type": "code",
    "id": "i9vVxn8DODQN",
    "outputId": "2501d027-0006-4702-81d8-23503e9b6940"
   },
   "outputs": [
    {
     "data": {
      "application/vnd.jupyter.widget-view+json": {
       "model_id": "254fcaf426904da398d40d17ccea9d1d",
       "version_major": 2,
       "version_minor": 0
      },
      "text/plain": [
       "Figure(layout=FigureLayout(height='420px'))"
      ]
     },
     "metadata": {},
     "output_type": "display_data"
    }
   ],
   "source": [
    "fig = gmaps.figure()\n",
    "#fig.add_layer(gmaps.heatmap_layer(latlong, weights=np.ones(len(latlong), dtype = int) ))\n",
    "fig.add_layer(gmaps.heatmap_layer(latlong, weights=None ))\n",
    "for i in range(len(poly)):\n",
    "    fig.add_layer(drawing[i])\n",
    "fig\n"
   ]
  },
  {
   "cell_type": "markdown",
   "metadata": {
    "colab_type": "text",
    "id": "wQItJfMVOIY9"
   },
   "source": [
    "# Finding the affected States & Districts and the level of impact"
   ]
  },
  {
   "cell_type": "markdown",
   "metadata": {},
   "source": [
    "Working with shape files"
   ]
  },
  {
   "cell_type": "code",
   "execution_count": 6,
   "metadata": {},
   "outputs": [],
   "source": [
    "import shapefile as shp  # Requires the pyshp package\n",
    "import matplotlib.pyplot as plt\n",
    "\n",
    "district_file = shp.Reader(\"2011_Census_Data/2011_Dist.shp\")\n",
    "state_file = shp.Reader(\"Indian_States/Indian_States.shp\")"
   ]
  },
  {
   "cell_type": "code",
   "execution_count": 7,
   "metadata": {},
   "outputs": [
    {
     "data": {
      "image/png": "[encoded data removed]",
      "text/plain": [
       "<Figure size 432x288 with 1 Axes>"
      ]
     },
     "metadata": {
      "needs_background": "light"
     },
     "output_type": "display_data"
    }
   ],
   "source": [
    "plt.figure()\n",
    "for shape in district_file.shapeRecords():\n",
    "    if(shape.record[0])=='Kolkata':\n",
    "        x = [i[0] for i in shape.shape.points[:]]\n",
    "        y = [i[1] for i in shape.shape.points[:]]\n",
    "        plt.plot(x,y)\n",
    "plt.show()"
   ]
  },
  {
   "cell_type": "markdown",
   "metadata": {},
   "source": [
    "# Common for district and states"
   ]
  },
  {
   "cell_type": "code",
   "execution_count": 8,
   "metadata": {},
   "outputs": [],
   "source": [
    "def color_map(weight):\n",
    "    return {\n",
    "        1: (61, 89, 65),\n",
    "        2: (119, 136, 104),\n",
    "        3: (181, 185, 145),\n",
    "        4:  (246, 237, 189),\n",
    "        5:   (237, 187, 138),\n",
    "        6: (222, 138, 90),\n",
    "        7:  (202, 86, 44),\n",
    "        8: (255, 20, 44),\n",
    "    }.get(weight, (0,0,0))\n",
    "def state_map_weights(total_cases):\n",
    "    if(total_cases==0):\n",
    "        return 1\n",
    "    if(total_cases<=10):\n",
    "        return 2\n",
    "    if(total_cases<=50):\n",
    "        return 3\n",
    "    if(total_cases<=100):\n",
    "        return 4\n",
    "    if(total_cases<=200):\n",
    "        return 5\n",
    "    if(total_cases<=400):\n",
    "        return 6\n",
    "    if(total_cases<=700):\n",
    "        return 7\n",
    "    return 8 \n",
    "def district_map_weights(total_cases):\n",
    "    if(total_cases<=10):\n",
    "        return 1\n",
    "    if(total_cases<=15):\n",
    "        return 2\n",
    "    if(total_cases<=20):\n",
    "        return 3\n",
    "    if(total_cases<=40):\n",
    "        return 4\n",
    "    if(total_cases<=50):\n",
    "        return 5\n",
    "    if(total_cases<=60):\n",
    "        return 6\n",
    "    if(total_cases<=70):\n",
    "        return 7\n",
    "    return 8 "
   ]
  },
  {
   "cell_type": "code",
   "execution_count": 9,
   "metadata": {},
   "outputs": [],
   "source": [
    "#Function to return the number of total_cases,deceased and recovered patients of places (States/Districts) present mapping dictionary\n",
    "#Parameters:\n",
    "    #census_place: record of a row in the shapefile\n",
    "    #place_mapping: Dictionary (either state_mapping or district_mapping\n",
    "    #place_type: State/District\n",
    "#Return Value: Total no. of cases,recovered and deceased.\n",
    "def get_cases(census_place,place_mapping,type_place):\n",
    "    recovered=0\n",
    "    deceased=0\n",
    "    key=[key  for (key, value) in place_mapping.items() if value == shape.record[0]]\n",
    "    data_lowercase=data.groupby([\"Detected \"+type_place,\"Current Status\"]).size()\n",
    "    data_lowercase.index=data_lowercase.index.set_levels(data_lowercase.index.levels[0].str.lower(), level=0)\n",
    "    total_cases=sum(sum(data_lowercase[keys]) for keys in key)\n",
    "    \n",
    "    data_lowercase=data_death_and_recovered.groupby([type_place,\"Patient Status\"]).size()\n",
    "    data_lowercase.index=data_lowercase.index.set_levels(data_lowercase.index.levels[0].str.lower(), level=0)\n",
    "    \n",
    "    recovered=sum(data_lowercase[keys]['Recovered'] for keys in key if keys in data_lowercase.index.levels[0] and 'Recovered' in data_lowercase[keys].keys())\n",
    "    deceased=sum(data_lowercase[keys]['Deceased'] for keys in key if keys in data_lowercase.index.levels[0] and 'Deceased' in data_lowercase[keys].keys())\n",
    "    return total_cases,recovered,deceased\n",
    "#Function to return the number of deceased and recovered patients of places (States/Districts) present in covid19 dataset\n",
    "#Parameters:\n",
    "    #census_place: record of a row in the shapefile\n",
    "    #place_type: State/District\n",
    "#Return Value: Total no. of recovered and deceased.\n",
    "def get_deceased_and_recovered(census_place,place_type):\n",
    "    recovered=0\n",
    "    deceased=0\n",
    "    patient_stats=data_death_and_recovered.groupby([place_type,\"Patient Status\"]).size()\n",
    "    if census_place in patient_stats.index.levels[0]:\n",
    "        patient_stats=patient_stats[census_place]\n",
    "        if 'Recovered' in patient_stats.keys():\n",
    "            recovered=patient_stats['Recovered']\n",
    "        if 'Deceased' in patient_stats.keys():\n",
    "            deceased=patient_stats['Deceased']\n",
    "    return recovered,deceased\n",
    "#Function: Extracts all the polygons from a given set of coordinates\n",
    "#Paramters:\n",
    "    #shape: single row of shapefile\n",
    "#Return Values: list of coordinates. Each element of latlong_island -> Polygon\n",
    "def extract_boundaries(shape):\n",
    "    latlong=[]\n",
    "    latlong_islands=[]\n",
    "    l=shape.points[:]\n",
    "    l=np.array(l)\n",
    "    for j in range(len(l)):\n",
    "        latlong.append([l[j,1],l[j,0]]) #Extracting all coordinates from the 'shape' variable\n",
    "        \n",
    "    index=0 #Signifying the starting index value of a polygon\n",
    "    for k in range(1,len(latlong),1):\n",
    "        if(latlong[index]==latlong[k] and index!=k): #signifies a polygon is completed (inital point = final point)\n",
    "            latlong_islands.append(latlong[index:k+1])\n",
    "            index=k+1 #index updated at the beginning of each polygon\n",
    "    if(index<len(latlong)): # For the last polygon\n",
    "        latlong_islands.append(latlong[index:len(latlong)])\n",
    "    return latlong_islands\n",
    "\n",
    "#Function: Generates the layers where each layer contains a polygon\n",
    "#Paramters:\n",
    "    #latlong_islands: Sets of coordinates (each element of latlong_islands signifying one polygon)\n",
    "    #weight: Set of weights determining intensity of cases'\n",
    "#Return Values: Set of Layer to be added to gmaps.figure(). No. of layers-> No. of polygons\n",
    "\n",
    "def add_layers(latlong_islands,total_cases,type_place):#U NEED TO CHANGE THIS i.e add color parameter --Srinjoy\n",
    "    layer=[]\n",
    "    if(type_place=='District'):\n",
    "        weight=district_map_weights(total_cases)\n",
    "    else:\n",
    "        weight=state_map_weights(total_cases)\n",
    "    for k in range(len(latlong_islands)-1): #Adding each polygon as a layer except last\n",
    "        layer.append(gmaps.drawing_layer(features=[\n",
    "        gmaps.Polygon(\n",
    "             latlong_islands[k],\n",
    "             fill_opacity=0.8,#U NEED TO CHANGE THIS --Srinjoy\n",
    "             stroke_color='#000000',\n",
    "             fill_color=color_map(weight), #U NEED TO CHANGE THIS --Srinjoy\n",
    "             stroke_opacity=1, \n",
    "         )\n",
    "        ]))\n",
    "    return layer\n",
    "#Function: Generates the layer containing polygon as well as symbol layer (required for infobox)\n",
    "#Paramters:\n",
    "    #latlong_islands: Sets of coordinates (each element of latlong_islands signifying one polygon)\n",
    "    #weight: Set of weights determining intensity of cases'\n",
    "    #center: Center of polygon for on_click button\n",
    "    #place: District or State\n",
    "    #total_cases: Total no. of cases in the place (state/district) [String]\n",
    "    #type_place: Takes two values: 'State' or 'District'\n",
    "#Return Values: Single Layer to be added to gmaps.figure()\n",
    "\n",
    "def add_layers_with_symbol(latlong_islands,center,place,total_cases,recovered,deceased,type_place):#U NEED TO CHANGE THIS i.e add color parameter --Srinjoy\n",
    "    layer=[] #Adding the single layer\n",
    "    if(type_place=='District'):\n",
    "        weight=district_map_weights(total_cases)\n",
    "    else:\n",
    "        weight   =state_map_weights(total_cases)\n",
    "    layer.append(gmaps.drawing_layer(features=[\n",
    "    gmaps.Symbol(center,fill_color=\"yellow\",scale=2,fill_opacity=1,stroke_opacity=0.8, info_box_content=type_place+\": \"+place+\"</br>\"+\"No. of Cases: \"+str(total_cases)+\"</br>\"+\"Recovered: \"+str(recovered)+\"</br>\"+\"Deceased: \"+str(deceased)),\n",
    "     gmaps.Polygon(\n",
    "         latlong_islands,\n",
    "         fill_opacity=0.8, #U NEED TO CHANGE THIS --Srinjoy\n",
    "         stroke_color='#000000',\n",
    "         fill_color=color_map(weight),#U NEED TO CHANGE THIS --Srinjoy\n",
    "         stroke_opacity=1,\n",
    "     )\n",
    "    ]))\n",
    "    return layer\n",
    "def get_legend(interval):\n",
    "    legend_template = '<span style=\"color: {color};opacity:{weight}; font-size: 2em; vertical-align: bottom;\">&#9679;</span> {var}'\n",
    "    legend_entries=[]\n",
    "    for i in range(8):\n",
    "        legend_entries.append(legend_template.format(color=\"rgb\"+str(color_map(i+1)), weight=0.8,var=interval[i]))\n",
    "    legend = widgets.HBox(\n",
    "        [widgets.HTML(legend_entry) for legend_entry in legend_entries],\n",
    "        layout=widgets.Layout(width='100%', justify_content='space-between')\n",
    "    )\n",
    "    return legend\n",
    "    "
   ]
  },
  {
   "cell_type": "markdown",
   "metadata": {},
   "source": [
    "# Districts"
   ]
  },
  {
   "cell_type": "code",
   "execution_count": 10,
   "metadata": {},
   "outputs": [],
   "source": [
    "# Maps corona dataset districts to census data district\n",
    "district_mapping = {\n",
    "    # new covid : old 2011\n",
    "    'Chengalpattu':'Kancheepuram',\n",
    "    'Ranipet': 'Kancheepuram',\n",
    "    'Pauri Garhwal': 'Garhwal' ,\n",
    "    'Bhadradri Kothagudem': 'Khammam',\n",
    "    'South Salmara Mancachar': 'Dhubri',\n",
    "    'Nuh': 'Mewat',\n",
    "    'Kalaburagi':'Gulbarga',\n",
    "    'Saran': 'Saran (chhapra)',\n",
    "    'Gir Somnath': 'Junagadh',\n",
    "    'S.P.S. Nellore': 'Sri Potti Sriramulu Nellore',\n",
    "    'S.A.S. Nagar': 'Sahibzada Ajit Singh Nagar',\n",
    "    'Virudhunagar': 'Virudunagar',\n",
    "    'Medchal Malkajgiri': 'Malkangiri',\n",
    "    'Bagalkote':'Bagalkot',\n",
    "    'Belagavi':'Belgaum',\n",
    "    'Ballari': 'Bellary',\n",
    "    'Tirupathur': 'Tiruppur',\n",
    "    'Ranga Reddy':'Rangareddy',\n",
    "    'Jhunjhunu':'Jhunjhunun',\n",
    "    'Tumakuru': 'Tumkur',\n",
    "    'Morigaon':'Marigaon',\n",
    "    'Hooghly':'Hugli',\n",
    "    'Howrah':'Haora',\n",
    "    'Gurugram':'Gurgaon',\n",
    "    'Haridwar':'Hardwar',\n",
    "    'Bengaluru': 'Bangalore',\n",
    "    'Bengaluru Rural':'Bangalore',\n",
    "    'Nagapattinam':'Nagappattinam',\n",
    "    'Medinipur East':'Purba Medinipur',\n",
    "    'Medinipur West':'Paschim Medinipur',\n",
    "    'Champaran West':'Paschim Champaran',\n",
    "    'Kalimpong':'Darjiling',\n",
    "    'Mysuru':'Mysore',\n",
    "    'Leh':'Leh (ladakh)',\n",
    "    \"Y.S.R.\":'Y.s.r.',\n",
    "    'Chota Udaipur':'Vadodara',\n",
    "    'Hatras':'Aligarh',\n",
    "    'Hapur':'Ghaziabad',\n",
    "    'Sangareddy':'Medak',\n",
    "    'Warangal Urban':'Warangal',\n",
    "    'Khargone':'West Nimar',\n",
    "    'Nirmal':'Adilabad',\n",
    "    'Morbi':'Rajkot',\n",
    "    'Shamli':'Muzaffarnagar',\n",
    "    'Kallakurichi':'Viluppuram',\n",
    "    'Pathankot':'Gurdaspur',\n",
    "    'Peddapalli':'Karimnagar',\n",
    "    'Vikarabad':'Rangareddy',\n",
    "    'Gomati':'South Tripura',\n",
    "    'Prayagraj':'Allahabad',\n",
    "    'Charki Dadri':'Bhiwani',\n",
    "    'Mahrajganj':'Maharajganj',\n",
    "    'Jagitial':'Karimnagar',\n",
    "    'Kashmir':'Srinagar',\n",
    "    'Mahabubnagar':'Mahbubnagar',\n",
    "    'Jogulamba Gadwal':'Mahbubnagar',\n",
    "    'Suryapet':'Nalgonda',\n",
    "    'Khandwa':'East Nimar',\n",
    "    'Dahod':'Dohad',\n",
    "    'Tenkasi':'Tirunelveli',\n",
    "    'Thirupathur':'Vellore',\n",
    "    'Sri Muktsar Sahib':'Muktsar',\n",
    "    'Amroha':'Jyotiba Phule Nagar',\n",
    "    '':''\n",
    "   \n",
    "}\n",
    "\n",
    "\n",
    "district_mapping={k.lower(): v for k, v in district_mapping.items()}"
   ]
  },
  {
   "cell_type": "markdown",
   "metadata": {},
   "source": [
    "To check if update is required to the dictionary (optional)"
   ]
  },
  {
   "cell_type": "code",
   "execution_count": 20,
   "metadata": {
    "collapsed": true
   },
   "outputs": [
    {
     "name": "stdout",
     "output_type": "stream",
     "text": [
      "\n",
      "Amroha\n",
      "Evacuees\n",
      "Gujarat*\n",
      "Italians*\n",
      "Other Region*\n",
      "Other States\n"
     ]
    }
   ],
   "source": [
    "districts=data.groupby(\"Detected District\").size().keys()\n",
    "for i in range(len(districts)):\n",
    "    flag=0\n",
    "    for shape in district_file.shapeRecords():\n",
    "        if(\"&\" in shape.record[0]): # for e.g J & K converted to J and K\n",
    "            shape.record[0]=shape.record[0].replace(\"&\",\"and\")\n",
    "        if(shape.record[0] in ['East','West','North','South','North West','North East','South East','South West']):\n",
    "            shape.record[0]=shape.record[0]+\" \"+shape.record[1].split(\" \")[-1]\n",
    "        if(shape.record[0].lower()==districts[i].lower() or (districts[i].lower() in district_mapping.keys() and shape.record[0].lower()==district_mapping[districts[i].lower()].lower())):\n",
    "            flag=1\n",
    "            break\n",
    "    #List of districts not found in the updated covid19 dataset\n",
    "    if(flag==0):\n",
    "        print(districts[i])\n",
    "        "
   ]
  },
  {
   "cell_type": "markdown",
   "metadata": {
    "colab_type": "text",
    "id": "iHOQR0SMOXJF"
   },
   "source": [
    "Generating layers for all districts"
   ]
  },
  {
   "cell_type": "code",
   "execution_count": 11,
   "metadata": {
    "colab": {},
    "colab_type": "code",
    "id": "Jdx2HODwOTO5",
    "scrolled": true
   },
   "outputs": [],
   "source": [
    "districts_affected = data.groupby([\"Detected District\"]).size()\n",
    "districts=np.array(districts_affected.keys())\n",
    "district_layer=[]\n",
    "for shape in district_file.shapeRecords(): #iterating through the census shapefile\n",
    "    #print(shape.record[0])\n",
    "    total_cases=0\n",
    "    \n",
    "    if(\"&\" in shape.record[0]): # for e.g J & K converted to J and K\n",
    "        shape.record[0]=shape.record[0].replace(\"&\",\"and\")\n",
    "    if(shape.record[0] in ['East','West','North','South','North West','North East','South East','South West','Central']):\n",
    "        shape.record[0]=shape.record[0]+\" \"+shape.record[1].split(\" \")[-1]\n",
    "    \n",
    "    # If district name exists in district_mappping dictionary we assign no. of total_cases to 'total_cases'           \n",
    "    if shape.record[0] in district_mapping.values():\n",
    "        total_cases,recovered,deceased=get_cases(shape.record[0],district_mapping,\"District\")\n",
    "\n",
    "        \n",
    "    # if district name exists in covid19 dataset we assign no. of total_cases to 'total_cases'\n",
    "    elif shape.record[0] in districts:\n",
    "        total_cases=data.groupby(\"Detected District\").size()[shape.record[0]]\n",
    "        recovered,deceased=get_deceased_and_recovered(shape.record[0],\"District\")\n",
    "        \n",
    "    if(total_cases==0):\n",
    "        continue\n",
    "        \n",
    "    latlong_islands=extract_boundaries(shape.shape)\n",
    "    district_layer.extend(add_layers(latlong_islands,total_cases,\"District\")) #U may add color parameter here --Srinjoy\n",
    "        \n",
    "     # Appending the final Layer and adding a symbol_on_click service with it\n",
    "    center=[(min(np.array(shape.shape.points[:])[:,1])+max(np.array(shape.shape.points[:])[:,1]))/2,(min(np.array(shape.shape.points[:])[:,0])+max(np.array(shape.shape.points[:])[:,0]))/2]\n",
    "    district_layer.extend(add_layers_with_symbol(latlong_islands[-1],center,shape.record[0],total_cases,recovered,deceased,\"District\")) #U may add color parameter here --Srinjoy\n",
    "            \n",
    "\n",
    "        \n",
    "    "
   ]
  },
  {
   "cell_type": "markdown",
   "metadata": {
    "colab_type": "text",
    "id": "MDFuG5DlObme"
   },
   "source": [
    "Plotting on map"
   ]
  },
  {
   "cell_type": "code",
   "execution_count": 12,
   "metadata": {
    "colab": {
     "base_uri": "https://localhost:8080/",
     "height": 17,
     "referenced_widgets": [
      "d866facc72e8465dbdd08d475e5c24fa"
     ]
    },
    "colab_type": "code",
    "id": "4SIs5nh0OZbp",
    "outputId": "c174cc63-6685-488d-f38a-ddd1417de336"
   },
   "outputs": [
    {
     "data": {
      "application/vnd.jupyter.widget-view+json": {
       "model_id": "6c315c6053a1405aa990abc69d3d3e97",
       "version_major": 2,
       "version_minor": 0
      },
      "text/plain": [
       "VBox(children=(Figure(layout=FigureLayout(height='420px')), HBox(children=(HTML(value='<span style=\"color: rgb…"
      ]
     },
     "metadata": {},
     "output_type": "display_data"
    }
   ],
   "source": [
    "fig = gmaps.figure(center=(23.2599, 77.4126), zoom_level=4,display_toolbar=False,)\n",
    "for i in range(len(district_layer)):\n",
    "    fig.add_layer(district_layer[i])\n",
    "interval=[\"Less than 10\",\"Less than 15\",\"Less than 20\",\"Less than 40\",\"Less than 50\",\"Less than 60\",\"Less than 70\",\"Greater than 700\"]\n",
    "legend=get_legend(interval)\n",
    "widgets.VBox([fig, legend])\n"
   ]
  },
  {
   "cell_type": "markdown",
   "metadata": {},
   "source": [
    "# States"
   ]
  },
  {
   "cell_type": "code",
   "execution_count": 13,
   "metadata": {},
   "outputs": [],
   "source": [
    "# Maps corona dataset states to census data states\n",
    "state_mapping = {\n",
    "    # new covid : old 2011\n",
    "    'Jammu and Kashmir' :'Jammu & Kashmir',\n",
    "    'Ladakh' :'Jammu & Kashmir',\n",
    "    'Delhi': 'NCT of Delhi',\n",
    "    'Arunachal Pradesh' :'Arunanchal Pradesh' ,\n",
    "    'Andaman and Nicobar Islands': 'Andaman & Nicobar Island',\n",
    "    'Dadra and Nagar Haveli':'Dadara & Nagar Havelli',\n",
    "    '': '',\n",
    "   \n",
    "}\n",
    "state_mapping={k.lower(): v for k, v in state_mapping.items()}"
   ]
  },
  {
   "cell_type": "markdown",
   "metadata": {},
   "source": [
    "To check if update is required to the dictionary (optional)"
   ]
  },
  {
   "cell_type": "code",
   "execution_count": 14,
   "metadata": {},
   "outputs": [],
   "source": [
    "states_affected = data.groupby([\"Detected State\"]).size()\n",
    "states=np.array(states_affected.keys())\n",
    "for i in range(len(states)):\n",
    "    flag=0\n",
    "    for shape in state_file.shapeRecords():\n",
    "        if(shape.record[0].lower()==states[i].lower() or (states[i].lower() in state_mapping.keys() and shape.record[0].lower()==state_mapping[states[i].lower()].lower())):\n",
    "            flag=1\n",
    "            break\n",
    "    #List of states not found in the updated covid19 dataset\n",
    "    if(flag==0):\n",
    "        print(states[i])"
   ]
  },
  {
   "cell_type": "markdown",
   "metadata": {},
   "source": [
    "Generating layers for all states"
   ]
  },
  {
   "cell_type": "code",
   "execution_count": 15,
   "metadata": {},
   "outputs": [],
   "source": [
    "states_affected = data.groupby([\"Detected State\"]).size()\n",
    "states=np.array(states_affected.keys())\n",
    "states_layer=[]\n",
    "for shape in state_file.shapeRecords():\n",
    "    #print(shape.record[0])\n",
    "    total_cases=0\n",
    "    \n",
    "    # If state name exists in state_mappping dictionary we assign no. of total_cases to 'total_cases'            \n",
    "    if shape.record[0] in state_mapping.values():\n",
    "        total_cases,recovered,deceased=get_cases(shape.record[0],state_mapping,\"State\")\n",
    "        \n",
    "    # if state name exists in covid19 dataset we assign no. of total_cases to 'total_cases'   \n",
    "    elif shape.record[0] in states:\n",
    "        total_cases=data.groupby(\"Detected State\").size()[shape.record[0]]\n",
    "        recovered,deceased=get_deceased_and_recovered(shape.record[0],\"State\")\n",
    "    \n",
    "    latlong_islands=extract_boundaries(shape.shape)\n",
    "    states_layer.extend(add_layers(latlong_islands,total_cases,\"State\")) #U may add color parameter here --Srinjoy\n",
    "\n",
    "     # Appending the final Layer and adding a symbol_on_click service with it\n",
    "    center=[(min(np.array(shape.shape.points[:])[:,1])+max(np.array(shape.shape.points[:])[:,1]))/2,(min(np.array(shape.shape.points[:])[:,0])+max(np.array(shape.shape.points[:])[:,0]))/2]\n",
    "    if(shape.record[0]=='Puducherry'): #Includes certain colonies in Maharashtra as well which creates problems while selecting infobox position\n",
    "        center=[(min(np.array(latlong_islands[4])[:,0])+max(np.array(latlong_islands[4])[:,0]))/2,(min(np.array(latlong_islands[4])[:,1])+max(np.array(latlong_islands[4])[:,1]))/2]\n",
    "    \n",
    "    states_layer.extend(add_layers_with_symbol(latlong_islands[-1],center,shape.record[0],total_cases,recovered,deceased,\"State\")) #U may add color parameter here --Srinjoy\n",
    "            \n"
   ]
  },
  {
   "cell_type": "markdown",
   "metadata": {},
   "source": [
    "Plotting on map"
   ]
  },
  {
   "cell_type": "code",
   "execution_count": 16,
   "metadata": {},
   "outputs": [
    {
     "data": {
      "application/vnd.jupyter.widget-view+json": {
       "model_id": "8c519cf64ff14988be60cc25b59fc0bb",
       "version_major": 2,
       "version_minor": 0
      },
      "text/plain": [
       "VBox(children=(Figure(layout=FigureLayout(height='420px')), HBox(children=(HTML(value='<span style=\"color: rgb…"
      ]
     },
     "metadata": {},
     "output_type": "display_data"
    }
   ],
   "source": [
    "fig = gmaps.figure(center=(23.2599, 77.4126), zoom_level=4,display_toolbar=False)\n",
    "for i in range(len(states_layer)):\n",
    "    fig.add_layer(states_layer[i])\n",
    "interval=[\"No cases\",\"Less than 10\",\"Less than 50\",\"Less than 100\",\"Less than 200\",\"Less than 400\",\"Less than 700\",\"Greater than 700\"]\n",
    "legend=get_legend(interval)\n",
    "widgets.VBox([fig, legend])"
   ]
  },
  {
   "cell_type": "code",
   "execution_count": null,
   "metadata": {},
   "outputs": [],
   "source": []
  }
 ],
 "metadata": {
  "colab": {
   "collapsed_sections": [],
   "name": "India_Corona_Analysis.ipynb",
   "provenance": []
  },
  "kernelspec": {
   "display_name": "Python 3",
   "language": "python",
   "name": "python3"
  },
  "language_info": {
   "codemirror_mode": {
    "name": "ipython",
    "version": 3
   },
   "file_extension": ".py",
   "mimetype": "text/x-python",
   "name": "python",
   "nbconvert_exporter": "python",
   "pygments_lexer": "ipython3",
   "version": "3.7.3"
  },
  "widgets": {
   "application/vnd.jupyter.widget-state+json": {
    "58b6615fca0d448fbb6dbb657748169c": {
     "model_module": "jupyter-gmaps",
     "model_name": "FigureModel",
     "state": {
      "_dom_classes": [],
      "_errors_box": "IPY_MODEL_21e9655a25a24b73ae4db0200a4886e4",
      "_map": "IPY_MODEL_de49a2c547de4d3b8f54a6f49fb2042d",
      "_model_module": "jupyter-gmaps",
      "_model_module_version": "0.9.0",
      "_model_name": "FigureModel",
      "_toolbar": "IPY_MODEL_0f85daa509fd4328a6af5723b2760068",
      "_view_count": null,
      "_view_module": "jupyter-gmaps",
      "_view_module_version": "0.9.0",
      "_view_name": "FigureView",
      "layout": "IPY_MODEL_2f94788f878644559d33b9ebc1f11a5c"
     }
    },
    "7d54aa7dfe864c4397aa1cf0c23b08b5": {
     "model_module": "jupyter-gmaps",
     "model_name": "FigureModel",
     "state": {
      "_dom_classes": [],
      "_errors_box": "IPY_MODEL_c6230d3e09db411d9c69e0832b0f9904",
      "_map": "IPY_MODEL_695652d02e9b4b2d8e809e8832fa0ea8",
      "_model_module": "jupyter-gmaps",
      "_model_module_version": "0.9.0",
      "_model_name": "FigureModel",
      "_toolbar": "IPY_MODEL_7a90df5940f846f4a6c8c4658cf8d09d",
      "_view_count": null,
      "_view_module": "jupyter-gmaps",
      "_view_module_version": "0.9.0",
      "_view_name": "FigureView",
      "layout": "IPY_MODEL_06001c53f8ba4e60a9b7937e0d1f52a4"
     }
    },
    "d866facc72e8465dbdd08d475e5c24fa": {
     "model_module": "jupyter-gmaps",
     "model_name": "FigureModel",
     "state": {
      "_dom_classes": [],
      "_errors_box": "IPY_MODEL_30f5338cb25242dbb02b778912143cfd",
      "_map": "IPY_MODEL_944a8d80c1704b5bbe39798d388efb84",
      "_model_module": "jupyter-gmaps",
      "_model_module_version": "0.9.0",
      "_model_name": "FigureModel",
      "_toolbar": null,
      "_view_count": null,
      "_view_module": "jupyter-gmaps",
      "_view_module_version": "0.9.0",
      "_view_name": "FigureView",
      "layout": "IPY_MODEL_e9319051da6145d8bfb36c37bb360d97"
     }
    }
   }
  }
 },
 "nbformat": 4,
 "nbformat_minor": 1
}
