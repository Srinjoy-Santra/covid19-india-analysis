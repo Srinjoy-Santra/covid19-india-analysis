{
 "cells": [
  {
   "cell_type": "markdown",
   "metadata": {
    "colab_type": "text",
    "id": "abc4vbtiHtKx"
   },
   "source": [
    "# Importing libraries"
   ]
  },
  {
   "cell_type": "code",
   "execution_count": 117,
   "metadata": {
    "colab": {},
    "colab_type": "code",
    "id": "B6kKILR36dxT"
   },
   "outputs": [],
   "source": [
    "import math\n",
    "import requests \n",
    "from bs4 import BeautifulSoup \n",
    "import os \n",
    "import numpy as np \n",
    "import matplotlib.pyplot as plt \n",
    "import pandas as pd\n",
    "import gmaps\n",
    "import ipywidgets as widgets\n",
    "key=\"YOUR API KEY\"\n",
    "gmaps.configure(api_key=key)\n",
    "import warnings\n",
    "warnings.filterwarnings(\"ignore\")"
   ]
  },
  {
   "cell_type": "markdown",
   "metadata": {
    "colab_type": "text",
    "id": "Hy9XpQiTH2qn"
   },
   "source": [
    "# Importing live dataset"
   ]
  },
  {
   "cell_type": "code",
   "execution_count": 2,
   "metadata": {
    "colab": {},
    "colab_type": "code",
    "id": "q4hOxgsNiiq3"
   },
   "outputs": [],
   "source": [
    "def check(stat):\n",
    "    if all(len(x) == 0 for x in stat):\n",
    "        return 0\n",
    "    return 1\n",
    "def get_response(URL):\n",
    "    response = requests.get(URL).content \n",
    "    soup = BeautifulSoup(response, 'html.parser')\n",
    "    all_rows = soup.find_all('tr') \n",
    "    return all_rows\n",
    "def get_data(all_rows,length,omit,data_type):\n",
    "    extract_contents = lambda row: [x.text.replace('\\n', '') for x in row]\n",
    "    stats = []\n",
    "    flag=0\n",
    "    alert_omit_flag=0\n",
    "    if omit==0:\n",
    "        alert_omit_flag=1\n",
    "    for row in all_rows: \n",
    "        stat = extract_contents(row.find_all('td'))\n",
    "        if(alert_omit_flag):\n",
    "            omit=1\n",
    "            stat.append('')\n",
    "        if stat: \n",
    "            if len(stat[:-omit]) ==length and check(stat[1:]): \n",
    "                if flag==0:\n",
    "                    header=stat[:-omit]\n",
    "                    flag=1\n",
    "                    continue\n",
    "                stats.append(stat[:-omit])\n",
    "    data=pd.DataFrame(stats)\n",
    "    if data_type=='Travel History':\n",
    "        header[0]='Serial No.'\n",
    "    data.columns=header\n",
    "    return data\n",
    "\n"
   ]
  },
  {
   "cell_type": "code",
   "execution_count": 3,
   "metadata": {
    "colab": {},
    "colab_type": "code",
    "id": "qUPsjKmGk44N"
   },
   "outputs": [],
   "source": [
    "URL=\"https://docs.google.com/spreadsheets/d/e/2PACX-1vSc_2y5N0I67wDU38DjDh35IZSIS30rQf7_NYZhtYYGU1jJYT6_kDx4YpF-qw0LSlGsBYP8pqM_a1Pd/pubhtml\"\n",
    "contents=get_response(URL)\n",
    "data=get_data(contents,19,7,'Raw_Data')\n",
    "data_death_and_recovered=get_data(contents,15,7,'Death and Recovered')\n",
    "data_travel_history=get_data(contents,11,1,\"Travel History\")\n",
    "data_total_tested=get_data(contents,13,1,'StateWise_Tested_Numbers_Data')\n",
    "data_daily_cases=get_data(contents,41,0,'StateWise_Daily')"
   ]
  },
  {
   "cell_type": "markdown",
   "metadata": {
    "colab_type": "text",
    "id": "srpVzXUpoGcc"
   },
   "source": [
    "#Organising Live dataset and converting to respective data *types*"
   ]
  },
  {
   "cell_type": "code",
   "execution_count": 4,
   "metadata": {
    "colab": {},
    "colab_type": "code",
    "id": "DfNAYbeUoA45"
   },
   "outputs": [],
   "source": [
    "data=data[:-1]\n",
    "data=data.replace(\"EVACUEES\",\"Evacuees\")\n",
    "data['Date Announced'] = pd.to_datetime(data['Date Announced'], format=\"%d/%m/%Y\")\n",
    "for i in range(len(data)):\n",
    "    if(len(data.loc[i]['Age Bracket'].split(\"-\"))>1):\n",
    "        data.at[i,'Age Bracket']=data.loc[i]['Age Bracket'].split(\"-\")[1]\n",
    "data['Age Bracket']=pd.to_numeric(data['Age Bracket'])"
   ]
  },
  {
   "cell_type": "code",
   "execution_count": 5,
   "metadata": {},
   "outputs": [],
   "source": [
    "data_total_tested['Num Isolation Beds']=[row['Num Isolation Beds'].replace(\",\",\"\") for index,row in data_total_tested.iterrows()]\n",
    "data_total_tested['Total People In Quarantine']=[row['Total People In Quarantine'].replace(\",\",\"\") for index,row in data_total_tested.iterrows()]\n",
    "data_total_tested['Num Ventilators']=[row['Num Ventilators'].replace(\",\",\"\") for index,row in data_total_tested.iterrows()]\n",
    "\n",
    "data_total_tested['Total Tested']=pd.to_numeric(data_total_tested['Total Tested'])\n",
    "data_total_tested = data_total_tested[data_total_tested['Total Tested'].notna()]\n",
    "data_total_tested['Positive']=pd.to_numeric(data_total_tested['Positive'])\n",
    "data_total_tested['Negative']=pd.to_numeric(data_total_tested['Negative'])\n",
    "data_total_tested['Unconfirmed']=pd.to_numeric(data_total_tested['Unconfirmed'])\n",
    "data_total_tested['Total People In Quarantine']=pd.to_numeric(data_total_tested['Total People In Quarantine'])\n",
    "data_total_tested['Num Isolation_Beds']=pd.to_numeric(data_total_tested['Num Isolation Beds'])\n",
    "data_total_tested['Num ICU_Beds']=pd.to_numeric(data_total_tested['Num ICU Beds'])\n",
    "data_total_tested['Num Ventilators']=pd.to_numeric(data_total_tested['Num Ventilators'])"
   ]
  },
  {
   "cell_type": "code",
   "execution_count": 6,
   "metadata": {},
   "outputs": [],
   "source": [
    "for columns in data_daily_cases.columns[3:]:\n",
    "    data_daily_cases[columns]=pd.to_numeric(data_daily_cases[columns])"
   ]
  },
  {
   "cell_type": "markdown",
   "metadata": {
    "colab_type": "text",
    "id": "-XnDTNyEJ4yj"
   },
   "source": [
    "# Analysis of data"
   ]
  },
  {
   "cell_type": "code",
   "execution_count": 164,
   "metadata": {
    "colab": {
     "base_uri": "https://localhost:8080/",
     "height": 554
    },
    "colab_type": "code",
    "id": "HAVQdlSZ6dx9",
    "outputId": "e98f9142-e9d7-4f5c-f7cf-eda4e3892c37"
   },
   "outputs": [
    {
     "data": {
      "text/plain": [
       "Detected State\n",
       "Maharashtra                    1761\n",
       "Delhi                          1069\n",
       "Tamil Nadu                      969\n",
       "Rajasthan                       700\n",
       "Madhya Pradesh                  529\n",
       "Telangana                       503\n",
       "Gujarat                         468\n",
       "Uttar Pradesh                   452\n",
       "Andhra Pradesh                  405\n",
       "Kerala                          372\n",
       "Karnataka                       225\n",
       "Jammu and Kashmir               224\n",
       "Haryana                         179\n",
       "Punjab                          158\n",
       "West Bengal                     126\n",
       "Bihar                            64\n",
       "Odisha                           54\n",
       "Uttarakhand                      35\n",
       "Himachal Pradesh                 32\n",
       "Assam                            29\n",
       "Chhattisgarh                     25\n",
       "Chandigarh                       19\n",
       "Jharkhand                        17\n",
       "Ladakh                           15\n",
       "Andaman and Nicobar Islands      11\n",
       "Goa                               7\n",
       "Puducherry                        7\n",
       "Tripura                           2\n",
       "Manipur                           2\n",
       "Dadra and Nagar Haveli            1\n",
       "Arunachal Pradesh                 1\n",
       "Mizoram                           1\n",
       "                                  1\n",
       "dtype: int64"
      ]
     },
     "execution_count": 164,
     "metadata": {},
     "output_type": "execute_result"
    }
   ],
   "source": [
    "detected_cases = data.groupby(\"Detected State\").size()\n",
    "detected_cases.sort_values(ascending=False)"
   ]
  },
  {
   "cell_type": "markdown",
   "metadata": {
    "colab_type": "text",
    "id": "aqfwC7pALdOL"
   },
   "source": [
    "# Plots"
   ]
  },
  {
   "cell_type": "markdown",
   "metadata": {},
   "source": [
    "Population Pyramid for infections"
   ]
  },
  {
   "cell_type": "code",
   "execution_count": 10,
   "metadata": {},
   "outputs": [],
   "source": [
    "df_age = data[['Gender', 'Age Bracket']].copy()\n",
    "df_age.replace('', np.nan,inplace=True)\n",
    "df_age.dropna(how='any', subset=['Gender', 'Age Bracket'],inplace=True)\n",
    "df_age['age'] = df_age.apply(lambda x : pd.to_numeric((x['Age Bracket'])),axis=1)"
   ]
  },
  {
   "cell_type": "code",
   "execution_count": 11,
   "metadata": {},
   "outputs": [],
   "source": [
    "# Putting data into age groups\n",
    "bins = [x for x in range(0,100,10)]\n",
    "df_age['age_group'] = pd.cut(df_age['age'], bins=bins)\n",
    "#print(df_age)"
   ]
  },
  {
   "cell_type": "code",
   "execution_count": 12,
   "metadata": {},
   "outputs": [],
   "source": [
    "# Convert groupby to dataframe\n",
    "ndf = pd.DataFrame({'count' : df_age.groupby(['age_group', 'Gender']).size()}).reset_index()\n",
    "# convert count values of females to negative\n",
    "ndf.loc[ndf.Gender == 'F', 'count']=-ndf.loc[ndf.Gender == 'F', 'count']\n",
    "#ndf"
   ]
  },
  {
   "cell_type": "code",
   "execution_count": 13,
   "metadata": {},
   "outputs": [
    {
     "data": {
      "image/png": "[encoded data removed]",
      "text/plain": [
       "<Figure size 1040x800 with 1 Axes>"
      ]
     },
     "metadata": {
      "needs_background": "light"
     },
     "output_type": "display_data"
    }
   ],
   "source": [
    "import seaborn as sns\n",
    "\n",
    "# Draw Plot\n",
    "plt.figure(figsize=(13,10), dpi= 80)\n",
    "group_col = 'Gender'\n",
    "order_of_bars = ndf['age_group'].unique()[::-1]\n",
    "colors = [plt.cm.Spectral(i/float(len(ndf[group_col].unique())-1)) for i in range(len(ndf[group_col].unique()))]\n",
    "\n",
    "#print(colors, ndf[group_col].unique())\n",
    "for c, group in zip(colors, ndf[group_col].unique()):\n",
    "    sns.barplot(x='count', y='age_group', data=ndf.loc[ndf[group_col]==group, :], order=order_of_bars, color=c, label=group)\n",
    "\n",
    "# Decorations    \n",
    "plt.xlabel(\"$Count$\")\n",
    "plt.ylabel(\"Age Group\")\n",
    "plt.yticks(fontsize=12)\n",
    "plt.title(\"Population Pyramid\", fontsize=22)\n",
    "plt.legend()\n",
    "plt.show()"
   ]
  },
  {
   "cell_type": "markdown",
   "metadata": {},
   "source": [
    "Chart for  total cases per state"
   ]
  },
  {
   "cell_type": "code",
   "execution_count": 171,
   "metadata": {},
   "outputs": [
    {
     "data": {
      "image/png": "[encoded data removed]",
      "text/plain": [
       "<Figure size 720x720 with 1 Axes>"
      ]
     },
     "metadata": {},
     "output_type": "display_data"
    }
   ],
   "source": [
    "plt.figure(figsize=(10,10))\n",
    "labels = detected_cases = data.groupby(\"Detected State\").size().keys()\n",
    "sizes = detected_cases = data.groupby(\"Detected State\").size().values\n",
    "\n",
    "#colors = ['gold', 'yellowgreen', 'lightcoral', 'lightskyblue']\n",
    "#explode = (0.1, 0, 0, 0)  # explode 1st slice\n",
    "\n",
    "# Plot\n",
    "plt.pie(sizes,labels=labels, \n",
    "autopct='%1.1f%%', shadow=True,radius=10, startangle=90)\n",
    "\n",
    "plt.axis('equal')\n",
    "plt.show()"
   ]
  },
  {
   "cell_type": "code",
   "execution_count": 14,
   "metadata": {},
   "outputs": [],
   "source": [
    "threshold=10\n",
    "data_cases_per_state=pd.DataFrame(0,columns=['Active','Deceased','Recovered'],index=data['Detected State'].unique())\n",
    "patient_stats=data_death_and_recovered.groupby(['State','Patient Status']).size()\n",
    "for state in data_death_and_recovered['State'].unique():\n",
    "    if len(data[data['Detected State']==state])>threshold: \n",
    "        if 'Recovered' in patient_stats[state].keys():\n",
    "            data_cases_per_state.loc[state]['Recovered']=patient_stats[state]['Recovered']\n",
    "        if 'Deceased' in patient_stats[state].keys():\n",
    "            data_cases_per_state.loc[state]['Deceased']=patient_stats[state]['Deceased']\n",
    "        data_cases_per_state.loc[state]['Active']=len(data[data['Detected State']==state])-(data_cases_per_state.loc[state]['Recovered']+data_cases_per_state.loc[state]['Deceased'])\n",
    "data_cases_per_state=data_cases_per_state.loc[(data_cases_per_state.sum(axis=1) >threshold)]"
   ]
  },
  {
   "cell_type": "code",
   "execution_count": 214,
   "metadata": {},
   "outputs": [
    {
     "data": {
      "application/vnd.plotly.v1+json": {
       "config": {
        "plotlyServerURL": "https://plot.ly"
       },
       "data": [
        {
         "name": "Active",
         "orientation": "h",
         "type": "bar",
         "x": [
          227,
          1023,
          393,
          575,
          141,
          402,
          4,
          915,
          214,
          180,
          1426,
          126,
          389,
          30,
          41,
          105,
          12,
          16,
          401,
          22,
          451,
          48,
          1,
          16,
          28
         ],
         "y": [
          "Kerala",
          "Delhi",
          "Telangana",
          "Rajasthan",
          "Haryana",
          "Uttar Pradesh",
          "Ladakh",
          "Tamil Nadu",
          "Jammu and Kashmir",
          "Karnataka",
          "Maharashtra",
          "Punjab",
          "Andhra Pradesh",
          "Uttarakhand",
          "Odisha",
          "West Bengal",
          "Chandigarh",
          "Chhattisgarh",
          "Gujarat",
          "Himachal Pradesh",
          "Madhya Pradesh",
          "Bihar",
          "Andaman and Nicobar Islands",
          "Jharkhand",
          "Assam"
         ]
        },
        {
         "name": "Deceased",
         "orientation": "h",
         "type": "bar",
         "x": [
          2,
          19,
          14,
          9,
          2,
          5,
          0,
          10,
          4,
          6,
          127,
          12,
          6,
          0,
          1,
          5,
          0,
          0,
          23,
          2,
          40,
          1,
          0,
          1,
          1
         ],
         "y": [
          "Kerala",
          "Delhi",
          "Telangana",
          "Rajasthan",
          "Haryana",
          "Uttar Pradesh",
          "Ladakh",
          "Tamil Nadu",
          "Jammu and Kashmir",
          "Karnataka",
          "Maharashtra",
          "Punjab",
          "Andhra Pradesh",
          "Uttarakhand",
          "Odisha",
          "West Bengal",
          "Chandigarh",
          "Chhattisgarh",
          "Gujarat",
          "Himachal Pradesh",
          "Madhya Pradesh",
          "Bihar",
          "Andaman and Nicobar Islands",
          "Jharkhand",
          "Assam"
         ]
        },
        {
         "name": "Recovered",
         "orientation": "h",
         "type": "bar",
         "x": [
          143,
          27,
          96,
          116,
          36,
          45,
          11,
          44,
          6,
          39,
          208,
          20,
          10,
          5,
          12,
          16,
          7,
          9,
          44,
          8,
          38,
          15,
          10,
          0,
          0
         ],
         "y": [
          "Kerala",
          "Delhi",
          "Telangana",
          "Rajasthan",
          "Haryana",
          "Uttar Pradesh",
          "Ladakh",
          "Tamil Nadu",
          "Jammu and Kashmir",
          "Karnataka",
          "Maharashtra",
          "Punjab",
          "Andhra Pradesh",
          "Uttarakhand",
          "Odisha",
          "West Bengal",
          "Chandigarh",
          "Chhattisgarh",
          "Gujarat",
          "Himachal Pradesh",
          "Madhya Pradesh",
          "Bihar",
          "Andaman and Nicobar Islands",
          "Jharkhand",
          "Assam"
         ]
        }
       ],
       "layout": {
        "barmode": "stack",
        "height": 700,
        "template": {
         "data": {
          "bar": [
           {
            "error_x": {
             "color": "#2a3f5f"
            },
            "error_y": {
             "color": "#2a3f5f"
            },
            "marker": {
             "line": {
              "color": "#E5ECF6",
              "width": 0.5
             }
            },
            "type": "bar"
           }
          ],
          "barpolar": [
           {
            "marker": {
             "line": {
              "color": "#E5ECF6",
              "width": 0.5
             }
            },
            "type": "barpolar"
           }
          ],
          "carpet": [
           {
            "aaxis": {
             "endlinecolor": "#2a3f5f",
             "gridcolor": "white",
             "linecolor": "white",
             "minorgridcolor": "white",
             "startlinecolor": "#2a3f5f"
            },
            "baxis": {
             "endlinecolor": "#2a3f5f",
             "gridcolor": "white",
             "linecolor": "white",
             "minorgridcolor": "white",
             "startlinecolor": "#2a3f5f"
            },
            "type": "carpet"
           }
          ],
          "choropleth": [
           {
            "colorbar": {
             "outlinewidth": 0,
             "ticks": ""
            },
            "type": "choropleth"
           }
          ],
          "contour": [
           {
            "colorbar": {
             "outlinewidth": 0,
             "ticks": ""
            },
            "colorscale": [
             [
              0,
              "#0d0887"
             ],
             [
              0.1111111111111111,
              "#46039f"
             ],
             [
              0.2222222222222222,
              "#7201a8"
             ],
             [
              0.3333333333333333,
              "#9c179e"
             ],
             [
              0.4444444444444444,
              "#bd3786"
             ],
             [
              0.5555555555555556,
              "#d8576b"
             ],
             [
              0.6666666666666666,
              "#ed7953"
             ],
             [
              0.7777777777777778,
              "#fb9f3a"
             ],
             [
              0.8888888888888888,
              "#fdca26"
             ],
             [
              1,
              "#f0f921"
             ]
            ],
            "type": "contour"
           }
          ],
          "contourcarpet": [
           {
            "colorbar": {
             "outlinewidth": 0,
             "ticks": ""
            },
            "type": "contourcarpet"
           }
          ],
          "heatmap": [
           {
            "colorbar": {
             "outlinewidth": 0,
             "ticks": ""
            },
            "colorscale": [
             [
              0,
              "#0d0887"
             ],
             [
              0.1111111111111111,
              "#46039f"
             ],
             [
              0.2222222222222222,
              "#7201a8"
             ],
             [
              0.3333333333333333,
              "#9c179e"
             ],
             [
              0.4444444444444444,
              "#bd3786"
             ],
             [
              0.5555555555555556,
              "#d8576b"
             ],
             [
              0.6666666666666666,
              "#ed7953"
             ],
             [
              0.7777777777777778,
              "#fb9f3a"
             ],
             [
              0.8888888888888888,
              "#fdca26"
             ],
             [
              1,
              "#f0f921"
             ]
            ],
            "type": "heatmap"
           }
          ],
          "heatmapgl": [
           {
            "colorbar": {
             "outlinewidth": 0,
             "ticks": ""
            },
            "colorscale": [
             [
              0,
              "#0d0887"
             ],
             [
              0.1111111111111111,
              "#46039f"
             ],
             [
              0.2222222222222222,
              "#7201a8"
             ],
             [
              0.3333333333333333,
              "#9c179e"
             ],
             [
              0.4444444444444444,
              "#bd3786"
             ],
             [
              0.5555555555555556,
              "#d8576b"
             ],
             [
              0.6666666666666666,
              "#ed7953"
             ],
             [
              0.7777777777777778,
              "#fb9f3a"
             ],
             [
              0.8888888888888888,
              "#fdca26"
             ],
             [
              1,
              "#f0f921"
             ]
            ],
            "type": "heatmapgl"
           }
          ],
          "histogram": [
           {
            "marker": {
             "colorbar": {
              "outlinewidth": 0,
              "ticks": ""
             }
            },
            "type": "histogram"
           }
          ],
          "histogram2d": [
           {
            "colorbar": {
             "outlinewidth": 0,
             "ticks": ""
            },
            "colorscale": [
             [
              0,
              "#0d0887"
             ],
             [
              0.1111111111111111,
              "#46039f"
             ],
             [
              0.2222222222222222,
              "#7201a8"
             ],
             [
              0.3333333333333333,
              "#9c179e"
             ],
             [
              0.4444444444444444,
              "#bd3786"
             ],
             [
              0.5555555555555556,
              "#d8576b"
             ],
             [
              0.6666666666666666,
              "#ed7953"
             ],
             [
              0.7777777777777778,
              "#fb9f3a"
             ],
             [
              0.8888888888888888,
              "#fdca26"
             ],
             [
              1,
              "#f0f921"
             ]
            ],
            "type": "histogram2d"
           }
          ],
          "histogram2dcontour": [
           {
            "colorbar": {
             "outlinewidth": 0,
             "ticks": ""
            },
            "colorscale": [
             [
              0,
              "#0d0887"
             ],
             [
              0.1111111111111111,
              "#46039f"
             ],
             [
              0.2222222222222222,
              "#7201a8"
             ],
             [
              0.3333333333333333,
              "#9c179e"
             ],
             [
              0.4444444444444444,
              "#bd3786"
             ],
             [
              0.5555555555555556,
              "#d8576b"
             ],
             [
              0.6666666666666666,
              "#ed7953"
             ],
             [
              0.7777777777777778,
              "#fb9f3a"
             ],
             [
              0.8888888888888888,
              "#fdca26"
             ],
             [
              1,
              "#f0f921"
             ]
            ],
            "type": "histogram2dcontour"
           }
          ],
          "mesh3d": [
           {
            "colorbar": {
             "outlinewidth": 0,
             "ticks": ""
            },
            "type": "mesh3d"
           }
          ],
          "parcoords": [
           {
            "line": {
             "colorbar": {
              "outlinewidth": 0,
              "ticks": ""
             }
            },
            "type": "parcoords"
           }
          ],
          "pie": [
           {
            "automargin": true,
            "type": "pie"
           }
          ],
          "scatter": [
           {
            "marker": {
             "colorbar": {
              "outlinewidth": 0,
              "ticks": ""
             }
            },
            "type": "scatter"
           }
          ],
          "scatter3d": [
           {
            "line": {
             "colorbar": {
              "outlinewidth": 0,
              "ticks": ""
             }
            },
            "marker": {
             "colorbar": {
              "outlinewidth": 0,
              "ticks": ""
             }
            },
            "type": "scatter3d"
           }
          ],
          "scattercarpet": [
           {
            "marker": {
             "colorbar": {
              "outlinewidth": 0,
              "ticks": ""
             }
            },
            "type": "scattercarpet"
           }
          ],
          "scattergeo": [
           {
            "marker": {
             "colorbar": {
              "outlinewidth": 0,
              "ticks": ""
             }
            },
            "type": "scattergeo"
           }
          ],
          "scattergl": [
           {
            "marker": {
             "colorbar": {
              "outlinewidth": 0,
              "ticks": ""
             }
            },
            "type": "scattergl"
           }
          ],
          "scattermapbox": [
           {
            "marker": {
             "colorbar": {
              "outlinewidth": 0,
              "ticks": ""
             }
            },
            "type": "scattermapbox"
           }
          ],
          "scatterpolar": [
           {
            "marker": {
             "colorbar": {
              "outlinewidth": 0,
              "ticks": ""
             }
            },
            "type": "scatterpolar"
           }
          ],
          "scatterpolargl": [
           {
            "marker": {
             "colorbar": {
              "outlinewidth": 0,
              "ticks": ""
             }
            },
            "type": "scatterpolargl"
           }
          ],
          "scatterternary": [
           {
            "marker": {
             "colorbar": {
              "outlinewidth": 0,
              "ticks": ""
             }
            },
            "type": "scatterternary"
           }
          ],
          "surface": [
           {
            "colorbar": {
             "outlinewidth": 0,
             "ticks": ""
            },
            "colorscale": [
             [
              0,
              "#0d0887"
             ],
             [
              0.1111111111111111,
              "#46039f"
             ],
             [
              0.2222222222222222,
              "#7201a8"
             ],
             [
              0.3333333333333333,
              "#9c179e"
             ],
             [
              0.4444444444444444,
              "#bd3786"
             ],
             [
              0.5555555555555556,
              "#d8576b"
             ],
             [
              0.6666666666666666,
              "#ed7953"
             ],
             [
              0.7777777777777778,
              "#fb9f3a"
             ],
             [
              0.8888888888888888,
              "#fdca26"
             ],
             [
              1,
              "#f0f921"
             ]
            ],
            "type": "surface"
           }
          ],
          "table": [
           {
            "cells": {
             "fill": {
              "color": "#EBF0F8"
             },
             "line": {
              "color": "white"
             }
            },
            "header": {
             "fill": {
              "color": "#C8D4E3"
             },
             "line": {
              "color": "white"
             }
            },
            "type": "table"
           }
          ]
         },
         "layout": {
          "annotationdefaults": {
           "arrowcolor": "#2a3f5f",
           "arrowhead": 0,
           "arrowwidth": 1
          },
          "coloraxis": {
           "colorbar": {
            "outlinewidth": 0,
            "ticks": ""
           }
          },
          "colorscale": {
           "diverging": [
            [
             0,
             "#8e0152"
            ],
            [
             0.1,
             "#c51b7d"
            ],
            [
             0.2,
             "#de77ae"
            ],
            [
             0.3,
             "#f1b6da"
            ],
            [
             0.4,
             "#fde0ef"
            ],
            [
             0.5,
             "#f7f7f7"
            ],
            [
             0.6,
             "#e6f5d0"
            ],
            [
             0.7,
             "#b8e186"
            ],
            [
             0.8,
             "#7fbc41"
            ],
            [
             0.9,
             "#4d9221"
            ],
            [
             1,
             "#276419"
            ]
           ],
           "sequential": [
            [
             0,
             "#0d0887"
            ],
            [
             0.1111111111111111,
             "#46039f"
            ],
            [
             0.2222222222222222,
             "#7201a8"
            ],
            [
             0.3333333333333333,
             "#9c179e"
            ],
            [
             0.4444444444444444,
             "#bd3786"
            ],
            [
             0.5555555555555556,
             "#d8576b"
            ],
            [
             0.6666666666666666,
             "#ed7953"
            ],
            [
             0.7777777777777778,
             "#fb9f3a"
            ],
            [
             0.8888888888888888,
             "#fdca26"
            ],
            [
             1,
             "#f0f921"
            ]
           ],
           "sequentialminus": [
            [
             0,
             "#0d0887"
            ],
            [
             0.1111111111111111,
             "#46039f"
            ],
            [
             0.2222222222222222,
             "#7201a8"
            ],
            [
             0.3333333333333333,
             "#9c179e"
            ],
            [
             0.4444444444444444,
             "#bd3786"
            ],
            [
             0.5555555555555556,
             "#d8576b"
            ],
            [
             0.6666666666666666,
             "#ed7953"
            ],
            [
             0.7777777777777778,
             "#fb9f3a"
            ],
            [
             0.8888888888888888,
             "#fdca26"
            ],
            [
             1,
             "#f0f921"
            ]
           ]
          },
          "colorway": [
           "#636efa",
           "#EF553B",
           "#00cc96",
           "#ab63fa",
           "#FFA15A",
           "#19d3f3",
           "#FF6692",
           "#B6E880",
           "#FF97FF",
           "#FECB52"
          ],
          "font": {
           "color": "#2a3f5f"
          },
          "geo": {
           "bgcolor": "white",
           "lakecolor": "white",
           "landcolor": "#E5ECF6",
           "showlakes": true,
           "showland": true,
           "subunitcolor": "white"
          },
          "hoverlabel": {
           "align": "left"
          },
          "hovermode": "closest",
          "mapbox": {
           "style": "light"
          },
          "paper_bgcolor": "white",
          "plot_bgcolor": "#E5ECF6",
          "polar": {
           "angularaxis": {
            "gridcolor": "white",
            "linecolor": "white",
            "ticks": ""
           },
           "bgcolor": "#E5ECF6",
           "radialaxis": {
            "gridcolor": "white",
            "linecolor": "white",
            "ticks": ""
           }
          },
          "scene": {
           "xaxis": {
            "backgroundcolor": "#E5ECF6",
            "gridcolor": "white",
            "gridwidth": 2,
            "linecolor": "white",
            "showbackground": true,
            "ticks": "",
            "zerolinecolor": "white"
           },
           "yaxis": {
            "backgroundcolor": "#E5ECF6",
            "gridcolor": "white",
            "gridwidth": 2,
            "linecolor": "white",
            "showbackground": true,
            "ticks": "",
            "zerolinecolor": "white"
           },
           "zaxis": {
            "backgroundcolor": "#E5ECF6",
            "gridcolor": "white",
            "gridwidth": 2,
            "linecolor": "white",
            "showbackground": true,
            "ticks": "",
            "zerolinecolor": "white"
           }
          },
          "shapedefaults": {
           "line": {
            "color": "#2a3f5f"
           }
          },
          "ternary": {
           "aaxis": {
            "gridcolor": "white",
            "linecolor": "white",
            "ticks": ""
           },
           "baxis": {
            "gridcolor": "white",
            "linecolor": "white",
            "ticks": ""
           },
           "bgcolor": "#E5ECF6",
           "caxis": {
            "gridcolor": "white",
            "linecolor": "white",
            "ticks": ""
           }
          },
          "title": {
           "x": 0.05
          },
          "xaxis": {
           "automargin": true,
           "gridcolor": "white",
           "linecolor": "white",
           "ticks": "",
           "title": {
            "standoff": 15
           },
           "zerolinecolor": "white",
           "zerolinewidth": 2
          },
          "yaxis": {
           "automargin": true,
           "gridcolor": "white",
           "linecolor": "white",
           "ticks": "",
           "title": {
            "standoff": 15
           },
           "zerolinecolor": "white",
           "zerolinewidth": 2
          }
         }
        },
        "title": {
         "text": "Total cases per state"
        },
        "width": 1000
       }
      },
      "text/html": [
       "<div>\n",
       "        \n",
       "        \n",
       "            <div id=\"31588b8a-1ff6-4fcc-b42d-2afa05c59424\" class=\"plotly-graph-div\" style=\"height:700px; width:1000px;\"></div>\n",
       "            <script type=\"text/javascript\">\n",
       "                require([\"plotly\"], function(Plotly) {\n",
       "                    window.PLOTLYENV=window.PLOTLYENV || {};\n",
       "                    \n",
       "                if (document.getElementById(\"31588b8a-1ff6-4fcc-b42d-2afa05c59424\")) {\n",
       "                    Plotly.newPlot(\n",
       "                        '31588b8a-1ff6-4fcc-b42d-2afa05c59424',\n",
       "                        [{\"name\": \"Active\", \"orientation\": \"h\", \"type\": \"bar\", \"x\": [227, 1023, 393, 575, 141, 402, 4, 915, 214, 180, 1426, 126, 389, 30, 41, 105, 12, 16, 401, 22, 451, 48, 1, 16, 28], \"y\": [\"Kerala\", \"Delhi\", \"Telangana\", \"Rajasthan\", \"Haryana\", \"Uttar Pradesh\", \"Ladakh\", \"Tamil Nadu\", \"Jammu and Kashmir\", \"Karnataka\", \"Maharashtra\", \"Punjab\", \"Andhra Pradesh\", \"Uttarakhand\", \"Odisha\", \"West Bengal\", \"Chandigarh\", \"Chhattisgarh\", \"Gujarat\", \"Himachal Pradesh\", \"Madhya Pradesh\", \"Bihar\", \"Andaman and Nicobar Islands\", \"Jharkhand\", \"Assam\"]}, {\"name\": \"Deceased\", \"orientation\": \"h\", \"type\": \"bar\", \"x\": [2, 19, 14, 9, 2, 5, 0, 10, 4, 6, 127, 12, 6, 0, 1, 5, 0, 0, 23, 2, 40, 1, 0, 1, 1], \"y\": [\"Kerala\", \"Delhi\", \"Telangana\", \"Rajasthan\", \"Haryana\", \"Uttar Pradesh\", \"Ladakh\", \"Tamil Nadu\", \"Jammu and Kashmir\", \"Karnataka\", \"Maharashtra\", \"Punjab\", \"Andhra Pradesh\", \"Uttarakhand\", \"Odisha\", \"West Bengal\", \"Chandigarh\", \"Chhattisgarh\", \"Gujarat\", \"Himachal Pradesh\", \"Madhya Pradesh\", \"Bihar\", \"Andaman and Nicobar Islands\", \"Jharkhand\", \"Assam\"]}, {\"name\": \"Recovered\", \"orientation\": \"h\", \"type\": \"bar\", \"x\": [143, 27, 96, 116, 36, 45, 11, 44, 6, 39, 208, 20, 10, 5, 12, 16, 7, 9, 44, 8, 38, 15, 10, 0, 0], \"y\": [\"Kerala\", \"Delhi\", \"Telangana\", \"Rajasthan\", \"Haryana\", \"Uttar Pradesh\", \"Ladakh\", \"Tamil Nadu\", \"Jammu and Kashmir\", \"Karnataka\", \"Maharashtra\", \"Punjab\", \"Andhra Pradesh\", \"Uttarakhand\", \"Odisha\", \"West Bengal\", \"Chandigarh\", \"Chhattisgarh\", \"Gujarat\", \"Himachal Pradesh\", \"Madhya Pradesh\", \"Bihar\", \"Andaman and Nicobar Islands\", \"Jharkhand\", \"Assam\"]}],\n",
       "                        {\"barmode\": \"stack\", \"height\": 700, \"template\": {\"data\": {\"bar\": [{\"error_x\": {\"color\": \"#2a3f5f\"}, \"error_y\": {\"color\": \"#2a3f5f\"}, \"marker\": {\"line\": {\"color\": \"#E5ECF6\", \"width\": 0.5}}, \"type\": \"bar\"}], \"barpolar\": [{\"marker\": {\"line\": {\"color\": \"#E5ECF6\", \"width\": 0.5}}, \"type\": \"barpolar\"}], \"carpet\": [{\"aaxis\": {\"endlinecolor\": \"#2a3f5f\", \"gridcolor\": \"white\", \"linecolor\": \"white\", \"minorgridcolor\": \"white\", \"startlinecolor\": \"#2a3f5f\"}, \"baxis\": {\"endlinecolor\": \"#2a3f5f\", \"gridcolor\": \"white\", \"linecolor\": \"white\", \"minorgridcolor\": \"white\", \"startlinecolor\": \"#2a3f5f\"}, \"type\": \"carpet\"}], \"choropleth\": [{\"colorbar\": {\"outlinewidth\": 0, \"ticks\": \"\"}, \"type\": \"choropleth\"}], \"contour\": [{\"colorbar\": {\"outlinewidth\": 0, \"ticks\": \"\"}, \"colorscale\": [[0.0, \"#0d0887\"], [0.1111111111111111, \"#46039f\"], [0.2222222222222222, \"#7201a8\"], [0.3333333333333333, \"#9c179e\"], [0.4444444444444444, \"#bd3786\"], [0.5555555555555556, \"#d8576b\"], [0.6666666666666666, \"#ed7953\"], [0.7777777777777778, \"#fb9f3a\"], [0.8888888888888888, \"#fdca26\"], [1.0, \"#f0f921\"]], \"type\": \"contour\"}], \"contourcarpet\": [{\"colorbar\": {\"outlinewidth\": 0, \"ticks\": \"\"}, \"type\": \"contourcarpet\"}], \"heatmap\": [{\"colorbar\": {\"outlinewidth\": 0, \"ticks\": \"\"}, \"colorscale\": [[0.0, \"#0d0887\"], [0.1111111111111111, \"#46039f\"], [0.2222222222222222, \"#7201a8\"], [0.3333333333333333, \"#9c179e\"], [0.4444444444444444, \"#bd3786\"], [0.5555555555555556, \"#d8576b\"], [0.6666666666666666, \"#ed7953\"], [0.7777777777777778, \"#fb9f3a\"], [0.8888888888888888, \"#fdca26\"], [1.0, \"#f0f921\"]], \"type\": \"heatmap\"}], \"heatmapgl\": [{\"colorbar\": {\"outlinewidth\": 0, \"ticks\": \"\"}, \"colorscale\": [[0.0, \"#0d0887\"], [0.1111111111111111, \"#46039f\"], [0.2222222222222222, \"#7201a8\"], [0.3333333333333333, \"#9c179e\"], [0.4444444444444444, \"#bd3786\"], [0.5555555555555556, \"#d8576b\"], [0.6666666666666666, \"#ed7953\"], [0.7777777777777778, \"#fb9f3a\"], [0.8888888888888888, \"#fdca26\"], [1.0, \"#f0f921\"]], \"type\": \"heatmapgl\"}], \"histogram\": [{\"marker\": {\"colorbar\": {\"outlinewidth\": 0, \"ticks\": \"\"}}, \"type\": \"histogram\"}], \"histogram2d\": [{\"colorbar\": {\"outlinewidth\": 0, \"ticks\": \"\"}, \"colorscale\": [[0.0, \"#0d0887\"], [0.1111111111111111, \"#46039f\"], [0.2222222222222222, \"#7201a8\"], [0.3333333333333333, \"#9c179e\"], [0.4444444444444444, \"#bd3786\"], [0.5555555555555556, \"#d8576b\"], [0.6666666666666666, \"#ed7953\"], [0.7777777777777778, \"#fb9f3a\"], [0.8888888888888888, \"#fdca26\"], [1.0, \"#f0f921\"]], \"type\": \"histogram2d\"}], \"histogram2dcontour\": [{\"colorbar\": {\"outlinewidth\": 0, \"ticks\": \"\"}, \"colorscale\": [[0.0, \"#0d0887\"], [0.1111111111111111, \"#46039f\"], [0.2222222222222222, \"#7201a8\"], [0.3333333333333333, \"#9c179e\"], [0.4444444444444444, \"#bd3786\"], [0.5555555555555556, \"#d8576b\"], [0.6666666666666666, \"#ed7953\"], [0.7777777777777778, \"#fb9f3a\"], [0.8888888888888888, \"#fdca26\"], [1.0, \"#f0f921\"]], \"type\": \"histogram2dcontour\"}], \"mesh3d\": [{\"colorbar\": {\"outlinewidth\": 0, \"ticks\": \"\"}, \"type\": \"mesh3d\"}], \"parcoords\": [{\"line\": {\"colorbar\": {\"outlinewidth\": 0, \"ticks\": \"\"}}, \"type\": \"parcoords\"}], \"pie\": [{\"automargin\": true, \"type\": \"pie\"}], \"scatter\": [{\"marker\": {\"colorbar\": {\"outlinewidth\": 0, \"ticks\": \"\"}}, \"type\": \"scatter\"}], \"scatter3d\": [{\"line\": {\"colorbar\": {\"outlinewidth\": 0, \"ticks\": \"\"}}, \"marker\": {\"colorbar\": {\"outlinewidth\": 0, \"ticks\": \"\"}}, \"type\": \"scatter3d\"}], \"scattercarpet\": [{\"marker\": {\"colorbar\": {\"outlinewidth\": 0, \"ticks\": \"\"}}, \"type\": \"scattercarpet\"}], \"scattergeo\": [{\"marker\": {\"colorbar\": {\"outlinewidth\": 0, \"ticks\": \"\"}}, \"type\": \"scattergeo\"}], \"scattergl\": [{\"marker\": {\"colorbar\": {\"outlinewidth\": 0, \"ticks\": \"\"}}, \"type\": \"scattergl\"}], \"scattermapbox\": [{\"marker\": {\"colorbar\": {\"outlinewidth\": 0, \"ticks\": \"\"}}, \"type\": \"scattermapbox\"}], \"scatterpolar\": [{\"marker\": {\"colorbar\": {\"outlinewidth\": 0, \"ticks\": \"\"}}, \"type\": \"scatterpolar\"}], \"scatterpolargl\": [{\"marker\": {\"colorbar\": {\"outlinewidth\": 0, \"ticks\": \"\"}}, \"type\": \"scatterpolargl\"}], \"scatterternary\": [{\"marker\": {\"colorbar\": {\"outlinewidth\": 0, \"ticks\": \"\"}}, \"type\": \"scatterternary\"}], \"surface\": [{\"colorbar\": {\"outlinewidth\": 0, \"ticks\": \"\"}, \"colorscale\": [[0.0, \"#0d0887\"], [0.1111111111111111, \"#46039f\"], [0.2222222222222222, \"#7201a8\"], [0.3333333333333333, \"#9c179e\"], [0.4444444444444444, \"#bd3786\"], [0.5555555555555556, \"#d8576b\"], [0.6666666666666666, \"#ed7953\"], [0.7777777777777778, \"#fb9f3a\"], [0.8888888888888888, \"#fdca26\"], [1.0, \"#f0f921\"]], \"type\": \"surface\"}], \"table\": [{\"cells\": {\"fill\": {\"color\": \"#EBF0F8\"}, \"line\": {\"color\": \"white\"}}, \"header\": {\"fill\": {\"color\": \"#C8D4E3\"}, \"line\": {\"color\": \"white\"}}, \"type\": \"table\"}]}, \"layout\": {\"annotationdefaults\": {\"arrowcolor\": \"#2a3f5f\", \"arrowhead\": 0, \"arrowwidth\": 1}, \"coloraxis\": {\"colorbar\": {\"outlinewidth\": 0, \"ticks\": \"\"}}, \"colorscale\": {\"diverging\": [[0, \"#8e0152\"], [0.1, \"#c51b7d\"], [0.2, \"#de77ae\"], [0.3, \"#f1b6da\"], [0.4, \"#fde0ef\"], [0.5, \"#f7f7f7\"], [0.6, \"#e6f5d0\"], [0.7, \"#b8e186\"], [0.8, \"#7fbc41\"], [0.9, \"#4d9221\"], [1, \"#276419\"]], \"sequential\": [[0.0, \"#0d0887\"], [0.1111111111111111, \"#46039f\"], [0.2222222222222222, \"#7201a8\"], [0.3333333333333333, \"#9c179e\"], [0.4444444444444444, \"#bd3786\"], [0.5555555555555556, \"#d8576b\"], [0.6666666666666666, \"#ed7953\"], [0.7777777777777778, \"#fb9f3a\"], [0.8888888888888888, \"#fdca26\"], [1.0, \"#f0f921\"]], \"sequentialminus\": [[0.0, \"#0d0887\"], [0.1111111111111111, \"#46039f\"], [0.2222222222222222, \"#7201a8\"], [0.3333333333333333, \"#9c179e\"], [0.4444444444444444, \"#bd3786\"], [0.5555555555555556, \"#d8576b\"], [0.6666666666666666, \"#ed7953\"], [0.7777777777777778, \"#fb9f3a\"], [0.8888888888888888, \"#fdca26\"], [1.0, \"#f0f921\"]]}, \"colorway\": [\"#636efa\", \"#EF553B\", \"#00cc96\", \"#ab63fa\", \"#FFA15A\", \"#19d3f3\", \"#FF6692\", \"#B6E880\", \"#FF97FF\", \"#FECB52\"], \"font\": {\"color\": \"#2a3f5f\"}, \"geo\": {\"bgcolor\": \"white\", \"lakecolor\": \"white\", \"landcolor\": \"#E5ECF6\", \"showlakes\": true, \"showland\": true, \"subunitcolor\": \"white\"}, \"hoverlabel\": {\"align\": \"left\"}, \"hovermode\": \"closest\", \"mapbox\": {\"style\": \"light\"}, \"paper_bgcolor\": \"white\", \"plot_bgcolor\": \"#E5ECF6\", \"polar\": {\"angularaxis\": {\"gridcolor\": \"white\", \"linecolor\": \"white\", \"ticks\": \"\"}, \"bgcolor\": \"#E5ECF6\", \"radialaxis\": {\"gridcolor\": \"white\", \"linecolor\": \"white\", \"ticks\": \"\"}}, \"scene\": {\"xaxis\": {\"backgroundcolor\": \"#E5ECF6\", \"gridcolor\": \"white\", \"gridwidth\": 2, \"linecolor\": \"white\", \"showbackground\": true, \"ticks\": \"\", \"zerolinecolor\": \"white\"}, \"yaxis\": {\"backgroundcolor\": \"#E5ECF6\", \"gridcolor\": \"white\", \"gridwidth\": 2, \"linecolor\": \"white\", \"showbackground\": true, \"ticks\": \"\", \"zerolinecolor\": \"white\"}, \"zaxis\": {\"backgroundcolor\": \"#E5ECF6\", \"gridcolor\": \"white\", \"gridwidth\": 2, \"linecolor\": \"white\", \"showbackground\": true, \"ticks\": \"\", \"zerolinecolor\": \"white\"}}, \"shapedefaults\": {\"line\": {\"color\": \"#2a3f5f\"}}, \"ternary\": {\"aaxis\": {\"gridcolor\": \"white\", \"linecolor\": \"white\", \"ticks\": \"\"}, \"baxis\": {\"gridcolor\": \"white\", \"linecolor\": \"white\", \"ticks\": \"\"}, \"bgcolor\": \"#E5ECF6\", \"caxis\": {\"gridcolor\": \"white\", \"linecolor\": \"white\", \"ticks\": \"\"}}, \"title\": {\"x\": 0.05}, \"xaxis\": {\"automargin\": true, \"gridcolor\": \"white\", \"linecolor\": \"white\", \"ticks\": \"\", \"title\": {\"standoff\": 15}, \"zerolinecolor\": \"white\", \"zerolinewidth\": 2}, \"yaxis\": {\"automargin\": true, \"gridcolor\": \"white\", \"linecolor\": \"white\", \"ticks\": \"\", \"title\": {\"standoff\": 15}, \"zerolinecolor\": \"white\", \"zerolinewidth\": 2}}}, \"title\": {\"text\": \"Total cases per state\"}, \"width\": 1000},\n",
       "                        {\"responsive\": true}\n",
       "                    ).then(function(){\n",
       "                            \n",
       "var gd = document.getElementById('31588b8a-1ff6-4fcc-b42d-2afa05c59424');\n",
       "var x = new MutationObserver(function (mutations, observer) {{\n",
       "        var display = window.getComputedStyle(gd).display;\n",
       "        if (!display || display === 'none') {{\n",
       "            console.log([gd, 'removed!']);\n",
       "            Plotly.purge(gd);\n",
       "            observer.disconnect();\n",
       "        }}\n",
       "}});\n",
       "\n",
       "// Listen for the removal of the full notebook cells\n",
       "var notebookContainer = gd.closest('#notebook-container');\n",
       "if (notebookContainer) {{\n",
       "    x.observe(notebookContainer, {childList: true});\n",
       "}}\n",
       "\n",
       "// Listen for the clearing of the current output cell\n",
       "var outputEl = gd.closest('.output');\n",
       "if (outputEl) {{\n",
       "    x.observe(outputEl, {childList: true});\n",
       "}}\n",
       "\n",
       "                        })\n",
       "                };\n",
       "                });\n",
       "            </script>\n",
       "        </div>"
      ]
     },
     "metadata": {},
     "output_type": "display_data"
    }
   ],
   "source": [
    "import plotly.graph_objects as go\n",
    "states=data_cases_per_state.index\n",
    "fig = go.Figure(data=[\n",
    "    go.Bar(name='Active', y=states,x=data_cases_per_state['Active'] ,orientation='h'),\n",
    "    go.Bar(name='Deceased', y=states, x=data_cases_per_state['Deceased'] ,orientation='h'),\n",
    "    go.Bar(name='Recovered', y=states,x=data_cases_per_state['Recovered'] ,orientation='h'),\n",
    "])\n",
    "# Change the bar mode\n",
    "fig.update_layout(title=\"Total cases per state\",width=1000,height=700,barmode='stack')\n",
    "fig.show()"
   ]
  },
  {
   "cell_type": "markdown",
   "metadata": {},
   "source": [
    "Chart for type of transmission per state"
   ]
  },
  {
   "cell_type": "code",
   "execution_count": 16,
   "metadata": {},
   "outputs": [],
   "source": [
    "threshold=20\n",
    "data_type_of_transmission_per_state=pd.DataFrame(0,columns=['Imported','Local','Unknown'],index=data['Detected State'].unique())\n",
    "patient_stats=data.groupby(['Detected State','Type of transmission']).size()\n",
    "for state in data_death_and_recovered['State'].unique():\n",
    "    if len(data[data['Detected State']==state])>threshold: \n",
    "        if 'Imported' in patient_stats[state].keys():\n",
    "            data_type_of_transmission_per_state.loc[state]['Imported']=patient_stats[state]['Imported']\n",
    "        if 'Local' in patient_stats[state].keys():\n",
    "            data_type_of_transmission_per_state.loc[state]['Local']=patient_stats[state]['Local']\n",
    "        if 'TBD' in patient_stats[state].keys():\n",
    "            data_type_of_transmission_per_state.loc[state]['Unknown']=patient_stats[state]['TBD']\n",
    "        if '' in patient_stats[state].keys():\n",
    "            data_type_of_transmission_per_state.loc[state]['Unknown']=data_type_of_transmission_per_state.loc[state]['Unknown']+patient_stats[state][''] \n",
    "data_type_of_transmission_per_state=data_type_of_transmission_per_state.loc[(data_type_of_transmission_per_state.sum(axis=1) >threshold)]"
   ]
  },
  {
   "cell_type": "code",
   "execution_count": 213,
   "metadata": {},
   "outputs": [
    {
     "data": {
      "application/vnd.plotly.v1+json": {
       "config": {
        "plotlyServerURL": "https://plot.ly"
       },
       "data": [
        {
         "name": "Imported",
         "orientation": "h",
         "type": "bar",
         "x": [
          185,
          16,
          35,
          44,
          20,
          18,
          28,
          10,
          67,
          61,
          8,
          10,
          5,
          6,
          6,
          6,
          22,
          3,
          8,
          17,
          1
         ],
         "y": [
          "Kerala",
          "Delhi",
          "Telangana",
          "Rajasthan",
          "Haryana",
          "Uttar Pradesh",
          "Tamil Nadu",
          "Jammu and Kashmir",
          "Karnataka",
          "Maharashtra",
          "Punjab",
          "Andhra Pradesh",
          "Uttarakhand",
          "Odisha",
          "West Bengal",
          "Chhattisgarh",
          "Gujarat",
          "Himachal Pradesh",
          "Madhya Pradesh",
          "Bihar",
          "Assam"
         ]
        },
        {
         "name": "Local",
         "orientation": "h",
         "type": "bar",
         "x": [
          84,
          48,
          26,
          84,
          29,
          157,
          578,
          29,
          121,
          47,
          72,
          77,
          4,
          9,
          15,
          1,
          112,
          15,
          25,
          17,
          23
         ],
         "y": [
          "Kerala",
          "Delhi",
          "Telangana",
          "Rajasthan",
          "Haryana",
          "Uttar Pradesh",
          "Tamil Nadu",
          "Jammu and Kashmir",
          "Karnataka",
          "Maharashtra",
          "Punjab",
          "Andhra Pradesh",
          "Uttarakhand",
          "Odisha",
          "West Bengal",
          "Chhattisgarh",
          "Gujarat",
          "Himachal Pradesh",
          "Madhya Pradesh",
          "Bihar",
          "Assam"
         ]
        },
        {
         "name": "Unknown",
         "orientation": "h",
         "type": "bar",
         "x": [
          101,
          1005,
          442,
          572,
          130,
          277,
          363,
          185,
          37,
          1653,
          78,
          318,
          26,
          39,
          105,
          18,
          334,
          14,
          496,
          30,
          5
         ],
         "y": [
          "Kerala",
          "Delhi",
          "Telangana",
          "Rajasthan",
          "Haryana",
          "Uttar Pradesh",
          "Tamil Nadu",
          "Jammu and Kashmir",
          "Karnataka",
          "Maharashtra",
          "Punjab",
          "Andhra Pradesh",
          "Uttarakhand",
          "Odisha",
          "West Bengal",
          "Chhattisgarh",
          "Gujarat",
          "Himachal Pradesh",
          "Madhya Pradesh",
          "Bihar",
          "Assam"
         ]
        }
       ],
       "layout": {
        "barmode": "stack",
        "height": 700,
        "template": {
         "data": {
          "bar": [
           {
            "error_x": {
             "color": "#2a3f5f"
            },
            "error_y": {
             "color": "#2a3f5f"
            },
            "marker": {
             "line": {
              "color": "#E5ECF6",
              "width": 0.5
             }
            },
            "type": "bar"
           }
          ],
          "barpolar": [
           {
            "marker": {
             "line": {
              "color": "#E5ECF6",
              "width": 0.5
             }
            },
            "type": "barpolar"
           }
          ],
          "carpet": [
           {
            "aaxis": {
             "endlinecolor": "#2a3f5f",
             "gridcolor": "white",
             "linecolor": "white",
             "minorgridcolor": "white",
             "startlinecolor": "#2a3f5f"
            },
            "baxis": {
             "endlinecolor": "#2a3f5f",
             "gridcolor": "white",
             "linecolor": "white",
             "minorgridcolor": "white",
             "startlinecolor": "#2a3f5f"
            },
            "type": "carpet"
           }
          ],
          "choropleth": [
           {
            "colorbar": {
             "outlinewidth": 0,
             "ticks": ""
            },
            "type": "choropleth"
           }
          ],
          "contour": [
           {
            "colorbar": {
             "outlinewidth": 0,
             "ticks": ""
            },
            "colorscale": [
             [
              0,
              "#0d0887"
             ],
             [
              0.1111111111111111,
              "#46039f"
             ],
             [
              0.2222222222222222,
              "#7201a8"
             ],
             [
              0.3333333333333333,
              "#9c179e"
             ],
             [
              0.4444444444444444,
              "#bd3786"
             ],
             [
              0.5555555555555556,
              "#d8576b"
             ],
             [
              0.6666666666666666,
              "#ed7953"
             ],
             [
              0.7777777777777778,
              "#fb9f3a"
             ],
             [
              0.8888888888888888,
              "#fdca26"
             ],
             [
              1,
              "#f0f921"
             ]
            ],
            "type": "contour"
           }
          ],
          "contourcarpet": [
           {
            "colorbar": {
             "outlinewidth": 0,
             "ticks": ""
            },
            "type": "contourcarpet"
           }
          ],
          "heatmap": [
           {
            "colorbar": {
             "outlinewidth": 0,
             "ticks": ""
            },
            "colorscale": [
             [
              0,
              "#0d0887"
             ],
             [
              0.1111111111111111,
              "#46039f"
             ],
             [
              0.2222222222222222,
              "#7201a8"
             ],
             [
              0.3333333333333333,
              "#9c179e"
             ],
             [
              0.4444444444444444,
              "#bd3786"
             ],
             [
              0.5555555555555556,
              "#d8576b"
             ],
             [
              0.6666666666666666,
              "#ed7953"
             ],
             [
              0.7777777777777778,
              "#fb9f3a"
             ],
             [
              0.8888888888888888,
              "#fdca26"
             ],
             [
              1,
              "#f0f921"
             ]
            ],
            "type": "heatmap"
           }
          ],
          "heatmapgl": [
           {
            "colorbar": {
             "outlinewidth": 0,
             "ticks": ""
            },
            "colorscale": [
             [
              0,
              "#0d0887"
             ],
             [
              0.1111111111111111,
              "#46039f"
             ],
             [
              0.2222222222222222,
              "#7201a8"
             ],
             [
              0.3333333333333333,
              "#9c179e"
             ],
             [
              0.4444444444444444,
              "#bd3786"
             ],
             [
              0.5555555555555556,
              "#d8576b"
             ],
             [
              0.6666666666666666,
              "#ed7953"
             ],
             [
              0.7777777777777778,
              "#fb9f3a"
             ],
             [
              0.8888888888888888,
              "#fdca26"
             ],
             [
              1,
              "#f0f921"
             ]
            ],
            "type": "heatmapgl"
           }
          ],
          "histogram": [
           {
            "marker": {
             "colorbar": {
              "outlinewidth": 0,
              "ticks": ""
             }
            },
            "type": "histogram"
           }
          ],
          "histogram2d": [
           {
            "colorbar": {
             "outlinewidth": 0,
             "ticks": ""
            },
            "colorscale": [
             [
              0,
              "#0d0887"
             ],
             [
              0.1111111111111111,
              "#46039f"
             ],
             [
              0.2222222222222222,
              "#7201a8"
             ],
             [
              0.3333333333333333,
              "#9c179e"
             ],
             [
              0.4444444444444444,
              "#bd3786"
             ],
             [
              0.5555555555555556,
              "#d8576b"
             ],
             [
              0.6666666666666666,
              "#ed7953"
             ],
             [
              0.7777777777777778,
              "#fb9f3a"
             ],
             [
              0.8888888888888888,
              "#fdca26"
             ],
             [
              1,
              "#f0f921"
             ]
            ],
            "type": "histogram2d"
           }
          ],
          "histogram2dcontour": [
           {
            "colorbar": {
             "outlinewidth": 0,
             "ticks": ""
            },
            "colorscale": [
             [
              0,
              "#0d0887"
             ],
             [
              0.1111111111111111,
              "#46039f"
             ],
             [
              0.2222222222222222,
              "#7201a8"
             ],
             [
              0.3333333333333333,
              "#9c179e"
             ],
             [
              0.4444444444444444,
              "#bd3786"
             ],
             [
              0.5555555555555556,
              "#d8576b"
             ],
             [
              0.6666666666666666,
              "#ed7953"
             ],
             [
              0.7777777777777778,
              "#fb9f3a"
             ],
             [
              0.8888888888888888,
              "#fdca26"
             ],
             [
              1,
              "#f0f921"
             ]
            ],
            "type": "histogram2dcontour"
           }
          ],
          "mesh3d": [
           {
            "colorbar": {
             "outlinewidth": 0,
             "ticks": ""
            },
            "type": "mesh3d"
           }
          ],
          "parcoords": [
           {
            "line": {
             "colorbar": {
              "outlinewidth": 0,
              "ticks": ""
             }
            },
            "type": "parcoords"
           }
          ],
          "pie": [
           {
            "automargin": true,
            "type": "pie"
           }
          ],
          "scatter": [
           {
            "marker": {
             "colorbar": {
              "outlinewidth": 0,
              "ticks": ""
             }
            },
            "type": "scatter"
           }
          ],
          "scatter3d": [
           {
            "line": {
             "colorbar": {
              "outlinewidth": 0,
              "ticks": ""
             }
            },
            "marker": {
             "colorbar": {
              "outlinewidth": 0,
              "ticks": ""
             }
            },
            "type": "scatter3d"
           }
          ],
          "scattercarpet": [
           {
            "marker": {
             "colorbar": {
              "outlinewidth": 0,
              "ticks": ""
             }
            },
            "type": "scattercarpet"
           }
          ],
          "scattergeo": [
           {
            "marker": {
             "colorbar": {
              "outlinewidth": 0,
              "ticks": ""
             }
            },
            "type": "scattergeo"
           }
          ],
          "scattergl": [
           {
            "marker": {
             "colorbar": {
              "outlinewidth": 0,
              "ticks": ""
             }
            },
            "type": "scattergl"
           }
          ],
          "scattermapbox": [
           {
            "marker": {
             "colorbar": {
              "outlinewidth": 0,
              "ticks": ""
             }
            },
            "type": "scattermapbox"
           }
          ],
          "scatterpolar": [
           {
            "marker": {
             "colorbar": {
              "outlinewidth": 0,
              "ticks": ""
             }
            },
            "type": "scatterpolar"
           }
          ],
          "scatterpolargl": [
           {
            "marker": {
             "colorbar": {
              "outlinewidth": 0,
              "ticks": ""
             }
            },
            "type": "scatterpolargl"
           }
          ],
          "scatterternary": [
           {
            "marker": {
             "colorbar": {
              "outlinewidth": 0,
              "ticks": ""
             }
            },
            "type": "scatterternary"
           }
          ],
          "surface": [
           {
            "colorbar": {
             "outlinewidth": 0,
             "ticks": ""
            },
            "colorscale": [
             [
              0,
              "#0d0887"
             ],
             [
              0.1111111111111111,
              "#46039f"
             ],
             [
              0.2222222222222222,
              "#7201a8"
             ],
             [
              0.3333333333333333,
              "#9c179e"
             ],
             [
              0.4444444444444444,
              "#bd3786"
             ],
             [
              0.5555555555555556,
              "#d8576b"
             ],
             [
              0.6666666666666666,
              "#ed7953"
             ],
             [
              0.7777777777777778,
              "#fb9f3a"
             ],
             [
              0.8888888888888888,
              "#fdca26"
             ],
             [
              1,
              "#f0f921"
             ]
            ],
            "type": "surface"
           }
          ],
          "table": [
           {
            "cells": {
             "fill": {
              "color": "#EBF0F8"
             },
             "line": {
              "color": "white"
             }
            },
            "header": {
             "fill": {
              "color": "#C8D4E3"
             },
             "line": {
              "color": "white"
             }
            },
            "type": "table"
           }
          ]
         },
         "layout": {
          "annotationdefaults": {
           "arrowcolor": "#2a3f5f",
           "arrowhead": 0,
           "arrowwidth": 1
          },
          "coloraxis": {
           "colorbar": {
            "outlinewidth": 0,
            "ticks": ""
           }
          },
          "colorscale": {
           "diverging": [
            [
             0,
             "#8e0152"
            ],
            [
             0.1,
             "#c51b7d"
            ],
            [
             0.2,
             "#de77ae"
            ],
            [
             0.3,
             "#f1b6da"
            ],
            [
             0.4,
             "#fde0ef"
            ],
            [
             0.5,
             "#f7f7f7"
            ],
            [
             0.6,
             "#e6f5d0"
            ],
            [
             0.7,
             "#b8e186"
            ],
            [
             0.8,
             "#7fbc41"
            ],
            [
             0.9,
             "#4d9221"
            ],
            [
             1,
             "#276419"
            ]
           ],
           "sequential": [
            [
             0,
             "#0d0887"
            ],
            [
             0.1111111111111111,
             "#46039f"
            ],
            [
             0.2222222222222222,
             "#7201a8"
            ],
            [
             0.3333333333333333,
             "#9c179e"
            ],
            [
             0.4444444444444444,
             "#bd3786"
            ],
            [
             0.5555555555555556,
             "#d8576b"
            ],
            [
             0.6666666666666666,
             "#ed7953"
            ],
            [
             0.7777777777777778,
             "#fb9f3a"
            ],
            [
             0.8888888888888888,
             "#fdca26"
            ],
            [
             1,
             "#f0f921"
            ]
           ],
           "sequentialminus": [
            [
             0,
             "#0d0887"
            ],
            [
             0.1111111111111111,
             "#46039f"
            ],
            [
             0.2222222222222222,
             "#7201a8"
            ],
            [
             0.3333333333333333,
             "#9c179e"
            ],
            [
             0.4444444444444444,
             "#bd3786"
            ],
            [
             0.5555555555555556,
             "#d8576b"
            ],
            [
             0.6666666666666666,
             "#ed7953"
            ],
            [
             0.7777777777777778,
             "#fb9f3a"
            ],
            [
             0.8888888888888888,
             "#fdca26"
            ],
            [
             1,
             "#f0f921"
            ]
           ]
          },
          "colorway": [
           "#636efa",
           "#EF553B",
           "#00cc96",
           "#ab63fa",
           "#FFA15A",
           "#19d3f3",
           "#FF6692",
           "#B6E880",
           "#FF97FF",
           "#FECB52"
          ],
          "font": {
           "color": "#2a3f5f"
          },
          "geo": {
           "bgcolor": "white",
           "lakecolor": "white",
           "landcolor": "#E5ECF6",
           "showlakes": true,
           "showland": true,
           "subunitcolor": "white"
          },
          "hoverlabel": {
           "align": "left"
          },
          "hovermode": "closest",
          "mapbox": {
           "style": "light"
          },
          "paper_bgcolor": "white",
          "plot_bgcolor": "#E5ECF6",
          "polar": {
           "angularaxis": {
            "gridcolor": "white",
            "linecolor": "white",
            "ticks": ""
           },
           "bgcolor": "#E5ECF6",
           "radialaxis": {
            "gridcolor": "white",
            "linecolor": "white",
            "ticks": ""
           }
          },
          "scene": {
           "xaxis": {
            "backgroundcolor": "#E5ECF6",
            "gridcolor": "white",
            "gridwidth": 2,
            "linecolor": "white",
            "showbackground": true,
            "ticks": "",
            "zerolinecolor": "white"
           },
           "yaxis": {
            "backgroundcolor": "#E5ECF6",
            "gridcolor": "white",
            "gridwidth": 2,
            "linecolor": "white",
            "showbackground": true,
            "ticks": "",
            "zerolinecolor": "white"
           },
           "zaxis": {
            "backgroundcolor": "#E5ECF6",
            "gridcolor": "white",
            "gridwidth": 2,
            "linecolor": "white",
            "showbackground": true,
            "ticks": "",
            "zerolinecolor": "white"
           }
          },
          "shapedefaults": {
           "line": {
            "color": "#2a3f5f"
           }
          },
          "ternary": {
           "aaxis": {
            "gridcolor": "white",
            "linecolor": "white",
            "ticks": ""
           },
           "baxis": {
            "gridcolor": "white",
            "linecolor": "white",
            "ticks": ""
           },
           "bgcolor": "#E5ECF6",
           "caxis": {
            "gridcolor": "white",
            "linecolor": "white",
            "ticks": ""
           }
          },
          "title": {
           "x": 0.05
          },
          "xaxis": {
           "automargin": true,
           "gridcolor": "white",
           "linecolor": "white",
           "ticks": "",
           "title": {
            "standoff": 15
           },
           "zerolinecolor": "white",
           "zerolinewidth": 2
          },
          "yaxis": {
           "automargin": true,
           "gridcolor": "white",
           "linecolor": "white",
           "ticks": "",
           "title": {
            "standoff": 15
           },
           "zerolinecolor": "white",
           "zerolinewidth": 2
          }
         }
        },
        "title": {
         "text": "Type of transmission per state"
        },
        "width": 1000
       }
      },
      "text/html": [
       "<div>\n",
       "        \n",
       "        \n",
       "            <div id=\"9f45e30d-a8fa-45b9-aa10-1785f59ae428\" class=\"plotly-graph-div\" style=\"height:700px; width:1000px;\"></div>\n",
       "            <script type=\"text/javascript\">\n",
       "                require([\"plotly\"], function(Plotly) {\n",
       "                    window.PLOTLYENV=window.PLOTLYENV || {};\n",
       "                    \n",
       "                if (document.getElementById(\"9f45e30d-a8fa-45b9-aa10-1785f59ae428\")) {\n",
       "                    Plotly.newPlot(\n",
       "                        '9f45e30d-a8fa-45b9-aa10-1785f59ae428',\n",
       "                        [{\"name\": \"Imported\", \"orientation\": \"h\", \"type\": \"bar\", \"x\": [185, 16, 35, 44, 20, 18, 28, 10, 67, 61, 8, 10, 5, 6, 6, 6, 22, 3, 8, 17, 1], \"y\": [\"Kerala\", \"Delhi\", \"Telangana\", \"Rajasthan\", \"Haryana\", \"Uttar Pradesh\", \"Tamil Nadu\", \"Jammu and Kashmir\", \"Karnataka\", \"Maharashtra\", \"Punjab\", \"Andhra Pradesh\", \"Uttarakhand\", \"Odisha\", \"West Bengal\", \"Chhattisgarh\", \"Gujarat\", \"Himachal Pradesh\", \"Madhya Pradesh\", \"Bihar\", \"Assam\"]}, {\"name\": \"Local\", \"orientation\": \"h\", \"type\": \"bar\", \"x\": [84, 48, 26, 84, 29, 157, 578, 29, 121, 47, 72, 77, 4, 9, 15, 1, 112, 15, 25, 17, 23], \"y\": [\"Kerala\", \"Delhi\", \"Telangana\", \"Rajasthan\", \"Haryana\", \"Uttar Pradesh\", \"Tamil Nadu\", \"Jammu and Kashmir\", \"Karnataka\", \"Maharashtra\", \"Punjab\", \"Andhra Pradesh\", \"Uttarakhand\", \"Odisha\", \"West Bengal\", \"Chhattisgarh\", \"Gujarat\", \"Himachal Pradesh\", \"Madhya Pradesh\", \"Bihar\", \"Assam\"]}, {\"name\": \"Unknown\", \"orientation\": \"h\", \"type\": \"bar\", \"x\": [101, 1005, 442, 572, 130, 277, 363, 185, 37, 1653, 78, 318, 26, 39, 105, 18, 334, 14, 496, 30, 5], \"y\": [\"Kerala\", \"Delhi\", \"Telangana\", \"Rajasthan\", \"Haryana\", \"Uttar Pradesh\", \"Tamil Nadu\", \"Jammu and Kashmir\", \"Karnataka\", \"Maharashtra\", \"Punjab\", \"Andhra Pradesh\", \"Uttarakhand\", \"Odisha\", \"West Bengal\", \"Chhattisgarh\", \"Gujarat\", \"Himachal Pradesh\", \"Madhya Pradesh\", \"Bihar\", \"Assam\"]}],\n",
       "                        {\"barmode\": \"stack\", \"height\": 700, \"template\": {\"data\": {\"bar\": [{\"error_x\": {\"color\": \"#2a3f5f\"}, \"error_y\": {\"color\": \"#2a3f5f\"}, \"marker\": {\"line\": {\"color\": \"#E5ECF6\", \"width\": 0.5}}, \"type\": \"bar\"}], \"barpolar\": [{\"marker\": {\"line\": {\"color\": \"#E5ECF6\", \"width\": 0.5}}, \"type\": \"barpolar\"}], \"carpet\": [{\"aaxis\": {\"endlinecolor\": \"#2a3f5f\", \"gridcolor\": \"white\", \"linecolor\": \"white\", \"minorgridcolor\": \"white\", \"startlinecolor\": \"#2a3f5f\"}, \"baxis\": {\"endlinecolor\": \"#2a3f5f\", \"gridcolor\": \"white\", \"linecolor\": \"white\", \"minorgridcolor\": \"white\", \"startlinecolor\": \"#2a3f5f\"}, \"type\": \"carpet\"}], \"choropleth\": [{\"colorbar\": {\"outlinewidth\": 0, \"ticks\": \"\"}, \"type\": \"choropleth\"}], \"contour\": [{\"colorbar\": {\"outlinewidth\": 0, \"ticks\": \"\"}, \"colorscale\": [[0.0, \"#0d0887\"], [0.1111111111111111, \"#46039f\"], [0.2222222222222222, \"#7201a8\"], [0.3333333333333333, \"#9c179e\"], [0.4444444444444444, \"#bd3786\"], [0.5555555555555556, \"#d8576b\"], [0.6666666666666666, \"#ed7953\"], [0.7777777777777778, \"#fb9f3a\"], [0.8888888888888888, \"#fdca26\"], [1.0, \"#f0f921\"]], \"type\": \"contour\"}], \"contourcarpet\": [{\"colorbar\": {\"outlinewidth\": 0, \"ticks\": \"\"}, \"type\": \"contourcarpet\"}], \"heatmap\": [{\"colorbar\": {\"outlinewidth\": 0, \"ticks\": \"\"}, \"colorscale\": [[0.0, \"#0d0887\"], [0.1111111111111111, \"#46039f\"], [0.2222222222222222, \"#7201a8\"], [0.3333333333333333, \"#9c179e\"], [0.4444444444444444, \"#bd3786\"], [0.5555555555555556, \"#d8576b\"], [0.6666666666666666, \"#ed7953\"], [0.7777777777777778, \"#fb9f3a\"], [0.8888888888888888, \"#fdca26\"], [1.0, \"#f0f921\"]], \"type\": \"heatmap\"}], \"heatmapgl\": [{\"colorbar\": {\"outlinewidth\": 0, \"ticks\": \"\"}, \"colorscale\": [[0.0, \"#0d0887\"], [0.1111111111111111, \"#46039f\"], [0.2222222222222222, \"#7201a8\"], [0.3333333333333333, \"#9c179e\"], [0.4444444444444444, \"#bd3786\"], [0.5555555555555556, \"#d8576b\"], [0.6666666666666666, \"#ed7953\"], [0.7777777777777778, \"#fb9f3a\"], [0.8888888888888888, \"#fdca26\"], [1.0, \"#f0f921\"]], \"type\": \"heatmapgl\"}], \"histogram\": [{\"marker\": {\"colorbar\": {\"outlinewidth\": 0, \"ticks\": \"\"}}, \"type\": \"histogram\"}], \"histogram2d\": [{\"colorbar\": {\"outlinewidth\": 0, \"ticks\": \"\"}, \"colorscale\": [[0.0, \"#0d0887\"], [0.1111111111111111, \"#46039f\"], [0.2222222222222222, \"#7201a8\"], [0.3333333333333333, \"#9c179e\"], [0.4444444444444444, \"#bd3786\"], [0.5555555555555556, \"#d8576b\"], [0.6666666666666666, \"#ed7953\"], [0.7777777777777778, \"#fb9f3a\"], [0.8888888888888888, \"#fdca26\"], [1.0, \"#f0f921\"]], \"type\": \"histogram2d\"}], \"histogram2dcontour\": [{\"colorbar\": {\"outlinewidth\": 0, \"ticks\": \"\"}, \"colorscale\": [[0.0, \"#0d0887\"], [0.1111111111111111, \"#46039f\"], [0.2222222222222222, \"#7201a8\"], [0.3333333333333333, \"#9c179e\"], [0.4444444444444444, \"#bd3786\"], [0.5555555555555556, \"#d8576b\"], [0.6666666666666666, \"#ed7953\"], [0.7777777777777778, \"#fb9f3a\"], [0.8888888888888888, \"#fdca26\"], [1.0, \"#f0f921\"]], \"type\": \"histogram2dcontour\"}], \"mesh3d\": [{\"colorbar\": {\"outlinewidth\": 0, \"ticks\": \"\"}, \"type\": \"mesh3d\"}], \"parcoords\": [{\"line\": {\"colorbar\": {\"outlinewidth\": 0, \"ticks\": \"\"}}, \"type\": \"parcoords\"}], \"pie\": [{\"automargin\": true, \"type\": \"pie\"}], \"scatter\": [{\"marker\": {\"colorbar\": {\"outlinewidth\": 0, \"ticks\": \"\"}}, \"type\": \"scatter\"}], \"scatter3d\": [{\"line\": {\"colorbar\": {\"outlinewidth\": 0, \"ticks\": \"\"}}, \"marker\": {\"colorbar\": {\"outlinewidth\": 0, \"ticks\": \"\"}}, \"type\": \"scatter3d\"}], \"scattercarpet\": [{\"marker\": {\"colorbar\": {\"outlinewidth\": 0, \"ticks\": \"\"}}, \"type\": \"scattercarpet\"}], \"scattergeo\": [{\"marker\": {\"colorbar\": {\"outlinewidth\": 0, \"ticks\": \"\"}}, \"type\": \"scattergeo\"}], \"scattergl\": [{\"marker\": {\"colorbar\": {\"outlinewidth\": 0, \"ticks\": \"\"}}, \"type\": \"scattergl\"}], \"scattermapbox\": [{\"marker\": {\"colorbar\": {\"outlinewidth\": 0, \"ticks\": \"\"}}, \"type\": \"scattermapbox\"}], \"scatterpolar\": [{\"marker\": {\"colorbar\": {\"outlinewidth\": 0, \"ticks\": \"\"}}, \"type\": \"scatterpolar\"}], \"scatterpolargl\": [{\"marker\": {\"colorbar\": {\"outlinewidth\": 0, \"ticks\": \"\"}}, \"type\": \"scatterpolargl\"}], \"scatterternary\": [{\"marker\": {\"colorbar\": {\"outlinewidth\": 0, \"ticks\": \"\"}}, \"type\": \"scatterternary\"}], \"surface\": [{\"colorbar\": {\"outlinewidth\": 0, \"ticks\": \"\"}, \"colorscale\": [[0.0, \"#0d0887\"], [0.1111111111111111, \"#46039f\"], [0.2222222222222222, \"#7201a8\"], [0.3333333333333333, \"#9c179e\"], [0.4444444444444444, \"#bd3786\"], [0.5555555555555556, \"#d8576b\"], [0.6666666666666666, \"#ed7953\"], [0.7777777777777778, \"#fb9f3a\"], [0.8888888888888888, \"#fdca26\"], [1.0, \"#f0f921\"]], \"type\": \"surface\"}], \"table\": [{\"cells\": {\"fill\": {\"color\": \"#EBF0F8\"}, \"line\": {\"color\": \"white\"}}, \"header\": {\"fill\": {\"color\": \"#C8D4E3\"}, \"line\": {\"color\": \"white\"}}, \"type\": \"table\"}]}, \"layout\": {\"annotationdefaults\": {\"arrowcolor\": \"#2a3f5f\", \"arrowhead\": 0, \"arrowwidth\": 1}, \"coloraxis\": {\"colorbar\": {\"outlinewidth\": 0, \"ticks\": \"\"}}, \"colorscale\": {\"diverging\": [[0, \"#8e0152\"], [0.1, \"#c51b7d\"], [0.2, \"#de77ae\"], [0.3, \"#f1b6da\"], [0.4, \"#fde0ef\"], [0.5, \"#f7f7f7\"], [0.6, \"#e6f5d0\"], [0.7, \"#b8e186\"], [0.8, \"#7fbc41\"], [0.9, \"#4d9221\"], [1, \"#276419\"]], \"sequential\": [[0.0, \"#0d0887\"], [0.1111111111111111, \"#46039f\"], [0.2222222222222222, \"#7201a8\"], [0.3333333333333333, \"#9c179e\"], [0.4444444444444444, \"#bd3786\"], [0.5555555555555556, \"#d8576b\"], [0.6666666666666666, \"#ed7953\"], [0.7777777777777778, \"#fb9f3a\"], [0.8888888888888888, \"#fdca26\"], [1.0, \"#f0f921\"]], \"sequentialminus\": [[0.0, \"#0d0887\"], [0.1111111111111111, \"#46039f\"], [0.2222222222222222, \"#7201a8\"], [0.3333333333333333, \"#9c179e\"], [0.4444444444444444, \"#bd3786\"], [0.5555555555555556, \"#d8576b\"], [0.6666666666666666, \"#ed7953\"], [0.7777777777777778, \"#fb9f3a\"], [0.8888888888888888, \"#fdca26\"], [1.0, \"#f0f921\"]]}, \"colorway\": [\"#636efa\", \"#EF553B\", \"#00cc96\", \"#ab63fa\", \"#FFA15A\", \"#19d3f3\", \"#FF6692\", \"#B6E880\", \"#FF97FF\", \"#FECB52\"], \"font\": {\"color\": \"#2a3f5f\"}, \"geo\": {\"bgcolor\": \"white\", \"lakecolor\": \"white\", \"landcolor\": \"#E5ECF6\", \"showlakes\": true, \"showland\": true, \"subunitcolor\": \"white\"}, \"hoverlabel\": {\"align\": \"left\"}, \"hovermode\": \"closest\", \"mapbox\": {\"style\": \"light\"}, \"paper_bgcolor\": \"white\", \"plot_bgcolor\": \"#E5ECF6\", \"polar\": {\"angularaxis\": {\"gridcolor\": \"white\", \"linecolor\": \"white\", \"ticks\": \"\"}, \"bgcolor\": \"#E5ECF6\", \"radialaxis\": {\"gridcolor\": \"white\", \"linecolor\": \"white\", \"ticks\": \"\"}}, \"scene\": {\"xaxis\": {\"backgroundcolor\": \"#E5ECF6\", \"gridcolor\": \"white\", \"gridwidth\": 2, \"linecolor\": \"white\", \"showbackground\": true, \"ticks\": \"\", \"zerolinecolor\": \"white\"}, \"yaxis\": {\"backgroundcolor\": \"#E5ECF6\", \"gridcolor\": \"white\", \"gridwidth\": 2, \"linecolor\": \"white\", \"showbackground\": true, \"ticks\": \"\", \"zerolinecolor\": \"white\"}, \"zaxis\": {\"backgroundcolor\": \"#E5ECF6\", \"gridcolor\": \"white\", \"gridwidth\": 2, \"linecolor\": \"white\", \"showbackground\": true, \"ticks\": \"\", \"zerolinecolor\": \"white\"}}, \"shapedefaults\": {\"line\": {\"color\": \"#2a3f5f\"}}, \"ternary\": {\"aaxis\": {\"gridcolor\": \"white\", \"linecolor\": \"white\", \"ticks\": \"\"}, \"baxis\": {\"gridcolor\": \"white\", \"linecolor\": \"white\", \"ticks\": \"\"}, \"bgcolor\": \"#E5ECF6\", \"caxis\": {\"gridcolor\": \"white\", \"linecolor\": \"white\", \"ticks\": \"\"}}, \"title\": {\"x\": 0.05}, \"xaxis\": {\"automargin\": true, \"gridcolor\": \"white\", \"linecolor\": \"white\", \"ticks\": \"\", \"title\": {\"standoff\": 15}, \"zerolinecolor\": \"white\", \"zerolinewidth\": 2}, \"yaxis\": {\"automargin\": true, \"gridcolor\": \"white\", \"linecolor\": \"white\", \"ticks\": \"\", \"title\": {\"standoff\": 15}, \"zerolinecolor\": \"white\", \"zerolinewidth\": 2}}}, \"title\": {\"text\": \"Type of transmission per state\"}, \"width\": 1000},\n",
       "                        {\"responsive\": true}\n",
       "                    ).then(function(){\n",
       "                            \n",
       "var gd = document.getElementById('9f45e30d-a8fa-45b9-aa10-1785f59ae428');\n",
       "var x = new MutationObserver(function (mutations, observer) {{\n",
       "        var display = window.getComputedStyle(gd).display;\n",
       "        if (!display || display === 'none') {{\n",
       "            console.log([gd, 'removed!']);\n",
       "            Plotly.purge(gd);\n",
       "            observer.disconnect();\n",
       "        }}\n",
       "}});\n",
       "\n",
       "// Listen for the removal of the full notebook cells\n",
       "var notebookContainer = gd.closest('#notebook-container');\n",
       "if (notebookContainer) {{\n",
       "    x.observe(notebookContainer, {childList: true});\n",
       "}}\n",
       "\n",
       "// Listen for the clearing of the current output cell\n",
       "var outputEl = gd.closest('.output');\n",
       "if (outputEl) {{\n",
       "    x.observe(outputEl, {childList: true});\n",
       "}}\n",
       "\n",
       "                        })\n",
       "                };\n",
       "                });\n",
       "            </script>\n",
       "        </div>"
      ]
     },
     "metadata": {},
     "output_type": "display_data"
    }
   ],
   "source": [
    "import plotly.graph_objects as go\n",
    "states=data_type_of_transmission_per_state.index\n",
    "fig = go.Figure(data=[\n",
    "    go.Bar(name='Imported', y=states,x=data_type_of_transmission_per_state['Imported'] ,orientation='h'),\n",
    "    go.Bar(name='Local', y=states, x=data_type_of_transmission_per_state['Local'] ,orientation='h'),\n",
    "    go.Bar(name='Unknown', y=states,x=data_type_of_transmission_per_state['Unknown'] ,orientation='h'),\n",
    "])\n",
    "# Change the bar mode\n",
    "fig.update_layout( title=\"Type of transmission per state\",width=1000,height=700,barmode='stack')\n",
    "fig.show()"
   ]
  },
  {
   "cell_type": "markdown",
   "metadata": {
    "colab_type": "text",
    "id": "GEjWIPBd_TJz"
   },
   "source": [
    "Chart for total testing and percentage"
   ]
  },
  {
   "cell_type": "code",
   "execution_count": 60,
   "metadata": {
    "colab": {
     "base_uri": "https://localhost:8080/",
     "height": 639
    },
    "colab_type": "code",
    "id": "G5mWVJjx2M_g",
    "outputId": "3ad9d801-83cd-4279-bdfe-e804d4f1900b"
   },
   "outputs": [
    {
     "data": {
      "text/html": [
       "<div>\n",
       "<style scoped>\n",
       "    .dataframe tbody tr th:only-of-type {\n",
       "        vertical-align: middle;\n",
       "    }\n",
       "\n",
       "    .dataframe tbody tr th {\n",
       "        vertical-align: top;\n",
       "    }\n",
       "\n",
       "    .dataframe thead th {\n",
       "        text-align: right;\n",
       "    }\n",
       "</style>\n",
       "<table border=\"1\" class=\"dataframe\">\n",
       "  <thead>\n",
       "    <tr style=\"text-align: right;\">\n",
       "      <th></th>\n",
       "      <th>Total Tested</th>\n",
       "      <th>Positive</th>\n",
       "      <th>Negative</th>\n",
       "      <th>Percentage</th>\n",
       "    </tr>\n",
       "  </thead>\n",
       "  <tbody>\n",
       "    <tr>\n",
       "      <th>Tamil Nadu</th>\n",
       "      <td>9842</td>\n",
       "      <td>969</td>\n",
       "      <td>6838</td>\n",
       "      <td>0.098456</td>\n",
       "    </tr>\n",
       "    <tr>\n",
       "      <th>Delhi</th>\n",
       "      <td>11709</td>\n",
       "      <td>1069</td>\n",
       "      <td>10218</td>\n",
       "      <td>0.091297</td>\n",
       "    </tr>\n",
       "    <tr>\n",
       "      <th>Chandigarh</th>\n",
       "      <td>264</td>\n",
       "      <td>19</td>\n",
       "      <td>223</td>\n",
       "      <td>0.071970</td>\n",
       "    </tr>\n",
       "    <tr>\n",
       "      <th>Jammu and Kashmir</th>\n",
       "      <td>3206</td>\n",
       "      <td>224</td>\n",
       "      <td>2982</td>\n",
       "      <td>0.069869</td>\n",
       "    </tr>\n",
       "    <tr>\n",
       "      <th>Madhya Pradesh</th>\n",
       "      <td>8516</td>\n",
       "      <td>529</td>\n",
       "      <td>5790</td>\n",
       "      <td>0.062118</td>\n",
       "    </tr>\n",
       "    <tr>\n",
       "      <th>West Bengal</th>\n",
       "      <td>2286</td>\n",
       "      <td>126</td>\n",
       "      <td>0</td>\n",
       "      <td>0.055118</td>\n",
       "    </tr>\n",
       "    <tr>\n",
       "      <th>Andhra Pradesh</th>\n",
       "      <td>6958</td>\n",
       "      <td>381</td>\n",
       "      <td>6577</td>\n",
       "      <td>0.054757</td>\n",
       "    </tr>\n",
       "    <tr>\n",
       "      <th>Maharashtra</th>\n",
       "      <td>35668</td>\n",
       "      <td>1761</td>\n",
       "      <td>34094</td>\n",
       "      <td>0.049372</td>\n",
       "    </tr>\n",
       "    <tr>\n",
       "      <th>Gujarat</th>\n",
       "      <td>9763</td>\n",
       "      <td>468</td>\n",
       "      <td>8888</td>\n",
       "      <td>0.047936</td>\n",
       "    </tr>\n",
       "    <tr>\n",
       "      <th>Haryana</th>\n",
       "      <td>3635</td>\n",
       "      <td>163</td>\n",
       "      <td>2406</td>\n",
       "      <td>0.044842</td>\n",
       "    </tr>\n",
       "    <tr>\n",
       "      <th>Uttar Pradesh</th>\n",
       "      <td>10595</td>\n",
       "      <td>452</td>\n",
       "      <td>10012</td>\n",
       "      <td>0.042662</td>\n",
       "    </tr>\n",
       "    <tr>\n",
       "      <th>Punjab</th>\n",
       "      <td>3909</td>\n",
       "      <td>158</td>\n",
       "      <td>3249</td>\n",
       "      <td>0.040420</td>\n",
       "    </tr>\n",
       "    <tr>\n",
       "      <th>Himachal Pradesh</th>\n",
       "      <td>900</td>\n",
       "      <td>30</td>\n",
       "      <td>870</td>\n",
       "      <td>0.033333</td>\n",
       "    </tr>\n",
       "    <tr>\n",
       "      <th>Rajasthan</th>\n",
       "      <td>24965</td>\n",
       "      <td>751</td>\n",
       "      <td>22701</td>\n",
       "      <td>0.030082</td>\n",
       "    </tr>\n",
       "    <tr>\n",
       "      <th>Kerala</th>\n",
       "      <td>14163</td>\n",
       "      <td>373</td>\n",
       "      <td>12818</td>\n",
       "      <td>0.026336</td>\n",
       "    </tr>\n",
       "    <tr>\n",
       "      <th>Karnataka</th>\n",
       "      <td>8560</td>\n",
       "      <td>215</td>\n",
       "      <td>8231</td>\n",
       "      <td>0.025117</td>\n",
       "    </tr>\n",
       "    <tr>\n",
       "      <th>Uttarakhand</th>\n",
       "      <td>1705</td>\n",
       "      <td>35</td>\n",
       "      <td>1340</td>\n",
       "      <td>0.020528</td>\n",
       "    </tr>\n",
       "    <tr>\n",
       "      <th>Goa</th>\n",
       "      <td>354</td>\n",
       "      <td>7</td>\n",
       "      <td>0</td>\n",
       "      <td>0.019774</td>\n",
       "    </tr>\n",
       "    <tr>\n",
       "      <th>Odisha</th>\n",
       "      <td>3551</td>\n",
       "      <td>51</td>\n",
       "      <td>3497</td>\n",
       "      <td>0.014362</td>\n",
       "    </tr>\n",
       "    <tr>\n",
       "      <th>Mizoram</th>\n",
       "      <td>74</td>\n",
       "      <td>1</td>\n",
       "      <td>0</td>\n",
       "      <td>0.013514</td>\n",
       "    </tr>\n",
       "    <tr>\n",
       "      <th>Assam</th>\n",
       "      <td>3011</td>\n",
       "      <td>29</td>\n",
       "      <td>2842</td>\n",
       "      <td>0.009631</td>\n",
       "    </tr>\n",
       "    <tr>\n",
       "      <th>Bihar</th>\n",
       "      <td>6703</td>\n",
       "      <td>64</td>\n",
       "      <td>0</td>\n",
       "      <td>0.009548</td>\n",
       "    </tr>\n",
       "    <tr>\n",
       "      <th>Jharkhand</th>\n",
       "      <td>1912</td>\n",
       "      <td>17</td>\n",
       "      <td>1529</td>\n",
       "      <td>0.008891</td>\n",
       "    </tr>\n",
       "    <tr>\n",
       "      <th>Arunachal Pradesh</th>\n",
       "      <td>206</td>\n",
       "      <td>1</td>\n",
       "      <td>185</td>\n",
       "      <td>0.004854</td>\n",
       "    </tr>\n",
       "    <tr>\n",
       "      <th>Chhattisgarh</th>\n",
       "      <td>3858</td>\n",
       "      <td>18</td>\n",
       "      <td>3503</td>\n",
       "      <td>0.004666</td>\n",
       "    </tr>\n",
       "    <tr>\n",
       "      <th>Nagaland</th>\n",
       "      <td>70</td>\n",
       "      <td>0</td>\n",
       "      <td>70</td>\n",
       "      <td>0.000000</td>\n",
       "    </tr>\n",
       "  </tbody>\n",
       "</table>\n",
       "</div>"
      ],
      "text/plain": [
       "                   Total Tested  Positive  Negative  Percentage\n",
       "Tamil Nadu                 9842       969      6838    0.098456\n",
       "Delhi                     11709      1069     10218    0.091297\n",
       "Chandigarh                  264        19       223    0.071970\n",
       "Jammu and Kashmir          3206       224      2982    0.069869\n",
       "Madhya Pradesh             8516       529      5790    0.062118\n",
       "West Bengal                2286       126         0    0.055118\n",
       "Andhra Pradesh             6958       381      6577    0.054757\n",
       "Maharashtra               35668      1761     34094    0.049372\n",
       "Gujarat                    9763       468      8888    0.047936\n",
       "Haryana                    3635       163      2406    0.044842\n",
       "Uttar Pradesh             10595       452     10012    0.042662\n",
       "Punjab                     3909       158      3249    0.040420\n",
       "Himachal Pradesh            900        30       870    0.033333\n",
       "Rajasthan                 24965       751     22701    0.030082\n",
       "Kerala                    14163       373     12818    0.026336\n",
       "Karnataka                  8560       215      8231    0.025117\n",
       "Uttarakhand                1705        35      1340    0.020528\n",
       "Goa                         354         7         0    0.019774\n",
       "Odisha                     3551        51      3497    0.014362\n",
       "Mizoram                      74         1         0    0.013514\n",
       "Assam                      3011        29      2842    0.009631\n",
       "Bihar                      6703        64         0    0.009548\n",
       "Jharkhand                  1912        17      1529    0.008891\n",
       "Arunachal Pradesh           206         1       185    0.004854\n",
       "Chhattisgarh               3858        18      3503    0.004666\n",
       "Nagaland                     70         0        70    0.000000"
      ]
     },
     "execution_count": 60,
     "metadata": {},
     "output_type": "execute_result"
    }
   ],
   "source": [
    "percentage=pd.DataFrame(0,columns=['Total Tested','Positive','Negative','Percentage'],index=[keys for keys in data_total_tested.groupby('State').size().keys()])\n",
    "for index,rows in data_total_tested.iterrows():\n",
    "        percentage.loc[rows['State']]['Total Tested']=rows['Total Tested']\n",
    "        percentage.loc[rows['State']]['Positive']=rows['Positive']\n",
    "        percentage.loc[rows['State']]['Negative']=rows['Negative']\n",
    "percentage['Percentage']=percentage['Positive']/percentage['Total Tested']\n",
    "percentage.sort_values(by='Percentage',ascending=False)"
   ]
  },
  {
   "cell_type": "code",
   "execution_count": 211,
   "metadata": {},
   "outputs": [
    {
     "data": {
      "image/png": "[encoded data removed]",
      "text/plain": [
       "<Figure size 720x792 with 1 Axes>"
      ]
     },
     "metadata": {},
     "output_type": "display_data"
    }
   ],
   "source": [
    "plt.figure(figsize=(10,11))\n",
    "labels = percentage[percentage['Total Tested']>2000].index\n",
    "sizes = percentage[percentage['Total Tested']>2000]['Total Tested']\n",
    "#colors = ['gold', 'yellowgreen', 'lightcoral', 'lightskyblue']\n",
    "#explode = (0.1, 0, 0, 0)  # explode 1st slice\n",
    "\n",
    "# Plot\n",
    "plt.pie(sizes,labels=labels, \n",
    "autopct='%1.1f%%', shadow=True,radius=10, startangle=90)\n",
    "plt.title(\"Total Testing \", fontsize=22)\n",
    "plt.axis('equal')\n",
    "plt.show()"
   ]
  },
  {
   "cell_type": "markdown",
   "metadata": {},
   "source": [
    "Statewise testing trends"
   ]
  },
  {
   "cell_type": "code",
   "execution_count": 123,
   "metadata": {},
   "outputs": [],
   "source": [
    "data_statewise_tests=pd.DataFrame(np.nan,columns=data_total_tested['Updated On'].unique(),index=[keys for keys in data_total_tested.groupby('State').size().keys()])\n",
    "for index,rows in data_total_tested.iterrows():\n",
    "    data_statewise_tests.loc[rows['State']][rows['Updated On']]=rows['Total Tested']\n"
   ]
  },
  {
   "cell_type": "code",
   "execution_count": 194,
   "metadata": {},
   "outputs": [
    {
     "data": {
      "image/png": "[encoded data removed]",
      "text/plain": [
       "<Figure size 720x360 with 1 Axes>"
      ]
     },
     "metadata": {
      "needs_background": "light"
     },
     "output_type": "display_data"
    }
   ],
   "source": [
    "legend=[]\n",
    "plt.figure(figsize=(10,5))\n",
    "for index,rows in data_statewise_tests.iterrows():\n",
    "    if(index in ['Maharashtra','Delhi','West Bengal','Kerala','Rajasthan','Karnataka','Haryana','Bihar']):\n",
    "        legend.append(index)\n",
    "        plt.plot(np.arange(len(rows)),rows.fillna(method='bfill'))\n",
    "plt.legend(legend, bbox_to_anchor=(1.16,0.4), loc=\"lower right\", \n",
    "                          bbox_transform=plt.gcf().transFigure)\n",
    "plt.title(\"Statewise Testing Trends \", fontsize=22)\n",
    "plt.show()"
   ]
  },
  {
   "cell_type": "markdown",
   "metadata": {},
   "source": [
    "Plot of daywise trends of confirmed cases"
   ]
  },
  {
   "cell_type": "code",
   "execution_count": 195,
   "metadata": {},
   "outputs": [],
   "source": [
    "data_per_state=pd.DataFrame(0,index=data_daily_cases.columns[2:],columns=data_daily_cases['Date'].unique())\n",
    "for date in data_daily_cases['Date'].unique():\n",
    "    data_per_state[date]=data_daily_cases[data_daily_cases['Date']==date].iloc[0] #0 for confirmed cases\n",
    "    \n",
    "for index,rows in data_per_state.iterrows():\n",
    "    data_per_state.loc[index]=data_per_state.loc[index].cumsum()\n",
    "data_per_state=data_per_state[1:]"
   ]
  },
  {
   "cell_type": "code",
   "execution_count": 220,
   "metadata": {},
   "outputs": [
    {
     "data": {
      "image/png": "[encoded data removed]",
      "text/plain": [
       "<Figure size 864x576 with 1 Axes>"
      ]
     },
     "metadata": {
      "needs_background": "light"
     },
     "output_type": "display_data"
    }
   ],
   "source": [
    "doubling_factor1=3\n",
    "doubling_factor2=2.5\n",
    "plt.figure(figsize=(12,8))\n",
    "legend=[]\n",
    "for index,rows in data_per_state.iterrows():\n",
    "    if index in ['MH','DL','WB','KL','RJ','KA','TN']:\n",
    "        legend.append(index)\n",
    "        plt.plot(np.arange(len(rows)),rows.values)\n",
    "plt.plot(pow(2,(np.arange(len(rows))/doubling_factor1)),color='black')\n",
    "legend.append('Doubles every '+str(doubling_factor1)+' days')\n",
    "plt.plot(pow(2,(np.arange(len(rows))/doubling_factor2)),color='gray')\n",
    "legend.append('Doubles every '+str(doubling_factor2)+' days')\n",
    "plt.legend(legend, bbox_to_anchor=(1.3,0.6),bbox_transform=plt.gcf().transFigure)\n",
    "plt.title(\"Daywise trends of confirmed cases \", fontsize=22)\n",
    "plt.show()"
   ]
  },
  {
   "cell_type": "markdown",
   "metadata": {},
   "source": [
    "Daywise country trends"
   ]
  },
  {
   "cell_type": "code",
   "execution_count": 221,
   "metadata": {},
   "outputs": [
    {
     "data": {
      "image/png": "[encoded data removed]",
      "text/plain": [
       "<Figure size 864x576 with 1 Axes>"
      ]
     },
     "metadata": {
      "needs_background": "light"
     },
     "output_type": "display_data"
    }
   ],
   "source": [
    "legend=[]\n",
    "doubling_factor=4\n",
    "plt.figure(figsize=(12,8))\n",
    "initial_val=math.log2(data_per_state.loc['TT'][0])\n",
    "plt.plot(np.arange(len(data_per_state.loc['TT'])),data_per_state.loc['TT'].values)\n",
    "legend.append('All India patient count')\n",
    "plt.plot(pow(2,(np.arange(len(data_per_state.loc['TT']))/doubling_factor)+int(initial_val)),color='black')\n",
    "legend.append('Doubles every '+str(doubling_factor)+' days')\n",
    "plt.legend(legend, bbox_to_anchor=(1.3,0.6),bbox_transform=plt.gcf().transFigure)\n",
    "plt.title(\"Daywise country trends\",fontsize=22)\n",
    "plt.show()"
   ]
  },
  {
   "cell_type": "markdown",
   "metadata": {},
   "source": [
    "Average age of corona infected patients"
   ]
  },
  {
   "cell_type": "code",
   "execution_count": 24,
   "metadata": {},
   "outputs": [
    {
     "data": {
      "text/plain": [
       "40.45668629100084"
      ]
     },
     "execution_count": 24,
     "metadata": {},
     "output_type": "execute_result"
    }
   ],
   "source": [
    "age=data['Age Bracket']\n",
    "age=age.dropna()\n",
    "sum(age)/len(age)"
   ]
  },
  {
   "cell_type": "code",
   "execution_count": 25,
   "metadata": {},
   "outputs": [
    {
     "data": {
      "text/plain": [
       "0.23684210526315788"
      ]
     },
     "execution_count": 25,
     "metadata": {},
     "output_type": "execute_result"
    }
   ],
   "source": [
    "gender_status = data.groupby([\"Gender\",\"Current Status\"]).size()\n",
    "gender_status['F',\"Deceased\"]/(gender_status['F',\"Deceased\"]+gender_status['F',\"Recovered\"])"
   ]
  },
  {
   "cell_type": "code",
   "execution_count": 26,
   "metadata": {},
   "outputs": [
    {
     "data": {
      "text/plain": [
       "Gender\n",
       "     0.040816\n",
       "F    0.236842\n",
       "M    0.243902\n",
       "dtype: float64"
      ]
     },
     "execution_count": 26,
     "metadata": {},
     "output_type": "execute_result"
    }
   ],
   "source": [
    "gender_status[:,\"Deceased\"]/(gender_status[:,\"Deceased\"]+gender_status[:,\"Recovered\"])"
   ]
  },
  {
   "cell_type": "markdown",
   "metadata": {
    "colab_type": "text",
    "id": "1Z6QwW1JK8kq"
   },
   "source": [
    "# Save in a list, all the cluster of patient\n",
    "\n"
   ]
  },
  {
   "cell_type": "code",
   "execution_count": 27,
   "metadata": {
    "colab": {},
    "colab_type": "code",
    "id": "9_f0TecQQCKE"
   },
   "outputs": [],
   "source": [
    "cluster=[]\n",
    "for index, rows in data.iterrows(): \n",
    "    if(len(rows['Contracted from which Patient (Suspected)'])>0):\n",
    "        contracted_from=rows['Contracted from which Patient (Suspected)'].split(',')\n",
    "        contracted_from.append(\"P\"+rows['Patient Number'])\n",
    "        cluster.append(contracted_from)\n",
    "    else:\n",
    "        cluster.append([\"P\"+rows['Patient Number']])"
   ]
  },
  {
   "cell_type": "markdown",
   "metadata": {
    "colab_type": "text",
    "id": "kk_PtjewLboR"
   },
   "source": [
    "Removing sublists from the entire list"
   ]
  },
  {
   "cell_type": "code",
   "execution_count": 28,
   "metadata": {
    "colab": {},
    "colab_type": "code",
    "id": "SwHRAUlCPxZS"
   },
   "outputs": [],
   "source": [
    "def removeSublist(lst): \n",
    "    curr_res = [] \n",
    "    result = [] \n",
    "    for ele in sorted(map(set, lst), key = len, reverse = True): \n",
    "        if not any(ele <= req for req in curr_res): \n",
    "            curr_res.append(ele) \n",
    "            result.append(list(ele)) \n",
    "          \n",
    "    return result \n",
    "      \n",
    "# Driver code \n",
    "cluster=removeSublist(cluster)"
   ]
  },
  {
   "cell_type": "markdown",
   "metadata": {
    "colab_type": "text",
    "id": "VYTYkq9ILkwE"
   },
   "source": [
    "Finding all connected components and creating Graph"
   ]
  },
  {
   "cell_type": "code",
   "execution_count": 29,
   "metadata": {
    "colab": {},
    "colab_type": "code",
    "id": "gMe7jF1FXi6p"
   },
   "outputs": [],
   "source": [
    "import networkx as nx \n",
    "G=nx.Graph()\n",
    "for l in cluster:\n",
    "    nx.add_path(G, l)\n",
    "connected_components=list(nx.connected_components(G))"
   ]
  },
  {
   "cell_type": "markdown",
   "metadata": {
    "colab_type": "text",
    "id": "v_s9bUEbLs5R"
   },
   "source": [
    "Removing all connected components having no. of nodes less than"
   ]
  },
  {
   "cell_type": "code",
   "execution_count": 30,
   "metadata": {
    "colab": {
     "base_uri": "https://localhost:8080/",
     "height": 272
    },
    "colab_type": "code",
    "id": "aAv6sD1R9BZ_",
    "outputId": "2909bb1c-846b-4a42-f82b-0fc0cde5442a"
   },
   "outputs": [
    {
     "name": "stdout",
     "output_type": "stream",
     "text": [
      "{'P49', ' P37', 'P58', 'P35', 'P57', 'P37', 'P50', ' P36', 'P56', 'P59', 'P39', ' P38', 'P36', 'P38', 'P555'}\n",
      "15\n",
      "{'P1175', 'P749', 'P751', 'P653', 'P750', 'P1180', 'P502', 'P1188', 'P301', 'P1185', 'P1187', 'P1182', 'P1181', 'P1174', 'P1078', 'P1077', 'P1183', 'P1079', 'P1186', 'P748', 'P1179', 'P1177', 'P1178', 'P1076', ' P302', 'P1184', 'P1176'}\n",
      "27\n",
      "{'P15', 'P20', 'P14', 'P6', 'P12', 'P18', 'P13', 'P7', 'P8', 'P21', 'P9', 'P10', 'P17', 'P28', 'P19', 'P11', 'P16'}\n",
      "17\n",
      "{'P305', 'P311', 'P687', 'P801', 'P361', 'P308', 'P304', 'P182', 'P533', 'P306', 'P359', 'P800', 'P802', 'P388', 'P535', 'P488', 'P358', 'P639', 'P360', 'P307', 'P309', 'P534'}\n",
      "22\n",
      "{'P1048', 'P761', 'P981', 'E1', 'P762', 'P676', 'P980', 'P677', 'P979', 'P933', 'P675', 'P763'}\n",
      "12\n",
      "{'P774', 'P772', 'P768', 'P770', 'P766', 'P767', 'P764', 'P765', 'P773', 'P775', 'P769', 'P771'}\n",
      "12\n",
      "{'P1215', 'P1017', 'P1214', 'P7683', 'P1213', 'P1422', 'P1212', 'P1951', 'P2482', 'P1016', 'P6210', 'P1950', 'P2484', 'P1718', 'P1015', 'P7680', 'P1014', 'P7682', 'P4370', 'P689', 'P1421', 'P1013', 'P1716', 'P7679', 'P4365', 'P1717', 'P7684', 'P3243', 'P6211', 'P2483', 'P6209'}\n",
      "31\n",
      "{'P3072', 'P3101', 'P3076', 'P3099', 'P3075', 'P3074', 'P2869', 'P3102', 'P3100', 'P3103', 'P2868', 'P3073'}\n",
      "12\n"
     ]
    }
   ],
   "source": [
    "threshold_lower=10\n",
    "threshold_upper=50\n",
    "remove=nx.Graph()\n",
    "for c in nx.connected_components(G):\n",
    "    if(len(c)<threshold_lower or len(c)>threshold_upper):\n",
    "        remove.add_nodes_from(c)\n",
    "    else:\n",
    "        print(c)\n",
    "        print(len(c))\n",
    "G.remove_nodes_from(remove)"
   ]
  },
  {
   "cell_type": "markdown",
   "metadata": {
    "colab_type": "text",
    "id": "R1V0jb5vMDR7"
   },
   "source": [
    "# Plotting Clusters"
   ]
  },
  {
   "cell_type": "code",
   "execution_count": 44,
   "metadata": {
    "colab": {
     "base_uri": "https://localhost:8080/",
     "height": 1000
    },
    "colab_type": "code",
    "id": "pKTG6MhKYKe1",
    "outputId": "dd8e3b63-0175-404c-bfdc-b04558d3ea4e"
   },
   "outputs": [
    {
     "data": {
      "image/png": "[encoded data removed]",
      "text/plain": [
       "<Figure size 1440x1440 with 1 Axes>"
      ]
     },
     "metadata": {},
     "output_type": "display_data"
    }
   ],
   "source": [
    "pos = nx.spring_layout(G, scale=1)\n",
    "plt.figure(3,figsize=(20,20)) \n",
    "nx.draw(G, pos, node_color='lightblue', node_size=50, with_labels=True)"
   ]
  },
  {
   "cell_type": "markdown",
   "metadata": {
    "colab_type": "text",
    "id": "39BI8vwrMIn5"
   },
   "source": [
    "# Super Spreaders\n",
    "\n",
    "\n"
   ]
  },
  {
   "cell_type": "code",
   "execution_count": 45,
   "metadata": {
    "colab": {
     "base_uri": "https://localhost:8080/",
     "height": 968
    },
    "colab_type": "code",
    "id": "yeO1gXX5AcDI",
    "outputId": "d9ecea90-af37-4a66-a936-748d163fcfb7"
   },
   "outputs": [
    {
     "data": {
      "text/html": [
       "<div>\n",
       "<style scoped>\n",
       "    .dataframe tbody tr th:only-of-type {\n",
       "        vertical-align: middle;\n",
       "    }\n",
       "\n",
       "    .dataframe tbody tr th {\n",
       "        vertical-align: top;\n",
       "    }\n",
       "\n",
       "    .dataframe thead th {\n",
       "        text-align: right;\n",
       "    }\n",
       "</style>\n",
       "<table border=\"1\" class=\"dataframe\">\n",
       "  <thead>\n",
       "    <tr style=\"text-align: right;\">\n",
       "      <th></th>\n",
       "      <th>spreading_factor</th>\n",
       "      <th>Patient Number</th>\n",
       "      <th>State Patient Number</th>\n",
       "      <th>Date Announced</th>\n",
       "      <th>Age Bracket</th>\n",
       "      <th>Gender</th>\n",
       "      <th>Detected City</th>\n",
       "      <th>Detected District</th>\n",
       "      <th>Detected State</th>\n",
       "      <th>State code</th>\n",
       "      <th>Current Status</th>\n",
       "      <th>Notes</th>\n",
       "      <th>Contracted from which Patient (Suspected)</th>\n",
       "      <th>Nationality</th>\n",
       "      <th>Type of transmission</th>\n",
       "      <th>Status Change Date</th>\n",
       "      <th>Source_1</th>\n",
       "      <th>Source_2</th>\n",
       "      <th>Source_3</th>\n",
       "      <th>Backup Notes</th>\n",
       "    </tr>\n",
       "  </thead>\n",
       "  <tbody>\n",
       "    <tr>\n",
       "      <th>6</th>\n",
       "      <td>20</td>\n",
       "      <td>182</td>\n",
       "      <td>PJ-P2</td>\n",
       "      <td>2020-03-19</td>\n",
       "      <td>70.0</td>\n",
       "      <td>M</td>\n",
       "      <td>Banga</td>\n",
       "      <td>Shahid Bhagat Singh Nagar</td>\n",
       "      <td>Punjab</td>\n",
       "      <td>PB</td>\n",
       "      <td>Deceased</td>\n",
       "      <td>Travelled from Germany via Italy</td>\n",
       "      <td></td>\n",
       "      <td>India</td>\n",
       "      <td>Imported</td>\n",
       "      <td>19/03/2020</td>\n",
       "      <td>https://www.indiatoday.in/india/story/coronavi...</td>\n",
       "      <td>https://www.latestly.com/india/news/baldev-sin...</td>\n",
       "      <td>https://punjabupdate.com/media-bulletin-21-03-...</td>\n",
       "      <td>Arrived from Germany via Italy</td>\n",
       "    </tr>\n",
       "    <tr>\n",
       "      <th>5</th>\n",
       "      <td>16</td>\n",
       "      <td>6</td>\n",
       "      <td></td>\n",
       "      <td>2020-03-03</td>\n",
       "      <td>69.0</td>\n",
       "      <td>M</td>\n",
       "      <td>Jaipur</td>\n",
       "      <td>Italians*</td>\n",
       "      <td>Rajasthan</td>\n",
       "      <td>RJ</td>\n",
       "      <td>Recovered</td>\n",
       "      <td>Travelled from Italy</td>\n",
       "      <td></td>\n",
       "      <td>Italy</td>\n",
       "      <td>Imported</td>\n",
       "      <td>03/03/2020</td>\n",
       "      <td>https://indianexpress.com/article/india/corona...</td>\n",
       "      <td>https://economictimes.indiatimes.com/news/poli...</td>\n",
       "      <td>https://twitter.com/PTI_News/status/1240878975...</td>\n",
       "      <td>Italian tourist</td>\n",
       "    </tr>\n",
       "    <tr>\n",
       "      <th>8</th>\n",
       "      <td>16</td>\n",
       "      <td>689</td>\n",
       "      <td>KA-P52</td>\n",
       "      <td>2020-03-26</td>\n",
       "      <td>35.0</td>\n",
       "      <td>M</td>\n",
       "      <td></td>\n",
       "      <td>Mysuru</td>\n",
       "      <td>Karnataka</td>\n",
       "      <td>KA</td>\n",
       "      <td>Recovered</td>\n",
       "      <td>Had been in contact with healthcare profession...</td>\n",
       "      <td></td>\n",
       "      <td>India</td>\n",
       "      <td>TBD</td>\n",
       "      <td>26/03/2020</td>\n",
       "      <td>https://twitter.com/DHFWKA/status/124310447054...</td>\n",
       "      <td></td>\n",
       "      <td></td>\n",
       "      <td></td>\n",
       "    </tr>\n",
       "    <tr>\n",
       "      <th>4</th>\n",
       "      <td>15</td>\n",
       "      <td>301</td>\n",
       "      <td>TN-P5</td>\n",
       "      <td>2020-03-21</td>\n",
       "      <td>69.0</td>\n",
       "      <td>M</td>\n",
       "      <td>Perundurai</td>\n",
       "      <td>Erode</td>\n",
       "      <td>Tamil Nadu</td>\n",
       "      <td>TN</td>\n",
       "      <td>Hospitalized</td>\n",
       "      <td>Travelled from Phuket to New Delhi to Erode ra...</td>\n",
       "      <td></td>\n",
       "      <td>Thailand</td>\n",
       "      <td>Imported</td>\n",
       "      <td>21/03/2020</td>\n",
       "      <td>https://twitter.com/Vijayabaskarofl/status/124...</td>\n",
       "      <td></td>\n",
       "      <td></td>\n",
       "      <td>Details awaited</td>\n",
       "    </tr>\n",
       "    <tr>\n",
       "      <th>7</th>\n",
       "      <td>11</td>\n",
       "      <td>764</td>\n",
       "      <td></td>\n",
       "      <td>2020-03-27</td>\n",
       "      <td>NaN</td>\n",
       "      <td></td>\n",
       "      <td></td>\n",
       "      <td>Sangli</td>\n",
       "      <td>Maharashtra</td>\n",
       "      <td>MH</td>\n",
       "      <td>Hospitalized</td>\n",
       "      <td>Related to a previous patient from Sangli - Ta...</td>\n",
       "      <td></td>\n",
       "      <td>India</td>\n",
       "      <td>Local</td>\n",
       "      <td>27/03/2020</td>\n",
       "      <td>https://twitter.com/ANI/status/124347964054443...</td>\n",
       "      <td></td>\n",
       "      <td></td>\n",
       "      <td></td>\n",
       "    </tr>\n",
       "    <tr>\n",
       "      <th>12</th>\n",
       "      <td>11</td>\n",
       "      <td>2868</td>\n",
       "      <td></td>\n",
       "      <td>2020-04-03</td>\n",
       "      <td>NaN</td>\n",
       "      <td>M</td>\n",
       "      <td></td>\n",
       "      <td>Morena</td>\n",
       "      <td>Madhya Pradesh</td>\n",
       "      <td>MP</td>\n",
       "      <td>Hospitalized</td>\n",
       "      <td>Travelled from Dubai; hosted feast for 1500 pe...</td>\n",
       "      <td></td>\n",
       "      <td></td>\n",
       "      <td>Imported</td>\n",
       "      <td>03/04/2020</td>\n",
       "      <td>https://twitter.com/PTI_News/status/1246054117...</td>\n",
       "      <td>https://www.ndtv.com/india-news/coronavirus-ma...</td>\n",
       "      <td></td>\n",
       "      <td></td>\n",
       "    </tr>\n",
       "    <tr>\n",
       "      <th>3</th>\n",
       "      <td>8</td>\n",
       "      <td>502</td>\n",
       "      <td>TN-P12</td>\n",
       "      <td>2020-03-23</td>\n",
       "      <td>54.0</td>\n",
       "      <td>M</td>\n",
       "      <td>Madurai</td>\n",
       "      <td>Madurai</td>\n",
       "      <td>Tamil Nadu</td>\n",
       "      <td>TN</td>\n",
       "      <td>Deceased</td>\n",
       "      <td>Annanagar at Rajaji Hosp. No mention of travel...</td>\n",
       "      <td>P301, P302</td>\n",
       "      <td>India</td>\n",
       "      <td>Local</td>\n",
       "      <td>25/03/2020</td>\n",
       "      <td>https://twitter.com/Vijayabaskarofl/status/124...</td>\n",
       "      <td>https://www.oneindia.com/india/coronavirus-ind...</td>\n",
       "      <td></td>\n",
       "      <td></td>\n",
       "    </tr>\n",
       "    <tr>\n",
       "      <th>10</th>\n",
       "      <td>8</td>\n",
       "      <td>1215</td>\n",
       "      <td>KA-P88</td>\n",
       "      <td>2020-03-30</td>\n",
       "      <td>24.0</td>\n",
       "      <td>M</td>\n",
       "      <td></td>\n",
       "      <td>Mysuru</td>\n",
       "      <td>Karnataka</td>\n",
       "      <td>KA</td>\n",
       "      <td>Hospitalized</td>\n",
       "      <td>Resident of Nanjangud - Working with P52</td>\n",
       "      <td>P689</td>\n",
       "      <td>India</td>\n",
       "      <td>Local</td>\n",
       "      <td>30/03/2020</td>\n",
       "      <td>https://twitter.com/ANI/status/124460492526013...</td>\n",
       "      <td></td>\n",
       "      <td></td>\n",
       "      <td></td>\n",
       "    </tr>\n",
       "    <tr>\n",
       "      <th>0</th>\n",
       "      <td>6</td>\n",
       "      <td>35</td>\n",
       "      <td>KL-PT-P1</td>\n",
       "      <td>2020-03-08</td>\n",
       "      <td>24.0</td>\n",
       "      <td>M</td>\n",
       "      <td>Ranni</td>\n",
       "      <td>Pathanamthitta</td>\n",
       "      <td>Kerala</td>\n",
       "      <td>KL</td>\n",
       "      <td>Recovered</td>\n",
       "      <td>Travelled from Italy on 29/02/2020 through Doha</td>\n",
       "      <td></td>\n",
       "      <td>India</td>\n",
       "      <td>Imported</td>\n",
       "      <td>27/03/2020</td>\n",
       "      <td>https://indianexpress.com/article/india/corona...</td>\n",
       "      <td>https://www.google.com/url?sa=t&amp;rct=j&amp;q=&amp;esrc=...</td>\n",
       "      <td>http://dhs.kerala.gov.in/wp-content/uploads/20...</td>\n",
       "      <td>Travel from Italy on 29/02/2020 through Doha</td>\n",
       "    </tr>\n",
       "    <tr>\n",
       "      <th>1</th>\n",
       "      <td>4</td>\n",
       "      <td>36</td>\n",
       "      <td>KL-PT-P1</td>\n",
       "      <td>2020-03-08</td>\n",
       "      <td>54.0</td>\n",
       "      <td>M</td>\n",
       "      <td>Ranni</td>\n",
       "      <td>Pathanamthitta</td>\n",
       "      <td>Kerala</td>\n",
       "      <td>KL</td>\n",
       "      <td>Recovered</td>\n",
       "      <td>Travelled from Italy on 29/02/2020 through Doha</td>\n",
       "      <td>P35</td>\n",
       "      <td>India</td>\n",
       "      <td>Imported</td>\n",
       "      <td>29/03/2020</td>\n",
       "      <td>https://www.indiatoday.in/india/story/coronavi...</td>\n",
       "      <td>https://www.google.com/url?sa=t&amp;rct=j&amp;q=&amp;esrc=...</td>\n",
       "      <td>http://dhs.kerala.gov.in/wp-content/uploads/20...</td>\n",
       "      <td>Travel from Italy on 29/02/2020 through Doha</td>\n",
       "    </tr>\n",
       "    <tr>\n",
       "      <th>9</th>\n",
       "      <td>4</td>\n",
       "      <td>1076</td>\n",
       "      <td>TN-P43</td>\n",
       "      <td>2020-03-29</td>\n",
       "      <td>29.0</td>\n",
       "      <td>F</td>\n",
       "      <td></td>\n",
       "      <td>Erode</td>\n",
       "      <td>Tamil Nadu</td>\n",
       "      <td>TN</td>\n",
       "      <td>Recovered</td>\n",
       "      <td>Contact of TN-P26</td>\n",
       "      <td>P653</td>\n",
       "      <td>India</td>\n",
       "      <td>Local</td>\n",
       "      <td>06/04/2020</td>\n",
       "      <td>https://twitter.com/Vijayabaskarofl/status/124...</td>\n",
       "      <td>https://www.thenewsminute.com/article/10-month...</td>\n",
       "      <td></td>\n",
       "      <td></td>\n",
       "    </tr>\n",
       "    <tr>\n",
       "      <th>2</th>\n",
       "      <td>3</td>\n",
       "      <td>56</td>\n",
       "      <td>KL-PT-P5</td>\n",
       "      <td>2020-03-10</td>\n",
       "      <td>96.0</td>\n",
       "      <td>M</td>\n",
       "      <td>Ranni</td>\n",
       "      <td>Pathanamthitta</td>\n",
       "      <td>Kerala</td>\n",
       "      <td>KL</td>\n",
       "      <td>Recovered</td>\n",
       "      <td>Father of P36</td>\n",
       "      <td>P36, P37, P38</td>\n",
       "      <td>India</td>\n",
       "      <td>Local</td>\n",
       "      <td>31/03/2020</td>\n",
       "      <td>https://english.mathrubhumi.com/news/kerala/co...</td>\n",
       "      <td>https://timesofindia.indiatimes.com/videos/cit...</td>\n",
       "      <td>https://english.manoramaonline.com/news/kerala...</td>\n",
       "      <td>Father of P36</td>\n",
       "    </tr>\n",
       "    <tr>\n",
       "      <th>11</th>\n",
       "      <td>3</td>\n",
       "      <td>1717</td>\n",
       "      <td>KA-P104</td>\n",
       "      <td>2020-04-01</td>\n",
       "      <td>27.0</td>\n",
       "      <td>M</td>\n",
       "      <td>Nanjangud</td>\n",
       "      <td>Mysuru</td>\n",
       "      <td>Karnataka</td>\n",
       "      <td>KA</td>\n",
       "      <td>Hospitalized</td>\n",
       "      <td>Pharma company employee</td>\n",
       "      <td>P689</td>\n",
       "      <td>India</td>\n",
       "      <td>Local</td>\n",
       "      <td>01/04/2020</td>\n",
       "      <td>https://twitter.com/sriramulubjp/status/124526...</td>\n",
       "      <td></td>\n",
       "      <td></td>\n",
       "      <td></td>\n",
       "    </tr>\n",
       "  </tbody>\n",
       "</table>\n",
       "</div>"
      ],
      "text/plain": [
       "    spreading_factor Patient Number State Patient Number Date Announced  \\\n",
       "6                 20            182                PJ-P2     2020-03-19   \n",
       "5                 16              6                          2020-03-03   \n",
       "8                 16            689               KA-P52     2020-03-26   \n",
       "4                 15            301                TN-P5     2020-03-21   \n",
       "7                 11            764                          2020-03-27   \n",
       "12                11           2868                          2020-04-03   \n",
       "3                  8            502               TN-P12     2020-03-23   \n",
       "10                 8           1215               KA-P88     2020-03-30   \n",
       "0                  6             35             KL-PT-P1     2020-03-08   \n",
       "1                  4             36             KL-PT-P1     2020-03-08   \n",
       "9                  4           1076               TN-P43     2020-03-29   \n",
       "2                  3             56             KL-PT-P5     2020-03-10   \n",
       "11                 3           1717              KA-P104     2020-04-01   \n",
       "\n",
       "    Age Bracket Gender Detected City          Detected District  \\\n",
       "6          70.0      M         Banga  Shahid Bhagat Singh Nagar   \n",
       "5          69.0      M        Jaipur                  Italians*   \n",
       "8          35.0      M                                   Mysuru   \n",
       "4          69.0      M    Perundurai                      Erode   \n",
       "7           NaN                                          Sangli   \n",
       "12          NaN      M                                   Morena   \n",
       "3          54.0      M       Madurai                    Madurai   \n",
       "10         24.0      M                                   Mysuru   \n",
       "0          24.0      M         Ranni             Pathanamthitta   \n",
       "1          54.0      M         Ranni             Pathanamthitta   \n",
       "9          29.0      F                                    Erode   \n",
       "2          96.0      M         Ranni             Pathanamthitta   \n",
       "11         27.0      M     Nanjangud                     Mysuru   \n",
       "\n",
       "    Detected State State code Current Status  \\\n",
       "6           Punjab         PB       Deceased   \n",
       "5        Rajasthan         RJ      Recovered   \n",
       "8        Karnataka         KA      Recovered   \n",
       "4       Tamil Nadu         TN   Hospitalized   \n",
       "7      Maharashtra         MH   Hospitalized   \n",
       "12  Madhya Pradesh         MP   Hospitalized   \n",
       "3       Tamil Nadu         TN       Deceased   \n",
       "10       Karnataka         KA   Hospitalized   \n",
       "0           Kerala         KL      Recovered   \n",
       "1           Kerala         KL      Recovered   \n",
       "9       Tamil Nadu         TN      Recovered   \n",
       "2           Kerala         KL      Recovered   \n",
       "11       Karnataka         KA   Hospitalized   \n",
       "\n",
       "                                                Notes  \\\n",
       "6                    Travelled from Germany via Italy   \n",
       "5                                Travelled from Italy   \n",
       "8   Had been in contact with healthcare profession...   \n",
       "4   Travelled from Phuket to New Delhi to Erode ra...   \n",
       "7   Related to a previous patient from Sangli - Ta...   \n",
       "12  Travelled from Dubai; hosted feast for 1500 pe...   \n",
       "3   Annanagar at Rajaji Hosp. No mention of travel...   \n",
       "10           Resident of Nanjangud - Working with P52   \n",
       "0     Travelled from Italy on 29/02/2020 through Doha   \n",
       "1     Travelled from Italy on 29/02/2020 through Doha   \n",
       "9                                   Contact of TN-P26   \n",
       "2                                       Father of P36   \n",
       "11                            Pharma company employee   \n",
       "\n",
       "   Contracted from which Patient (Suspected) Nationality Type of transmission  \\\n",
       "6                                                  India             Imported   \n",
       "5                                                  Italy             Imported   \n",
       "8                                                  India                  TBD   \n",
       "4                                               Thailand             Imported   \n",
       "7                                                  India                Local   \n",
       "12                                                                   Imported   \n",
       "3                                 P301, P302       India                Local   \n",
       "10                                      P689       India                Local   \n",
       "0                                                  India             Imported   \n",
       "1                                        P35       India             Imported   \n",
       "9                                       P653       India                Local   \n",
       "2                              P36, P37, P38       India                Local   \n",
       "11                                      P689       India                Local   \n",
       "\n",
       "   Status Change Date                                           Source_1  \\\n",
       "6          19/03/2020  https://www.indiatoday.in/india/story/coronavi...   \n",
       "5          03/03/2020  https://indianexpress.com/article/india/corona...   \n",
       "8          26/03/2020  https://twitter.com/DHFWKA/status/124310447054...   \n",
       "4          21/03/2020  https://twitter.com/Vijayabaskarofl/status/124...   \n",
       "7          27/03/2020  https://twitter.com/ANI/status/124347964054443...   \n",
       "12         03/04/2020  https://twitter.com/PTI_News/status/1246054117...   \n",
       "3          25/03/2020  https://twitter.com/Vijayabaskarofl/status/124...   \n",
       "10         30/03/2020  https://twitter.com/ANI/status/124460492526013...   \n",
       "0          27/03/2020  https://indianexpress.com/article/india/corona...   \n",
       "1          29/03/2020  https://www.indiatoday.in/india/story/coronavi...   \n",
       "9          06/04/2020  https://twitter.com/Vijayabaskarofl/status/124...   \n",
       "2          31/03/2020  https://english.mathrubhumi.com/news/kerala/co...   \n",
       "11         01/04/2020  https://twitter.com/sriramulubjp/status/124526...   \n",
       "\n",
       "                                             Source_2  \\\n",
       "6   https://www.latestly.com/india/news/baldev-sin...   \n",
       "5   https://economictimes.indiatimes.com/news/poli...   \n",
       "8                                                       \n",
       "4                                                       \n",
       "7                                                       \n",
       "12  https://www.ndtv.com/india-news/coronavirus-ma...   \n",
       "3   https://www.oneindia.com/india/coronavirus-ind...   \n",
       "10                                                      \n",
       "0   https://www.google.com/url?sa=t&rct=j&q=&esrc=...   \n",
       "1   https://www.google.com/url?sa=t&rct=j&q=&esrc=...   \n",
       "9   https://www.thenewsminute.com/article/10-month...   \n",
       "2   https://timesofindia.indiatimes.com/videos/cit...   \n",
       "11                                                      \n",
       "\n",
       "                                             Source_3  \\\n",
       "6   https://punjabupdate.com/media-bulletin-21-03-...   \n",
       "5   https://twitter.com/PTI_News/status/1240878975...   \n",
       "8                                                       \n",
       "4                                                       \n",
       "7                                                       \n",
       "12                                                      \n",
       "3                                                       \n",
       "10                                                      \n",
       "0   http://dhs.kerala.gov.in/wp-content/uploads/20...   \n",
       "1   http://dhs.kerala.gov.in/wp-content/uploads/20...   \n",
       "9                                                       \n",
       "2   https://english.manoramaonline.com/news/kerala...   \n",
       "11                                                      \n",
       "\n",
       "                                    Backup Notes  \n",
       "6                 Arrived from Germany via Italy  \n",
       "5                                Italian tourist  \n",
       "8                                                 \n",
       "4                                Details awaited  \n",
       "7                                                 \n",
       "12                                                \n",
       "3                                                 \n",
       "10                                                \n",
       "0   Travel from Italy on 29/02/2020 through Doha  \n",
       "1   Travel from Italy on 29/02/2020 through Doha  \n",
       "9                                                 \n",
       "2                                  Father of P36  \n",
       "11                                                "
      ]
     },
     "execution_count": 45,
     "metadata": {},
     "output_type": "execute_result"
    }
   ],
   "source": [
    "super_spreaders=[]\n",
    "header=['spreading_factor']\n",
    "header.extend(data.columns.values)\n",
    "for node in G.nodes:\n",
    "    if G.degree(node)>2 and node.startswith('P'):\n",
    "        l=[G.degree(node)]\n",
    "        l.extend(data[data['Patient Number']==str(node)[1:]].values[0])\n",
    "        super_spreaders.append(l)\n",
    "super_spreaders=pd.DataFrame(super_spreaders,columns=header)\n",
    "super_spreaders.sort_values(by='spreading_factor',ascending=False)\n"
   ]
  },
  {
   "cell_type": "markdown",
   "metadata": {
    "colab_type": "text",
    "id": "hE4ZM8QqBrW4"
   },
   "source": [
    "## Calculating Spreading factor"
   ]
  },
  {
   "cell_type": "code",
   "execution_count": 46,
   "metadata": {
    "colab": {
     "base_uri": "https://localhost:8080/",
     "height": 34
    },
    "colab_type": "code",
    "id": "nF-MbYSL7-cY",
    "outputId": "7e1a3704-b1a6-4d05-b944-7de1b8937478"
   },
   "outputs": [
    {
     "name": "stdout",
     "output_type": "stream",
     "text": [
      "1.972972972972973\n"
     ]
    }
   ],
   "source": [
    "spreading_factor=0\n",
    "for node in G.nodes:\n",
    "    spreading_factor=spreading_factor+G.degree(node)\n",
    "spreading_factor=spreading_factor/len(G)\n",
    "print(spreading_factor)\n"
   ]
  },
  {
   "cell_type": "markdown",
   "metadata": {
    "colab_type": "text",
    "id": "4OkkP-btM9JT"
   },
   "source": [
    "# Working with maps"
   ]
  },
  {
   "cell_type": "markdown",
   "metadata": {
    "colab_type": "text",
    "id": "EBVL0vtdNDBV"
   },
   "source": [
    "Fetching latitude and longitude of the locations visited by infected patients"
   ]
  },
  {
   "cell_type": "code",
   "execution_count": 224,
   "metadata": {
    "colab": {},
    "colab_type": "code",
    "id": "GrHzHgRmNCSF"
   },
   "outputs": [],
   "source": [
    "latlong=[]\n",
    "for index,rows in data_travel_history.iterrows():\n",
    "    if(len(rows['lat_long'].split(\",\"))>1):\n",
    "        latlong.append([float(rows['lat_long'].split(\",\")[0]),float(rows['lat_long'].split(\",\")[1])])\n",
    "latlong=pd.DataFrame(latlong,columns=['Latitude','Longitude'])"
   ]
  },
  {
   "cell_type": "markdown",
   "metadata": {
    "colab_type": "text",
    "id": "5-JFFLxNNNcs"
   },
   "source": [
    "Removing coordinates outside India"
   ]
  },
  {
   "cell_type": "code",
   "execution_count": 225,
   "metadata": {
    "colab": {},
    "colab_type": "code",
    "id": "-zHZ6cFNM8Uq"
   },
   "outputs": [],
   "source": [
    "latlong.drop(latlong[latlong['Longitude'] < 75].index, inplace = True)\n",
    "latlong.index = range(len(latlong))"
   ]
  },
  {
   "cell_type": "markdown",
   "metadata": {
    "colab_type": "text",
    "id": "zRGOyGXJNQtl"
   },
   "source": [
    "Clustering the data points to find covid critical areas"
   ]
  },
  {
   "cell_type": "code",
   "execution_count": 226,
   "metadata": {
    "colab": {
     "base_uri": "https://localhost:8080/",
     "height": 34
    },
    "colab_type": "code",
    "id": "a3a2Hts5-oJL",
    "outputId": "99338827-edfc-44f0-bcd5-553c35fa657e"
   },
   "outputs": [
    {
     "data": {
      "text/plain": [
       "5"
      ]
     },
     "execution_count": 226,
     "metadata": {},
     "output_type": "execute_result"
    }
   ],
   "source": [
    "from sklearn.cluster import DBSCAN\n",
    "kms_per_radian = 6371.0088\n",
    "epsilon = 50 / kms_per_radian\n",
    "db = DBSCAN(eps=epsilon, min_samples=5, algorithm='ball_tree', \\\n",
    "            metric='haversine').fit(np.radians(latlong).values.tolist())\n",
    "\n",
    "cluster_labels = db.labels_\n",
    "cluster_labels=cluster_labels+1 #Because Cluster_labels starts from -1\n",
    "max(cluster_labels)"
   ]
  },
  {
   "cell_type": "markdown",
   "metadata": {
    "colab_type": "text",
    "id": "G8BRip5VNY0j"
   },
   "source": [
    "Applying KMeans Clustering"
   ]
  },
  {
   "cell_type": "code",
   "execution_count": 227,
   "metadata": {
    "colab": {
     "base_uri": "https://localhost:8080/",
     "height": 298
    },
    "colab_type": "code",
    "id": "ayLEYE9tNX_d",
    "outputId": "3242cb35-9cbd-4feb-bf4d-a21667874eb9"
   },
   "outputs": [
    {
     "data": {
      "image/png": "[encoded data removed]",
      "text/plain": [
       "<Figure size 432x288 with 1 Axes>"
      ]
     },
     "metadata": {
      "needs_background": "light"
     },
     "output_type": "display_data"
    }
   ],
   "source": [
    "from scipy.cluster.vq import kmeans2, whiten\n",
    "x, cluster_labels = kmeans2(np.radians(latlong).values.tolist(),max(cluster_labels), iter = 50)\n",
    "plt.scatter(latlong['Latitude'], latlong['Longitude'], c=cluster_labels)\n",
    "plt.show()"
   ]
  },
  {
   "cell_type": "markdown",
   "metadata": {
    "colab_type": "text",
    "id": "v6ZzetPgNf5C"
   },
   "source": [
    "Generating bounding box (Convex Hull)"
   ]
  },
  {
   "cell_type": "code",
   "execution_count": 228,
   "metadata": {
    "colab": {
     "base_uri": "https://localhost:8080/",
     "height": 265
    },
    "colab_type": "code",
    "id": "gZj0ROa_Nbyt",
    "outputId": "50a2ec3c-1c40-45aa-ea7c-9968d0bf80b0"
   },
   "outputs": [
    {
     "data": {
      "image/png": "[encoded data removed]",
      "text/plain": [
       "<Figure size 432x288 with 1 Axes>"
      ]
     },
     "metadata": {
      "needs_background": "light"
     },
     "output_type": "display_data"
    }
   ],
   "source": [
    "import matplotlib.pyplot as plt\n",
    "import numpy as np; np.random.seed(1)\n",
    "from scipy.spatial import ConvexHull\n",
    "def encircle(x,y, ax=None, **kw):\n",
    "    if not ax: ax=plt.gca()\n",
    "    p = np.c_[x,y]\n",
    "    hull = ConvexHull(p)\n",
    "    poly = plt.Polygon(p[hull.vertices,:], **kw)\n",
    "    ax.add_patch(poly)\n",
    "    return poly\n",
    "\n",
    "\n",
    "xcor=[]\n",
    "ycor=[]\n",
    "for i in range(max(cluster_labels)+1):\n",
    "    xcor.append([])\n",
    "    ycor.append([])\n",
    "for i in range(max(cluster_labels)+1):\n",
    "    for j in range(len(latlong)):\n",
    "        if cluster_labels[j]==i:\n",
    "            xcor[i].append(latlong.loc[j].values[0])\n",
    "            ycor[i].append(latlong.loc[j].values[1])\n",
    "            \n",
    "for i in range(max(cluster_labels)+1):\n",
    "    plt.scatter(xcor[i], ycor[i])\n",
    "\n",
    "for i in range(max(cluster_labels)+1):\n",
    "    if(len(xcor[i])>0):\n",
    "        encircle(xcor[i], ycor[i], ec=\"green\", fc=\"none\")\n",
    "plt.show()"
   ]
  },
  {
   "cell_type": "code",
   "execution_count": 229,
   "metadata": {
    "colab": {},
    "colab_type": "code",
    "id": "-9sdE9lMNj1m"
   },
   "outputs": [],
   "source": [
    "import gmaps\n",
    "def encircle(x,y):\n",
    "    p = np.c_[x,y]\n",
    "    hull = ConvexHull(p)\n",
    "    poly = p[hull.vertices,:]\n",
    "    return poly\n",
    "poly=[]\n",
    "for i in range(max(cluster_labels)+1):\n",
    "    if(len(xcor[i])>0):\n",
    "        poly.append(encircle(xcor[i], ycor[i]).tolist())\n",
    "drawing=[]\n",
    "for i in range(len(poly)):\n",
    "    drawing.append(gmaps.drawing_layer(features=[\n",
    "         gmaps.Polygon(\n",
    "             poly[i],\n",
    "             fill_opacity=0,\n",
    "             stroke_color='#000000',\n",
    "             stroke_opacity=1\n",
    "         )\n",
    "    ]))"
   ]
  },
  {
   "cell_type": "markdown",
   "metadata": {
    "colab_type": "text",
    "id": "7iGXhD3pN29Q"
   },
   "source": [
    "Generating layers for map"
   ]
  },
  {
   "cell_type": "code",
   "execution_count": 53,
   "metadata": {
    "colab": {},
    "colab_type": "code",
    "id": "pV9gf7O6NyBK"
   },
   "outputs": [],
   "source": [
    "symbol_layers=[]\n",
    "\n",
    "colors=['red','green',\"blue\",\"yellow\",\"gray\",\"black\",'black','aqua', 'lime',\"white\"]\n",
    "for i in range(max((cluster_labels))+1):\n",
    "    cluster_locations=[]\n",
    "    for j in range(len(cluster_labels)):\n",
    "        if(cluster_labels[j]==i):\n",
    "            cluster_locations.append(latlong.loc[j].values)\n",
    "    symbol_layers.append(gmaps.symbol_layer(\n",
    "            cluster_locations, fill_color=colors[i],scale=3,stroke_opacity=0))"
   ]
  },
  {
   "cell_type": "markdown",
   "metadata": {
    "colab_type": "text",
    "id": "NyoJm3SNN-Bp"
   },
   "source": [
    "Plotting on map\n"
   ]
  },
  {
   "cell_type": "code",
   "execution_count": 54,
   "metadata": {
    "colab": {},
    "colab_type": "code",
    "id": "PSXEzZdENpQb"
   },
   "outputs": [
    {
     "data": {
      "application/vnd.jupyter.widget-view+json": {
       "model_id": "445533cf98594b69bfde826d1653ee8b",
       "version_major": 2,
       "version_minor": 0
      },
      "text/plain": [
       "Figure(layout=FigureLayout(height='420px'))"
      ]
     },
     "metadata": {},
     "output_type": "display_data"
    }
   ],
   "source": [
    "fig = gmaps.figure()\n",
    "#fig.add_layer(gmaps.heatmap_layer(latlong, weights=np.ones(len(latlong), dtype = int) ))\n",
    "for i in range(len(symbol_layers)):\n",
    "    fig.add_layer(symbol_layers[i])\n",
    "\n",
    "fig\n"
   ]
  },
  {
   "cell_type": "markdown",
   "metadata": {
    "colab_type": "text",
    "id": "nTqNOEA4OCIz"
   },
   "source": [
    "Plotting Heatmap"
   ]
  },
  {
   "cell_type": "code",
   "execution_count": 55,
   "metadata": {
    "colab": {
     "base_uri": "https://localhost:8080/",
     "height": 17,
     "referenced_widgets": [
      "7d54aa7dfe864c4397aa1cf0c23b08b5"
     ]
    },
    "colab_type": "code",
    "id": "i9vVxn8DODQN",
    "outputId": "2501d027-0006-4702-81d8-23503e9b6940"
   },
   "outputs": [
    {
     "data": {
      "application/vnd.jupyter.widget-view+json": {
       "model_id": "a0c87538e6ec47b6b734e187ff64e4a7",
       "version_major": 2,
       "version_minor": 0
      },
      "text/plain": [
       "Figure(layout=FigureLayout(height='420px'))"
      ]
     },
     "metadata": {},
     "output_type": "display_data"
    }
   ],
   "source": [
    "fig = gmaps.figure()\n",
    "#fig.add_layer(gmaps.heatmap_layer(latlong, weights=np.ones(len(latlong), dtype = int) ))\n",
    "fig.add_layer(gmaps.heatmap_layer(latlong, weights=None ))\n",
    "for i in range(len(poly)):\n",
    "    fig.add_layer(drawing[i])\n",
    "fig\n"
   ]
  },
  {
   "cell_type": "markdown",
   "metadata": {
    "colab_type": "text",
    "id": "wQItJfMVOIY9"
   },
   "source": [
    "# Finding the affected States & Districts and the level of impact"
   ]
  },
  {
   "cell_type": "markdown",
   "metadata": {},
   "source": [
    "Working with shape files"
   ]
  },
  {
   "cell_type": "code",
   "execution_count": 56,
   "metadata": {},
   "outputs": [],
   "source": [
    "import shapefile as shp  # Requires the pyshp package\n",
    "import matplotlib.pyplot as plt\n",
    "\n",
    "district_file = shp.Reader(\"2011_Census_Data/2011_Dist.shp\")\n",
    "state_file = shp.Reader(\"Indian_States/Indian_States.shp\")"
   ]
  },
  {
   "cell_type": "markdown",
   "metadata": {},
   "source": [
    "# Common for district and states"
   ]
  },
  {
   "cell_type": "code",
   "execution_count": 57,
   "metadata": {},
   "outputs": [],
   "source": [
    "def color_map(weight):\n",
    "    return {\n",
    "        1: (61, 89, 65),\n",
    "        2: (119, 136, 104),\n",
    "        3: (181, 185, 145),\n",
    "        4:  (246, 237, 189),\n",
    "        5:   (237, 187, 138),\n",
    "        6: (222, 138, 90),\n",
    "        7:  (202, 86, 44),\n",
    "        8: (255, 20, 44),\n",
    "    }.get(weight, (0,0,0))\n",
    "def state_map_weights(total_cases):\n",
    "    if(total_cases==0):\n",
    "        return 1\n",
    "    if(total_cases<=10):\n",
    "        return 2\n",
    "    if(total_cases<=50):\n",
    "        return 3\n",
    "    if(total_cases<=100):\n",
    "        return 4\n",
    "    if(total_cases<=200):\n",
    "        return 5\n",
    "    if(total_cases<=400):\n",
    "        return 6\n",
    "    if(total_cases<=700):\n",
    "        return 7\n",
    "    return 8 \n",
    "def district_map_weights(total_cases):\n",
    "    if(total_cases<=10):\n",
    "        return 1\n",
    "    if(total_cases<=15):\n",
    "        return 2\n",
    "    if(total_cases<=20):\n",
    "        return 3\n",
    "    if(total_cases<=40):\n",
    "        return 4\n",
    "    if(total_cases<=50):\n",
    "        return 5\n",
    "    if(total_cases<=60):\n",
    "        return 6\n",
    "    if(total_cases<=70):\n",
    "        return 7\n",
    "    return 8 "
   ]
  },
  {
   "cell_type": "code",
   "execution_count": 58,
   "metadata": {},
   "outputs": [],
   "source": [
    "#Function to return the number of total_cases,deceased and recovered patients of places (States/Districts) present mapping dictionary\n",
    "#Parameters:\n",
    "    #census_place: record of a row in the shapefile\n",
    "    #place_mapping: Dictionary (either state_mapping or district_mapping\n",
    "    #place_type: State/District\n",
    "#Return Value: Total no. of cases,recovered and deceased.\n",
    "def get_cases(census_place,place_mapping,type_place):\n",
    "    recovered=0\n",
    "    deceased=0\n",
    "    key=[key  for (key, value) in place_mapping.items() if value == shape.record[0]]\n",
    "    data_lowercase=data.groupby(\"Detected \"+type_place).size()\n",
    "    data_lowercase.index=data_lowercase.index.str.lower()\n",
    "    total_cases=sum(data_lowercase[keys] for keys in key)\n",
    "    \n",
    "    data_lowercase=data_death_and_recovered.groupby([type_place,\"Patient Status\"]).size()\n",
    "    data_lowercase.index=data_lowercase.index.set_levels(data_lowercase.index.levels[0].str.lower(), level=0)\n",
    "    \n",
    "    recovered=sum(data_lowercase[keys]['Recovered'] for keys in key if keys in data_lowercase.index.levels[0] and 'Recovered' in data_lowercase[keys].keys())\n",
    "    deceased=sum(data_lowercase[keys]['Deceased'] for keys in key if keys in data_lowercase.index.levels[0] and 'Deceased' in data_lowercase[keys].keys())\n",
    "    return total_cases,recovered,deceased\n",
    "#Function to return the number of deceased and recovered patients of places (States/Districts) present in covid19 dataset\n",
    "#Parameters:\n",
    "    #census_place: record of a row in the shapefile\n",
    "    #place_type: State/District\n",
    "#Return Value: Total no. of recovered and deceased.\n",
    "def get_deceased_and_recovered(census_place,place_type):\n",
    "    recovered=0\n",
    "    deceased=0\n",
    "    patient_stats=data_death_and_recovered.groupby([place_type,\"Patient Status\"]).size()\n",
    "    if census_place in patient_stats.index.levels[0]:\n",
    "        patient_stats=patient_stats[census_place]\n",
    "        if 'Recovered' in patient_stats.keys():\n",
    "            recovered=patient_stats['Recovered']\n",
    "        if 'Deceased' in patient_stats.keys():\n",
    "            deceased=patient_stats['Deceased']\n",
    "    return recovered,deceased\n",
    "#Function: Extracts all the polygons from a given set of coordinates\n",
    "#Paramters:\n",
    "    #shape: single row of shapefile\n",
    "#Return Values: list of coordinates. Each element of latlong_island -> Polygon\n",
    "def extract_boundaries(shape):\n",
    "    latlong=[]\n",
    "    latlong_islands=[]\n",
    "    l=np.array(shape.points[:])\n",
    "    for j in range(len(l)):\n",
    "        latlong.append([l[j,1],l[j,0]]) #Extracting all coordinates from the 'shape' variable\n",
    "        \n",
    "    index=0 #Signifying the starting index value of a polygon\n",
    "    for k in range(1,len(latlong),1):\n",
    "        if(latlong[index]==latlong[k] and index!=k): #signifies a polygon is completed (inital point = final point)\n",
    "            latlong_islands.append(latlong[index:k+1])\n",
    "            index=k+1 #index updated at the beginning of each polygon\n",
    "    if(index<len(latlong)): # For the last polygon\n",
    "        latlong_islands.append(latlong[index:len(latlong)])\n",
    "    return latlong_islands\n",
    "\n",
    "#Function: Generates the layers where each layer contains a polygon\n",
    "#Paramters:\n",
    "    #latlong_islands: Sets of coordinates (each element of latlong_islands signifying one polygon)\n",
    "    #weight: Set of weights determining intensity of cases'\n",
    "#Return Values: Set of Layer to be added to gmaps.figure(). No. of layers-> No. of polygons\n",
    "\n",
    "def add_layers(latlong_islands,total_cases,type_place):#U NEED TO CHANGE THIS i.e add color parameter --Srinjoy\n",
    "    layer=[]\n",
    "    if(type_place=='District'):\n",
    "        weight=district_map_weights(total_cases)\n",
    "    else:\n",
    "        weight=state_map_weights(total_cases)\n",
    "    for k in range(len(latlong_islands)-1): #Adding each polygon as a layer except last\n",
    "        layer.append(gmaps.drawing_layer(features=[\n",
    "        gmaps.Polygon(\n",
    "             latlong_islands[k],\n",
    "             fill_opacity=0.8,#U NEED TO CHANGE THIS --Srinjoy\n",
    "             stroke_color='#000000',\n",
    "             fill_color=color_map(weight), #U NEED TO CHANGE THIS --Srinjoy\n",
    "             stroke_opacity=1, \n",
    "         )\n",
    "        ]))\n",
    "    return layer\n",
    "#Function: Generates the layer containing polygon as well as symbol layer (required for infobox)\n",
    "#Paramters:\n",
    "    #latlong_islands: Sets of coordinates (each element of latlong_islands signifying one polygon)\n",
    "    #weight: Set of weights determining intensity of cases'\n",
    "    #center: Center of polygon for on_click button\n",
    "    #place: District or State\n",
    "    #total_cases: Total no. of cases in the place (state/district) [String]\n",
    "    #type_place: Takes two values: 'State' or 'District'\n",
    "#Return Values: Single Layer to be added to gmaps.figure()\n",
    "\n",
    "def add_layers_with_symbol(latlong_islands,center,place,total_cases,recovered,deceased,type_place):#U NEED TO CHANGE THIS i.e add color parameter --Srinjoy\n",
    "    layer=[] #Adding the single layer\n",
    "    if(type_place=='District'):\n",
    "        weight=district_map_weights(total_cases)\n",
    "    else:\n",
    "        weight   =state_map_weights(total_cases)\n",
    "    layer.append(gmaps.drawing_layer(features=[\n",
    "    gmaps.Symbol(center,fill_color=\"yellow\",scale=2,fill_opacity=1,stroke_opacity=0.8, info_box_content=type_place+\": \"+place+\"</br>\"+\"No. of Cases: \"+str(total_cases)+\"</br>\"+\"Recovered: \"+str(recovered)+\"</br>\"+\"Deceased: \"+str(deceased)),\n",
    "     gmaps.Polygon(\n",
    "         latlong_islands,\n",
    "         fill_opacity=0.8, #U NEED TO CHANGE THIS --Srinjoy\n",
    "         stroke_color='#000000',\n",
    "         fill_color=color_map(weight),#U NEED TO CHANGE THIS --Srinjoy\n",
    "         stroke_opacity=1,\n",
    "     )\n",
    "    ]))\n",
    "    return layer\n",
    "def get_legend(interval):\n",
    "    legend_template = '<span style=\"color: {color};opacity:{weight}; font-size: 2em; vertical-align: bottom;\">&#9679;</span> {var}'\n",
    "    legend_entries=[]\n",
    "    for i in range(8):\n",
    "        legend_entries.append(legend_template.format(color=\"rgb\"+str(color_map(i+1)), weight=0.8,var=interval[i]))\n",
    "    legend = widgets.HBox(\n",
    "        [widgets.HTML(legend_entry) for legend_entry in legend_entries],\n",
    "        layout=widgets.Layout(width='100%', justify_content='space-between')\n",
    "    )\n",
    "    return legend\n",
    "    "
   ]
  },
  {
   "cell_type": "markdown",
   "metadata": {},
   "source": [
    "# Districts"
   ]
  },
  {
   "cell_type": "code",
   "execution_count": 59,
   "metadata": {},
   "outputs": [],
   "source": [
    "# Maps corona dataset districts to census data district\n",
    "district_mapping = {\n",
    "    # new covid : old 2011\n",
    "    'Chengalpattu':'Kancheepuram',\n",
    "    'Ranipet': 'Kancheepuram',\n",
    "    'Pauri Garhwal': 'Garhwal' ,\n",
    "    'Bhadradri Kothagudem': 'Khammam',\n",
    "    'South Salmara Mancachar': 'Dhubri',\n",
    "    'Nuh': 'Mewat',\n",
    "    'Kalaburagi':'Gulbarga',\n",
    "    'Saran': 'Saran (chhapra)',\n",
    "    'Gir Somnath': 'Junagadh',\n",
    "    'S.P.S. Nellore': 'Sri Potti Sriramulu Nellore',\n",
    "    'S.A.S. Nagar': 'Sahibzada Ajit Singh Nagar',\n",
    "    'Virudhunagar': 'Virudunagar',\n",
    "    'Medchal Malkajgiri': 'Malkangiri',\n",
    "    'Bagalkote':'Bagalkot',\n",
    "    'Belagavi':'Belgaum',\n",
    "    'Ballari': 'Bellary',\n",
    "    'Tirupathur': 'Tiruppur',\n",
    "    'Ranga Reddy':'Rangareddy',\n",
    "    'Jhunjhunu':'Jhunjhunun',\n",
    "    'Tumakuru': 'Tumkur',\n",
    "    'Morigaon':'Marigaon',\n",
    "    'Hooghly':'Hugli',\n",
    "    'Howrah':'Haora',\n",
    "    'Gurugram':'Gurgaon',\n",
    "    'Haridwar':'Hardwar',\n",
    "    'Bengaluru': 'Bangalore',\n",
    "    'Bengaluru Rural':'Bangalore',\n",
    "    'Nagapattinam':'Nagappattinam',\n",
    "    'Medinipur East':'Purba Medinipur',\n",
    "    'Medinipur West':'Paschim Medinipur',\n",
    "    'Champaran West':'Paschim Champaran',\n",
    "    'Kalimpong':'Darjiling',\n",
    "    'Mysuru':'Mysore',\n",
    "    'Leh':'Leh (ladakh)',\n",
    "    \"Y.S.R.\":'Y.s.r.',\n",
    "    'Chota Udaipur':'Vadodara',\n",
    "    'Hathras':'Aligarh',\n",
    "    'Hapur':'Ghaziabad',\n",
    "    'Sangareddy':'Medak',\n",
    "    'Warangal Urban':'Warangal',\n",
    "    'Khargone':'West Nimar',\n",
    "    'Nirmal':'Adilabad',\n",
    "    'Morbi':'Rajkot',\n",
    "    'Shamli':'Muzaffarnagar',\n",
    "    'Kallakurichi':'Viluppuram',\n",
    "    'Pathankot':'Gurdaspur',\n",
    "    'Peddapalli':'Karimnagar',\n",
    "    'Vikarabad':'Rangareddy',\n",
    "    'Gomati':'South Tripura',\n",
    "    'Prayagraj':'Allahabad',\n",
    "    'Charki Dadri':'Bhiwani',\n",
    "    'Mahrajganj':'Maharajganj',\n",
    "    'Jagitial':'Karimnagar',\n",
    "    'Kashmir':'Srinagar',\n",
    "    'Mahabubnagar':'Mahbubnagar',\n",
    "    'Jogulamba Gadwal':'Mahbubnagar',\n",
    "    'Suryapet':'Nalgonda',\n",
    "    'Khandwa':'East Nimar',\n",
    "    'Dahod':'Dohad',\n",
    "    'Tenkasi':'Tirunelveli',\n",
    "    'Sri Muktsar Sahib':'Muktsar',\n",
    "    'Amroha':'Jyotiba Phule Nagar',\n",
    "    'Palghar':'Thane',\n",
    "    'Bhadohi':'Sant Ravi Das Nagar(bhadohi)',\n",
    "    '':''\n",
    "   \n",
    "}\n",
    "\n",
    "\n",
    "district_mapping={k.lower(): v for k, v in district_mapping.items()}"
   ]
  },
  {
   "cell_type": "markdown",
   "metadata": {},
   "source": [
    "To check if update is required to the dictionary (optional)"
   ]
  },
  {
   "cell_type": "code",
   "execution_count": 58,
   "metadata": {},
   "outputs": [
    {
     "name": "stdout",
     "output_type": "stream",
     "text": [
      "\n",
      "Evacuees\n",
      "Italians*\n",
      "Other Region*\n",
      "Other States*\n"
     ]
    }
   ],
   "source": [
    "districts=data.groupby(\"Detected District\").size().keys()\n",
    "for i in range(len(districts)):\n",
    "    flag=0\n",
    "    for shape in district_file.shapeRecords():\n",
    "        if(\"&\" in shape.record[0]): # for e.g J & K converted to J and K\n",
    "            shape.record[0]=shape.record[0].replace(\"&\",\"and\")\n",
    "        if(shape.record[0] in ['East','West','North','South','North West','North East','South East','South West']):\n",
    "            shape.record[0]=shape.record[0]+\" \"+shape.record[1].split(\" \")[-1]\n",
    "        if(shape.record[0].lower()==districts[i].lower() or (districts[i].lower() in district_mapping.keys() and shape.record[0].lower()==district_mapping[districts[i].lower()].lower())):\n",
    "            flag=1\n",
    "            break\n",
    "    #List of districts not found in the updated covid19 dataset\n",
    "    if(flag==0):\n",
    "        print(districts[i])\n",
    "        "
   ]
  },
  {
   "cell_type": "markdown",
   "metadata": {
    "colab_type": "text",
    "id": "iHOQR0SMOXJF"
   },
   "source": [
    "Generating layers for all districts"
   ]
  },
  {
   "cell_type": "code",
   "execution_count": 72,
   "metadata": {
    "colab": {},
    "colab_type": "code",
    "id": "Jdx2HODwOTO5",
    "scrolled": true
   },
   "outputs": [],
   "source": [
    "districts_affected = data.groupby([\"Detected District\"]).size()\n",
    "districts=np.array(districts_affected.keys())\n",
    "district_layer=[]\n",
    "for shape in district_file.shapeRecords(): #iterating through the census shapefile\n",
    "    #print(shape.record[0])\n",
    "    total_cases=0\n",
    "    \n",
    "    if(\"&\" in shape.record[0]): # for e.g J & K converted to J and K\n",
    "        shape.record[0]=shape.record[0].replace(\"&\",\"and\")\n",
    "    if(shape.record[0] in ['East','West','North','South','North West','North East','South East','South West','Central']):\n",
    "        shape.record[0]=shape.record[0]+\" \"+shape.record[1].split(\" \")[-1]\n",
    "    \n",
    "    # If district name exists in district_mappping dictionary we assign no. of total_cases to 'total_cases'           \n",
    "    if shape.record[0] in district_mapping.values():\n",
    "        total_cases,recovered,deceased=get_cases(shape.record[0],district_mapping,\"District\")\n",
    "\n",
    "        \n",
    "    # if district name exists in covid19 dataset we assign no. of total_cases to 'total_cases'\n",
    "    elif shape.record[0] in districts:\n",
    "        total_cases=data.groupby(\"Detected District\").size()[shape.record[0]]\n",
    "        recovered,deceased=get_deceased_and_recovered(shape.record[0],\"District\")\n",
    "        \n",
    "    if(total_cases==0):\n",
    "        continue\n",
    "        \n",
    "    latlong_islands=extract_boundaries(shape.shape)\n",
    "    district_layer.extend(add_layers(latlong_islands,total_cases,\"District\")) #U may add color parameter here --Srinjoy\n",
    "        \n",
    "     # Appending the final Layer and adding a symbol_on_click service with it\n",
    "    center=[(min(np.array(shape.shape.points[:])[:,1])+max(np.array(shape.shape.points[:])[:,1]))/2,(min(np.array(shape.shape.points[:])[:,0])+max(np.array(shape.shape.points[:])[:,0]))/2]\n",
    "    district_layer.extend(add_layers_with_symbol(latlong_islands[-1],center,shape.record[0],total_cases,recovered,deceased,\"District\")) #U may add color parameter here --Srinjoy\n",
    "            \n",
    "\n",
    "        \n",
    "    "
   ]
  },
  {
   "cell_type": "markdown",
   "metadata": {
    "colab_type": "text",
    "id": "MDFuG5DlObme"
   },
   "source": [
    "Plotting on map"
   ]
  },
  {
   "cell_type": "code",
   "execution_count": 73,
   "metadata": {
    "colab": {
     "base_uri": "https://localhost:8080/",
     "height": 17,
     "referenced_widgets": [
      "d866facc72e8465dbdd08d475e5c24fa"
     ]
    },
    "colab_type": "code",
    "id": "4SIs5nh0OZbp",
    "outputId": "c174cc63-6685-488d-f38a-ddd1417de336"
   },
   "outputs": [
    {
     "data": {
      "application/vnd.jupyter.widget-view+json": {
       "model_id": "04a3987ff31b42058e4137d4aca8b6fb",
       "version_major": 2,
       "version_minor": 0
      },
      "text/plain": [
       "VBox(children=(Figure(layout=FigureLayout(height='420px')), HBox(children=(HTML(value='<span style=\"color: rgb…"
      ]
     },
     "metadata": {},
     "output_type": "display_data"
    }
   ],
   "source": [
    "fig = gmaps.figure(center=(23.2599, 77.4126), zoom_level=4,display_toolbar=False,)\n",
    "for i in range(len(district_layer)):\n",
    "    fig.add_layer(district_layer[i])\n",
    "interval=[\"Less than 10\",\"Less than 15\",\"Less than 20\",\"Less than 40\",\"Less than 50\",\"Less than 60\",\"Less than 70\",\"Greater than 700\"]\n",
    "legend=get_legend(interval)\n",
    "widgets.VBox([fig, legend])\n"
   ]
  },
  {
   "cell_type": "markdown",
   "metadata": {},
   "source": [
    "# States"
   ]
  },
  {
   "cell_type": "code",
   "execution_count": 74,
   "metadata": {},
   "outputs": [],
   "source": [
    "# Maps corona dataset states to census data states\n",
    "state_mapping = {\n",
    "    # new covid : old 2011\n",
    "    'Jammu and Kashmir' :'Jammu & Kashmir',\n",
    "    'Ladakh' :'Jammu & Kashmir',\n",
    "    'Delhi': 'NCT of Delhi',\n",
    "    'Arunachal Pradesh' :'Arunanchal Pradesh' ,\n",
    "    'Andaman and Nicobar Islands': 'Andaman & Nicobar Island',\n",
    "    'Dadra and Nagar Haveli':'Dadara & Nagar Havelli',\n",
    "    '': '',\n",
    "   \n",
    "}\n",
    "state_mapping={k.lower(): v for k, v in state_mapping.items()}"
   ]
  },
  {
   "cell_type": "markdown",
   "metadata": {},
   "source": [
    "To check if update is required to the dictionary (optional)"
   ]
  },
  {
   "cell_type": "code",
   "execution_count": 75,
   "metadata": {},
   "outputs": [
    {
     "name": "stdout",
     "output_type": "stream",
     "text": [
      "\n"
     ]
    }
   ],
   "source": [
    "states_affected = data.groupby([\"Detected State\"]).size()\n",
    "states=np.array(states_affected.keys())\n",
    "for i in range(len(states)):\n",
    "    flag=0\n",
    "    for shape in state_file.shapeRecords():\n",
    "        if(shape.record[0].lower()==states[i].lower() or (states[i].lower() in state_mapping.keys() and shape.record[0].lower()==state_mapping[states[i].lower()].lower())):\n",
    "            flag=1\n",
    "            break\n",
    "    #List of states not found in the updated covid19 dataset\n",
    "    if(flag==0):\n",
    "        print(states[i])"
   ]
  },
  {
   "cell_type": "markdown",
   "metadata": {},
   "source": [
    "Generating layers for all states"
   ]
  },
  {
   "cell_type": "code",
   "execution_count": 76,
   "metadata": {},
   "outputs": [],
   "source": [
    "states_affected = data.groupby([\"Detected State\"]).size()\n",
    "states=np.array(states_affected.keys())\n",
    "states_layer=[]\n",
    "for shape in state_file.shapeRecords():\n",
    "    #print(shape.record[0])\n",
    "    total_cases=0\n",
    "    \n",
    "    # If state name exists in state_mappping dictionary we assign no. of total_cases to 'total_cases'            \n",
    "    if shape.record[0] in state_mapping.values():\n",
    "        total_cases,recovered,deceased=get_cases(shape.record[0],state_mapping,\"State\")\n",
    "        \n",
    "    # if state name exists in covid19 dataset we assign no. of total_cases to 'total_cases'   \n",
    "    elif shape.record[0] in states:\n",
    "        total_cases=data.groupby(\"Detected State\").size()[shape.record[0]]\n",
    "        recovered,deceased=get_deceased_and_recovered(shape.record[0],\"State\")\n",
    "    \n",
    "    latlong_islands=extract_boundaries(shape.shape)\n",
    "    states_layer.extend(add_layers(latlong_islands,total_cases,\"State\")) #U may add color parameter here --Srinjoy\n",
    "\n",
    "     # Appending the final Layer and adding a symbol_on_click service with it\n",
    "    center=[(min(np.array(shape.shape.points[:])[:,1])+max(np.array(shape.shape.points[:])[:,1]))/2,(min(np.array(shape.shape.points[:])[:,0])+max(np.array(shape.shape.points[:])[:,0]))/2]\n",
    "    if(shape.record[0]=='Puducherry'): #Includes certain colonies in Maharashtra as well which creates problems while selecting infobox position\n",
    "        center=[(min(np.array(latlong_islands[4])[:,0])+max(np.array(latlong_islands[4])[:,0]))/2,(min(np.array(latlong_islands[4])[:,1])+max(np.array(latlong_islands[4])[:,1]))/2]\n",
    "    \n",
    "    states_layer.extend(add_layers_with_symbol(latlong_islands[-1],center,shape.record[0],total_cases,recovered,deceased,\"State\")) #U may add color parameter here --Srinjoy\n",
    "            \n"
   ]
  },
  {
   "cell_type": "markdown",
   "metadata": {},
   "source": [
    "Plotting on map"
   ]
  },
  {
   "cell_type": "code",
   "execution_count": 77,
   "metadata": {},
   "outputs": [
    {
     "data": {
      "application/vnd.jupyter.widget-view+json": {
       "model_id": "84ec7cc0b52f47a88d7aadfb0fa147dd",
       "version_major": 2,
       "version_minor": 0
      },
      "text/plain": [
       "VBox(children=(Figure(layout=FigureLayout(height='420px')), HBox(children=(HTML(value='<span style=\"color: rgb…"
      ]
     },
     "metadata": {},
     "output_type": "display_data"
    }
   ],
   "source": [
    "fig = gmaps.figure(center=(23.2599, 77.4126), zoom_level=4,display_toolbar=False)\n",
    "for i in range(len(states_layer)):\n",
    "    fig.add_layer(states_layer[i])\n",
    "interval=[\"No cases\",\"Less than 10\",\"Less than 50\",\"Less than 100\",\"Less than 200\",\"Less than 400\",\"Less than 700\",\"Greater than 700\"]\n",
    "legend=get_legend(interval)\n",
    "widgets.VBox([fig, legend])"
   ]
  },
  {
   "cell_type": "code",
   "execution_count": null,
   "metadata": {},
   "outputs": [],
   "source": []
  }
 ],
 "metadata": {
  "colab": {
   "collapsed_sections": [],
   "name": "India_Corona_Analysis.ipynb",
   "provenance": []
  },
  "kernelspec": {
   "display_name": "Python 3",
   "language": "python",
   "name": "python3"
  },
  "language_info": {
   "codemirror_mode": {
    "name": "ipython",
    "version": 3
   },
   "file_extension": ".py",
   "mimetype": "text/x-python",
   "name": "python",
   "nbconvert_exporter": "python",
   "pygments_lexer": "ipython3",
   "version": "3.7.3"
  },
  "widgets": {
   "application/vnd.jupyter.widget-state+json": {
    "58b6615fca0d448fbb6dbb657748169c": {
     "model_module": "jupyter-gmaps",
     "model_name": "FigureModel",
     "state": {
      "_dom_classes": [],
      "_errors_box": "IPY_MODEL_21e9655a25a24b73ae4db0200a4886e4",
      "_map": "IPY_MODEL_de49a2c547de4d3b8f54a6f49fb2042d",
      "_model_module": "jupyter-gmaps",
      "_model_module_version": "0.9.0",
      "_model_name": "FigureModel",
      "_toolbar": "IPY_MODEL_0f85daa509fd4328a6af5723b2760068",
      "_view_count": null,
      "_view_module": "jupyter-gmaps",
      "_view_module_version": "0.9.0",
      "_view_name": "FigureView",
      "layout": "IPY_MODEL_2f94788f878644559d33b9ebc1f11a5c"
     }
    },
    "7d54aa7dfe864c4397aa1cf0c23b08b5": {
     "model_module": "jupyter-gmaps",
     "model_name": "FigureModel",
     "state": {
      "_dom_classes": [],
      "_errors_box": "IPY_MODEL_c6230d3e09db411d9c69e0832b0f9904",
      "_map": "IPY_MODEL_695652d02e9b4b2d8e809e8832fa0ea8",
      "_model_module": "jupyter-gmaps",
      "_model_module_version": "0.9.0",
      "_model_name": "FigureModel",
      "_toolbar": "IPY_MODEL_7a90df5940f846f4a6c8c4658cf8d09d",
      "_view_count": null,
      "_view_module": "jupyter-gmaps",
      "_view_module_version": "0.9.0",
      "_view_name": "FigureView",
      "layout": "IPY_MODEL_06001c53f8ba4e60a9b7937e0d1f52a4"
     }
    },
    "d866facc72e8465dbdd08d475e5c24fa": {
     "model_module": "jupyter-gmaps",
     "model_name": "FigureModel",
     "state": {
      "_dom_classes": [],
      "_errors_box": "IPY_MODEL_30f5338cb25242dbb02b778912143cfd",
      "_map": "IPY_MODEL_944a8d80c1704b5bbe39798d388efb84",
      "_model_module": "jupyter-gmaps",
      "_model_module_version": "0.9.0",
      "_model_name": "FigureModel",
      "_toolbar": null,
      "_view_count": null,
      "_view_module": "jupyter-gmaps",
      "_view_module_version": "0.9.0",
      "_view_name": "FigureView",
      "layout": "IPY_MODEL_e9319051da6145d8bfb36c37bb360d97"
     }
    }
   }
  }
 },
 "nbformat": 4,
 "nbformat_minor": 1
}
